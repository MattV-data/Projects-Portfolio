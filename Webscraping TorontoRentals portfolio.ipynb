{
 "cells": [
  {
   "cell_type": "markdown",
   "metadata": {},
   "source": [
    "## Webscraping TorontoRentals.com "
   ]
  },
  {
   "cell_type": "markdown",
   "metadata": {},
   "source": [
    "### At the time I was moving and was interested at the going rental rates of condos in the various boroughs of Toronto"
   ]
  },
  {
   "cell_type": "code",
   "execution_count": null,
   "metadata": {},
   "outputs": [],
   "source": []
  },
  {
   "cell_type": "code",
   "execution_count": 2,
   "metadata": {},
   "outputs": [],
   "source": [
    "from bs4 import BeautifulSoup # For HTML parsing\n",
    "import requests # Website connections\n",
    "from time import sleep # To prevent overwhelming the server between connections\n",
    "from collections import Counter # Keep track of our term counts\n",
    "import pandas as pd # For converting results to a dataframe and bar chart plots\n",
    "import json # For parsing json\n",
    "%matplotlib inline\n",
    "from random import randint\n",
    "import matplotlib.pyplot as plt\n",
    "import numpy as np"
   ]
  },
  {
   "cell_type": "markdown",
   "metadata": {},
   "source": [
    "## Making a request"
   ]
  },
  {
   "cell_type": "code",
   "execution_count": 3,
   "metadata": {},
   "outputs": [],
   "source": [
    "page_url = 'https://www.torontorentals.com/toronto/condos?beds=2B'"
   ]
  },
  {
   "cell_type": "code",
   "execution_count": 4,
   "metadata": {},
   "outputs": [],
   "source": [
    "response_toronto = requests.get(page_url)"
   ]
  },
  {
   "cell_type": "markdown",
   "metadata": {},
   "source": [
    "## Request Status"
   ]
  },
  {
   "cell_type": "code",
   "execution_count": 5,
   "metadata": {},
   "outputs": [
    {
     "data": {
      "text/plain": [
       "200"
      ]
     },
     "execution_count": 5,
     "metadata": {},
     "output_type": "execute_result"
    }
   ],
   "source": [
    "response_toronto.status_code"
   ]
  },
  {
   "cell_type": "code",
   "execution_count": 6,
   "metadata": {},
   "outputs": [
    {
     "data": {
      "text/plain": [
       "{'Date': 'Fri, 03 Jul 2020 19:44:13 GMT', 'Content-Type': 'text/html; charset=utf-8', 'Transfer-Encoding': 'chunked', 'Connection': 'keep-alive', 'Set-Cookie': '__cfduid=d179f937a12c7006b7809e8d5c98cca7b1593805445; expires=Sun, 02-Aug-20 19:44:05 GMT; path=/; domain=.torontorentals.com; HttpOnly; SameSite=Lax', 'Vary': 'Accept-Encoding, Cookie', 'Cache-Control': 'max-age=14400', 'CF-Cache-Status': 'MISS', 'cf-request-id': '03b7ce2ff00000f0bd07064200000001', 'Expect-CT': 'max-age=604800, report-uri=\"https://report-uri.cloudflare.com/cdn-cgi/beacon/expect-ct\"', 'Server': 'cloudflare', 'CF-RAY': '5ad3195fec5cf0bd-IAD', 'Content-Encoding': 'gzip'}"
      ]
     },
     "execution_count": 6,
     "metadata": {},
     "output_type": "execute_result"
    }
   ],
   "source": [
    "response_toronto.headers"
   ]
  },
  {
   "cell_type": "code",
   "execution_count": 2,
   "metadata": {},
   "outputs": [],
   "source": [
    "#response_toronto.content (code muted for portfolio purposes)"
   ]
  },
  {
   "cell_type": "markdown",
   "metadata": {},
   "source": [
    "## BeautifulSoup object to parse content"
   ]
  },
  {
   "cell_type": "code",
   "execution_count": 8,
   "metadata": {},
   "outputs": [],
   "source": [
    "soup = BeautifulSoup(response_toronto.content)"
   ]
  },
  {
   "cell_type": "code",
   "execution_count": 3,
   "metadata": {},
   "outputs": [],
   "source": [
    "#soup (code muted for portfolio purposes)"
   ]
  },
  {
   "cell_type": "markdown",
   "metadata": {},
   "source": [
    "## Taking city, types, beds as parameters"
   ]
  },
  {
   "cell_type": "code",
   "execution_count": 10,
   "metadata": {
    "scrolled": true
   },
   "outputs": [],
   "source": [
    "def url_get(city, types, beds):\n",
    "    url = f'https://www.torontorentals.com/{city}/{types}?beds={beds}%2B'\n",
    "    response_toronto = requests.get(url)\n",
    "    soup = BeautifulSoup(response_toronto.content)\n",
    "    return soup\n",
    "\n",
    "soup=url_get('toronto', 'condos', '2')\n"
   ]
  },
  {
   "cell_type": "code",
   "execution_count": 11,
   "metadata": {},
   "outputs": [
    {
     "data": {
      "text/plain": [
       "['- M5A 3N8',\n",
       " '- M1H 3G6',\n",
       " '- M1H 3J2',\n",
       " '- M1H 3H3',\n",
       " '- M1S 0L7',\n",
       " '- M1P 0B1',\n",
       " '- M1P 0B1',\n",
       " '- M1H 3H3',\n",
       " '- M1P 0B1',\n",
       " '- M1H 3K2',\n",
       " '-']"
      ]
     },
     "execution_count": 11,
     "metadata": {},
     "output_type": "execute_result"
    }
   ],
   "source": [
    "#postal codes\n",
    "postal_codes = []\n",
    "for PostalCode in soup.find_all('span', class_='replace zip'):\n",
    "    if PostalCode.get_text(strip=True) == '':\n",
    "        pass\n",
    "    else:\n",
    "        postal_codes.append(PostalCode.get_text(strip=True))\n",
    "postal_codes"
   ]
  },
  {
   "cell_type": "code",
   "execution_count": 12,
   "metadata": {},
   "outputs": [
    {
     "data": {
      "text/plain": [
       "['$3,985',\n",
       " '$2,450',\n",
       " '$2,500',\n",
       " '$2,300',\n",
       " '$2,900',\n",
       " '$2,350',\n",
       " '$2,100',\n",
       " '$2,350',\n",
       " '$2,150',\n",
       " '$2,100',\n",
       " '']"
      ]
     },
     "execution_count": 12,
     "metadata": {},
     "output_type": "execute_result"
    }
   ],
   "source": [
    "#price\n",
    "[Price.get_text(strip=True) for Price in soup.find_all('span', class_='replace rent')]"
   ]
  },
  {
   "cell_type": "code",
   "execution_count": 13,
   "metadata": {},
   "outputs": [
    {
     "name": "stdout",
     "output_type": "stream",
     "text": [
      "4Bd\n",
      "2Bd\n",
      "2Bd\n",
      "2Bd\n",
      "4Bd\n",
      "2Bd\n",
      "2Bd\n",
      "2Bd\n",
      "2Bd\n",
      "2Bd\n",
      "Bd\n"
     ]
    }
   ],
   "source": [
    "#bedroom \n",
    "for beds in soup.find_all('div',class_='bottom-line d-xl-none'):\n",
    "    print(beds.find('span',class_='beds finer-detail').get_text(strip=True))"
   ]
  },
  {
   "cell_type": "code",
   "execution_count": 14,
   "metadata": {},
   "outputs": [],
   "source": [
    "def get_page(city, types, beds, page):\n",
    "    \n",
    "    url = f'https://www.torontorentals.com/{city}/{types}?beds={beds}&p={page}'\n",
    "    response = requests.get(url)\n",
    "    soup = BeautifulSoup(response.content, 'lxml')\n",
    "    return soup"
   ]
  },
  {
   "cell_type": "code",
   "execution_count": 15,
   "metadata": {},
   "outputs": [],
   "source": [
    "data = {\n",
    "    'monthly_rent': [],\n",
    "    'postal_code': [],\n",
    "    'square_feet': []\n",
    "}\n",
    "\n",
    "for page in range(1, 200//11 + 1):\n",
    "    soup = get_page('toronto', 'condos', '2', page)\n",
    "    \n",
    "    sleep(randint(1,5))\n",
    "    \n",
    "    for tag in soup.find_all('span', class_ = 'replace rent'):\n",
    "        rent = tag.get_text(strip=True)\n",
    "        if rent == '':\n",
    "            pass\n",
    "        else:\n",
    "            data['monthly_rent'].append(rent)\n",
    "        \n",
    "    for tag in soup.find_all('span', class_ = 'replace zip'):\n",
    "        pcode = tag.get_text(strip=True)[2:]\n",
    "        if pcode == '':\n",
    "            pass\n",
    "        else:\n",
    "            data['postal_code'].append(pcode)\n",
    "            \n",
    "    for each in soup.find_all(class_='paginated-listing'):\n",
    "        try:\n",
    "            data['square_feet'].append(each.find('div',class_='bottom-line d-xl-none').find('span', class_='replace dimensions').get_text(strip=True))\n",
    "        except:\n",
    "            data['square_feet'].append('missing')\n",
    "       \n",
    "\n",
    "#     for sqft in soup.find_all('div',class_='bottom-line d-xl-none'):\n",
    "#         try:\n",
    "#             if sqft.find('span',class_='dims finer-detail').get_text(strip=True) != '':\n",
    "#                 data['square_feet'].append(sqft.find('span',class_='dims finer-detail').get_text(strip=True))\n",
    "#         except:\n",
    "#             data['square_feet'].append('missing')"
   ]
  },
  {
   "cell_type": "code",
   "execution_count": 16,
   "metadata": {
    "scrolled": true
   },
   "outputs": [
    {
     "data": {
      "text/plain": [
       "['',\n",
       " '1100ft2',\n",
       " '950ft2',\n",
       " '850ft2',\n",
       " '1500ft2',\n",
       " '900ft2',\n",
       " '800ft2',\n",
       " '900ft2',\n",
       " '700ft2',\n",
       " '750ft2',\n",
       " '1100ft2',\n",
       " '900ft2',\n",
       " '850ft2',\n",
       " '785ft2',\n",
       " '1100ft2',\n",
       " '800ft2',\n",
       " '950ft2',\n",
       " '900ft2',\n",
       " '1400ft2',\n",
       " '850ft2',\n",
       " '850ft2',\n",
       " '1200ft2',\n",
       " '1500ft2',\n",
       " '890ft2',\n",
       " '700ft2',\n",
       " '900ft2',\n",
       " '1100ft2',\n",
       " '728ft2',\n",
       " '650ft2',\n",
       " '750ft2',\n",
       " '700ft2',\n",
       " '1100ft2',\n",
       " '850ft2',\n",
       " '750ft2',\n",
       " '850ft2',\n",
       " '700ft2',\n",
       " '900ft2',\n",
       " '800ft2',\n",
       " '870ft2',\n",
       " '850ft2',\n",
       " '850ft2',\n",
       " '932ft2',\n",
       " '1000ft2',\n",
       " '800ft2',\n",
       " '800ft2',\n",
       " '1000ft2',\n",
       " '1100ft2',\n",
       " '950ft2',\n",
       " '1100ft2',\n",
       " '954ft2',\n",
       " '1000ft2',\n",
       " '1085ft2',\n",
       " '2050ft2',\n",
       " '932ft2',\n",
       " '1100ft2',\n",
       " '850ft2',\n",
       " '1250ft2',\n",
       " '850ft2',\n",
       " '850ft2',\n",
       " '1000ft2',\n",
       " '900ft2',\n",
       " '850ft2',\n",
       " '650ft2',\n",
       " '1300ft2',\n",
       " '932ft2',\n",
       " '1100ft2',\n",
       " '850ft2',\n",
       " '950ft2',\n",
       " '850ft2',\n",
       " '850ft2',\n",
       " '750ft2',\n",
       " '850ft2',\n",
       " '900ft2',\n",
       " '850ft2',\n",
       " '850ft2',\n",
       " '950ft2',\n",
       " '850ft2',\n",
       " '1367ft2',\n",
       " '932ft2',\n",
       " '1100ft2',\n",
       " '750ft2',\n",
       " '750ft2',\n",
       " '840ft2',\n",
       " '800ft2',\n",
       " '800899ft2',\n",
       " '800ft2',\n",
       " '650ft2',\n",
       " '900ft2',\n",
       " '878ft2',\n",
       " '',\n",
       " '620ft2',\n",
       " '',\n",
       " '791ft2',\n",
       " '782ft2',\n",
       " '',\n",
       " '',\n",
       " '938ft2',\n",
       " '669ft2',\n",
       " '935ft2',\n",
       " '',\n",
       " '870ft2',\n",
       " '',\n",
       " '1200ft2',\n",
       " '',\n",
       " '840ft2',\n",
       " '',\n",
       " '800ft2',\n",
       " '',\n",
       " '1200ft2',\n",
       " '',\n",
       " '497-600ft2',\n",
       " '896ft2',\n",
       " '',\n",
       " '765ft2',\n",
       " '',\n",
       " '',\n",
       " '800ft2',\n",
       " '',\n",
       " '',\n",
       " '',\n",
       " '750ft2',\n",
       " '762ft2',\n",
       " '900ft2',\n",
       " '635ft2',\n",
       " '900ft2',\n",
       " '',\n",
       " '',\n",
       " '',\n",
       " '',\n",
       " '560ft2',\n",
       " '',\n",
       " '',\n",
       " '854ft2',\n",
       " '1000ft2',\n",
       " '',\n",
       " '',\n",
       " '',\n",
       " '569ft2',\n",
       " '725ft2',\n",
       " '',\n",
       " '',\n",
       " '',\n",
       " '',\n",
       " '',\n",
       " '572ft2',\n",
       " '820ft2',\n",
       " '808ft2',\n",
       " '860ft2',\n",
       " '592ft2',\n",
       " '1400ft2',\n",
       " '1200ft2',\n",
       " '932ft2',\n",
       " '',\n",
       " '833ft2',\n",
       " '800ft2',\n",
       " '1200ft2',\n",
       " '',\n",
       " '850ft2',\n",
       " '1100ft2',\n",
       " '950ft2',\n",
       " '660ft2',\n",
       " '710ft2',\n",
       " '',\n",
       " '900ft2',\n",
       " '',\n",
       " '',\n",
       " '700ft2',\n",
       " '1100ft2',\n",
       " '900ft2',\n",
       " '365-1230ft2',\n",
       " '',\n",
       " '',\n",
       " '773ft2',\n",
       " '850ft2',\n",
       " '',\n",
       " '1055ft2',\n",
       " '',\n",
       " '',\n",
       " '795ft2',\n",
       " '1244ft2']"
      ]
     },
     "execution_count": 16,
     "metadata": {},
     "output_type": "execute_result"
    }
   ],
   "source": [
    "data['square_feet']"
   ]
  },
  {
   "cell_type": "code",
   "execution_count": 17,
   "metadata": {},
   "outputs": [
    {
     "data": {
      "text/plain": [
       "['M5A 3N8',\n",
       " 'M1H 3G6',\n",
       " 'M1H 3J2',\n",
       " 'M1H 3H3',\n",
       " 'M1S 0L7',\n",
       " 'M1P 0B1',\n",
       " 'M1P 0B1',\n",
       " 'M1H 3H3',\n",
       " 'M1P 0B1',\n",
       " 'M1H 3K2',\n",
       " 'M1H 3G5',\n",
       " 'M1P 0A9',\n",
       " 'M1H 3H3',\n",
       " 'M1H 0A2',\n",
       " 'M1H 3H3',\n",
       " 'M1H 3J7',\n",
       " 'M1P 0B2',\n",
       " 'M1K 5J3',\n",
       " 'M1W 3V4',\n",
       " 'M1H 3H5',\n",
       " 'M1H 3J5',\n",
       " 'M1P 0B5',\n",
       " 'M1V 5E9',\n",
       " 'M1H 3J2',\n",
       " 'M1N 1C8',\n",
       " 'M1P 5J5',\n",
       " 'M1W 3W2',\n",
       " 'M1S 0L1',\n",
       " 'M1H 3K2',\n",
       " 'M1H 3J5',\n",
       " 'M1P 0B1',\n",
       " 'M1H 3H3',\n",
       " 'M1P 5E5',\n",
       " 'M1H 3K2',\n",
       " 'M1P 0B2',\n",
       " 'M1P 0B1',\n",
       " 'M1H 3J2',\n",
       " 'M1S 0L1',\n",
       " 'M1P 0B2',\n",
       " 'M1H 3K2',\n",
       " 'M1H 3K2',\n",
       " 'M1E 5E6',\n",
       " 'M1J 3K4',\n",
       " 'M1H 3J7',\n",
       " 'M1P 0B2',\n",
       " 'None',\n",
       " 'M1S 1T1',\n",
       " 'M1P 0B2',\n",
       " 'M1W 3W1',\n",
       " 'M1V 5M3',\n",
       " 'M1P 4Z4',\n",
       " 'M1N 1C8',\n",
       " 'M1S 3H1',\n",
       " 'M1E 5E6',\n",
       " 'M1S 4L1',\n",
       " 'M1S 0K5',\n",
       " 'M1V 4X9',\n",
       " 'M1H 3J5',\n",
       " 'M1H 3K2',\n",
       " 'M1H 3G5',\n",
       " 'M1K 5J3',\n",
       " 'M1P 0A9',\n",
       " 'M1P 0B1',\n",
       " 'M1E 4V4',\n",
       " 'M1E 5E6',\n",
       " 'M1H 3G5',\n",
       " 'M1H 3K2',\n",
       " 'M1H 3J2',\n",
       " 'M1H 3J7',\n",
       " 'M1H 3K2',\n",
       " 'M1H 3K2',\n",
       " 'M1H 3J7',\n",
       " 'M1K 5J3',\n",
       " 'M1H 3J5',\n",
       " 'M1H 3K2',\n",
       " 'M1H 3H3',\n",
       " 'M1H 3J7',\n",
       " 'M1K 5J3',\n",
       " 'M1E 5E6',\n",
       " 'L4J 7K9',\n",
       " 'L4K 0K6',\n",
       " 'L4K 2M7',\n",
       " 'L4L 0G7',\n",
       " 'L4K 1W8',\n",
       " 'L4K 1W8',\n",
       " 'L4L 0G7',\n",
       " 'L4K 2M7',\n",
       " 'L4L 1A6',\n",
       " 'L4K 0G3',\n",
       " 'M4M 0E9',\n",
       " 'M4M',\n",
       " 'M5J 0B1',\n",
       " 'M5V 1J6',\n",
       " 'M5V 3W5',\n",
       " 'M5B 1M4',\n",
       " 'M4P 0A5',\n",
       " 'M5V 3Y3',\n",
       " 'M5A 1Z4',\n",
       " 'M5A 0N8',\n",
       " 'M5A 4E8',\n",
       " 'M5P 1H1',\n",
       " 'M4L 6T1',\n",
       " 'M5V 3V6',\n",
       " 'M5E 0B7',\n",
       " 'M5J 2Y6',\n",
       " 'M4S 2B1',\n",
       " 'M5V 3G8',\n",
       " 'M5J 2L9',\n",
       " 'M5E 1Z9',\n",
       " 'M5B 2C2',\n",
       " 'M5S 0C6',\n",
       " 'M5S 0A5',\n",
       " 'M6J 0B1',\n",
       " 'M5V 1T6',\n",
       " 'M5A 1M1',\n",
       " 'M5A 0G4',\n",
       " 'M5B 0B1',\n",
       " 'M4Y 1L5',\n",
       " 'M4M',\n",
       " 'M5J 0C3',\n",
       " 'M5V 0G6',\n",
       " 'M4P 3J9',\n",
       " 'None',\n",
       " 'M4V 2K3',\n",
       " 'M4X 1L1',\n",
       " 'M5A 4R6',\n",
       " 'M5V 1C1',\n",
       " 'M5J 0B1',\n",
       " 'M5E 1Z9',\n",
       " 'M6J 0A9',\n",
       " 'M4Y 2C2',\n",
       " 'M6K 3P8',\n",
       " 'M5B 1L3',\n",
       " 'M5V 1C1',\n",
       " 'M5E 0A4',\n",
       " 'M5J 3A3',\n",
       " 'M5G 2J9',\n",
       " 'M5V 0L7',\n",
       " 'M4Y 1E8',\n",
       " 'M5V 0M2',\n",
       " 'M5A 4S9',\n",
       " 'M5J 1J5',\n",
       " 'M5V 0C4',\n",
       " 'M5V 3W6',\n",
       " 'M5B 2C2',\n",
       " 'M5G 2K2',\n",
       " 'M5V 0J9',\n",
       " 'M4Y 2C2',\n",
       " 'M5B 2C2',\n",
       " 'M5V 0A1',\n",
       " 'M5V 0M2',\n",
       " 'M4Y 1T1',\n",
       " 'M5B 0A9',\n",
       " 'M5V 2J5',\n",
       " 'M4Y 3G5',\n",
       " 'M5V 3V1',\n",
       " 'M4P 0C8',\n",
       " 'M5V 0J9',\n",
       " 'M4P 3J9',\n",
       " 'M5E 0A2',\n",
       " 'M5V 0K3',\n",
       " 'M4M',\n",
       " 'M4Y 1T1',\n",
       " 'M5A 1J2',\n",
       " 'M4S 0B1',\n",
       " 'M6J 3K6',\n",
       " 'M4P 1A2',\n",
       " 'M6S 3N4',\n",
       " 'M4S 1L3',\n",
       " 'M5V 3T5',\n",
       " 'M5V 4A2',\n",
       " 'M6H 4K6',\n",
       " 'M5J 3A3',\n",
       " 'M6K 3S2',\n",
       " 'M5J 2X1',\n",
       " 'M5V 4B3',\n",
       " 'M5H 0B1',\n",
       " 'M5V 4A5',\n",
       " 'M4S 0B9',\n",
       " 'M5R 2H7']"
      ]
     },
     "execution_count": 17,
     "metadata": {},
     "output_type": "execute_result"
    }
   ],
   "source": [
    "data['postal_code']"
   ]
  },
  {
   "cell_type": "code",
   "execution_count": 18,
   "metadata": {},
   "outputs": [
    {
     "data": {
      "text/plain": [
       "['$3,985',\n",
       " '$2,450',\n",
       " '$2,500',\n",
       " '$2,300',\n",
       " '$2,900',\n",
       " '$2,350',\n",
       " '$2,100',\n",
       " '$2,350',\n",
       " '$2,150',\n",
       " '$2,100',\n",
       " '$2,450',\n",
       " '$2,600',\n",
       " '$2,300',\n",
       " '$2,000',\n",
       " '$2,700',\n",
       " '$2,250',\n",
       " '$2,880',\n",
       " '$2,300',\n",
       " '$2,500',\n",
       " '$2,300',\n",
       " '$2,490',\n",
       " '$2,800',\n",
       " '$2,450',\n",
       " '$2,200',\n",
       " '$2,150',\n",
       " '$2,800',\n",
       " '$2,200',\n",
       " '$2,200',\n",
       " '$2,100',\n",
       " '$2,100',\n",
       " '$2,200',\n",
       " '$2,700',\n",
       " '$2,600',\n",
       " '$2,000',\n",
       " '$2,700',\n",
       " '$2,100',\n",
       " '$2,150',\n",
       " '$2,650',\n",
       " '$2,900',\n",
       " '$2,400',\n",
       " '$2,500',\n",
       " '$2,250',\n",
       " '$2,300',\n",
       " '$2,250',\n",
       " '$2,500',\n",
       " '$2,750',\n",
       " '$2,300',\n",
       " '$2,900',\n",
       " '$2,220',\n",
       " '$2,200',\n",
       " '$2,300',\n",
       " '$3,150',\n",
       " '$2,250',\n",
       " '$2,250',\n",
       " '$2,000',\n",
       " '$2,250',\n",
       " '$2,100',\n",
       " '$2,500',\n",
       " '$2,350',\n",
       " '$2,400',\n",
       " '$2,300',\n",
       " '$2,450',\n",
       " '$2,400',\n",
       " '$2,450',\n",
       " '$2,250',\n",
       " '$2,500',\n",
       " '$2,500',\n",
       " '$2,400',\n",
       " '$2,450',\n",
       " '$2,350',\n",
       " '$2,000',\n",
       " '$2,450',\n",
       " '$2,300',\n",
       " '$2,500',\n",
       " '$2,350',\n",
       " '$2,500',\n",
       " '$2,150',\n",
       " '$2,400',\n",
       " '$2,250',\n",
       " '$2,450',\n",
       " '$2,100',\n",
       " '$2,200',\n",
       " '$2,500',\n",
       " '$2,150',\n",
       " '$2,350',\n",
       " '$2,650',\n",
       " '$2,200',\n",
       " '$2,500',\n",
       " '$2,600',\n",
       " '$3,750',\n",
       " '$2,200',\n",
       " '$2,799',\n",
       " '$3,000',\n",
       " '$3,000',\n",
       " '$2,975',\n",
       " '$2,950',\n",
       " '$3,300',\n",
       " '$2,500',\n",
       " '$3,600',\n",
       " '$3,000',\n",
       " '$2,700',\n",
       " '$4,000',\n",
       " '$6,000',\n",
       " '$3,500',\n",
       " '$3,250',\n",
       " '$3,200',\n",
       " '$2,300',\n",
       " '$3,800',\n",
       " '$2,563',\n",
       " '$2,250',\n",
       " '$1,950 - $2,650',\n",
       " '$3,800',\n",
       " '$2,750',\n",
       " '$2,600',\n",
       " '$3,200',\n",
       " '$2,850',\n",
       " '$2,800',\n",
       " '$2,500',\n",
       " '$2,200',\n",
       " '$2,800',\n",
       " '$3,500',\n",
       " '$2,995',\n",
       " '$2,850',\n",
       " '$2,795',\n",
       " '$2,975',\n",
       " '$2,050',\n",
       " '$3,300',\n",
       " '$2,600',\n",
       " '$3,100',\n",
       " '$2,400',\n",
       " '$2,550',\n",
       " '$3,200',\n",
       " '$2,900',\n",
       " '$2,570',\n",
       " '$2,580',\n",
       " '$3,300',\n",
       " '$3,000',\n",
       " '$2,000',\n",
       " '$3,100',\n",
       " '$3,150',\n",
       " '$2,800',\n",
       " '$2,900',\n",
       " '$3,350',\n",
       " '$2,800',\n",
       " '$2,250',\n",
       " '$3,200',\n",
       " '$3,000',\n",
       " '$2,550',\n",
       " '$2,300',\n",
       " '$7,000',\n",
       " '$3,500',\n",
       " '$2,450',\n",
       " '$2,480',\n",
       " '$3,375',\n",
       " '$2,900',\n",
       " '$3,450',\n",
       " '$2,590',\n",
       " '$5,000',\n",
       " '$3,250',\n",
       " '$3,500',\n",
       " '$2,350',\n",
       " '$2,200',\n",
       " '$2,600',\n",
       " '$2,950',\n",
       " '$2,600',\n",
       " '$2,450',\n",
       " '$2,550',\n",
       " '$2,800',\n",
       " '$3,750',\n",
       " '$1,700 - $4,200',\n",
       " '$3,300',\n",
       " '$2,395',\n",
       " '$2,499',\n",
       " '$3,200',\n",
       " '$3,200',\n",
       " '$3,400',\n",
       " '$2,650',\n",
       " '$2,800',\n",
       " '$2,700',\n",
       " '$4,900']"
      ]
     },
     "execution_count": 18,
     "metadata": {},
     "output_type": "execute_result"
    }
   ],
   "source": [
    "data['monthly_rent']"
   ]
  },
  {
   "cell_type": "code",
   "execution_count": 19,
   "metadata": {},
   "outputs": [
    {
     "data": {
      "text/plain": [
       "180"
      ]
     },
     "execution_count": 19,
     "metadata": {},
     "output_type": "execute_result"
    }
   ],
   "source": [
    "len(data['postal_code'])"
   ]
  },
  {
   "cell_type": "code",
   "execution_count": 20,
   "metadata": {},
   "outputs": [
    {
     "data": {
      "text/plain": [
       "180"
      ]
     },
     "execution_count": 20,
     "metadata": {},
     "output_type": "execute_result"
    }
   ],
   "source": [
    "len(data['monthly_rent'])"
   ]
  },
  {
   "cell_type": "code",
   "execution_count": 21,
   "metadata": {},
   "outputs": [
    {
     "data": {
      "text/plain": [
       "180"
      ]
     },
     "execution_count": 21,
     "metadata": {},
     "output_type": "execute_result"
    }
   ],
   "source": [
    "len(data['square_feet'])  "
   ]
  },
  {
   "cell_type": "code",
   "execution_count": 22,
   "metadata": {},
   "outputs": [],
   "source": [
    "torental=pd.DataFrame(data)"
   ]
  },
  {
   "cell_type": "code",
   "execution_count": 23,
   "metadata": {},
   "outputs": [
    {
     "data": {
      "text/html": [
       "<div>\n",
       "<style scoped>\n",
       "    .dataframe tbody tr th:only-of-type {\n",
       "        vertical-align: middle;\n",
       "    }\n",
       "\n",
       "    .dataframe tbody tr th {\n",
       "        vertical-align: top;\n",
       "    }\n",
       "\n",
       "    .dataframe thead th {\n",
       "        text-align: right;\n",
       "    }\n",
       "</style>\n",
       "<table border=\"1\" class=\"dataframe\">\n",
       "  <thead>\n",
       "    <tr style=\"text-align: right;\">\n",
       "      <th></th>\n",
       "      <th>monthly_rent</th>\n",
       "      <th>postal_code</th>\n",
       "      <th>square_feet</th>\n",
       "    </tr>\n",
       "  </thead>\n",
       "  <tbody>\n",
       "    <tr>\n",
       "      <td>0</td>\n",
       "      <td>$3,985</td>\n",
       "      <td>M5A 3N8</td>\n",
       "      <td></td>\n",
       "    </tr>\n",
       "    <tr>\n",
       "      <td>1</td>\n",
       "      <td>$2,450</td>\n",
       "      <td>M1H 3G6</td>\n",
       "      <td>1100ft2</td>\n",
       "    </tr>\n",
       "    <tr>\n",
       "      <td>2</td>\n",
       "      <td>$2,500</td>\n",
       "      <td>M1H 3J2</td>\n",
       "      <td>950ft2</td>\n",
       "    </tr>\n",
       "    <tr>\n",
       "      <td>3</td>\n",
       "      <td>$2,300</td>\n",
       "      <td>M1H 3H3</td>\n",
       "      <td>850ft2</td>\n",
       "    </tr>\n",
       "    <tr>\n",
       "      <td>4</td>\n",
       "      <td>$2,900</td>\n",
       "      <td>M1S 0L7</td>\n",
       "      <td>1500ft2</td>\n",
       "    </tr>\n",
       "    <tr>\n",
       "      <td>...</td>\n",
       "      <td>...</td>\n",
       "      <td>...</td>\n",
       "      <td>...</td>\n",
       "    </tr>\n",
       "    <tr>\n",
       "      <td>175</td>\n",
       "      <td>$3,400</td>\n",
       "      <td>M5V 4B3</td>\n",
       "      <td>1055ft2</td>\n",
       "    </tr>\n",
       "    <tr>\n",
       "      <td>176</td>\n",
       "      <td>$2,650</td>\n",
       "      <td>M5H 0B1</td>\n",
       "      <td></td>\n",
       "    </tr>\n",
       "    <tr>\n",
       "      <td>177</td>\n",
       "      <td>$2,800</td>\n",
       "      <td>M5V 4A5</td>\n",
       "      <td></td>\n",
       "    </tr>\n",
       "    <tr>\n",
       "      <td>178</td>\n",
       "      <td>$2,700</td>\n",
       "      <td>M4S 0B9</td>\n",
       "      <td>795ft2</td>\n",
       "    </tr>\n",
       "    <tr>\n",
       "      <td>179</td>\n",
       "      <td>$4,900</td>\n",
       "      <td>M5R 2H7</td>\n",
       "      <td>1244ft2</td>\n",
       "    </tr>\n",
       "  </tbody>\n",
       "</table>\n",
       "<p>180 rows × 3 columns</p>\n",
       "</div>"
      ],
      "text/plain": [
       "    monthly_rent postal_code square_feet\n",
       "0         $3,985     M5A 3N8            \n",
       "1         $2,450     M1H 3G6     1100ft2\n",
       "2         $2,500     M1H 3J2      950ft2\n",
       "3         $2,300     M1H 3H3      850ft2\n",
       "4         $2,900     M1S 0L7     1500ft2\n",
       "..           ...         ...         ...\n",
       "175       $3,400     M5V 4B3     1055ft2\n",
       "176       $2,650     M5H 0B1            \n",
       "177       $2,800     M5V 4A5            \n",
       "178       $2,700     M4S 0B9      795ft2\n",
       "179       $4,900     M5R 2H7     1244ft2\n",
       "\n",
       "[180 rows x 3 columns]"
      ]
     },
     "execution_count": 23,
     "metadata": {},
     "output_type": "execute_result"
    }
   ],
   "source": [
    "torental"
   ]
  },
  {
   "cell_type": "code",
   "execution_count": 24,
   "metadata": {
    "scrolled": true
   },
   "outputs": [
    {
     "data": {
      "text/plain": [
       "list"
      ]
     },
     "execution_count": 24,
     "metadata": {},
     "output_type": "execute_result"
    }
   ],
   "source": [
    "type(data['postal_code'])"
   ]
  },
  {
   "cell_type": "code",
   "execution_count": 25,
   "metadata": {},
   "outputs": [
    {
     "data": {
      "text/plain": [
       "list"
      ]
     },
     "execution_count": 25,
     "metadata": {},
     "output_type": "execute_result"
    }
   ],
   "source": [
    "type(data['monthly_rent'])"
   ]
  },
  {
   "cell_type": "markdown",
   "metadata": {},
   "source": [
    "## Getting FSA from Postal Code"
   ]
  },
  {
   "cell_type": "code",
   "execution_count": 26,
   "metadata": {},
   "outputs": [
    {
     "data": {
      "text/plain": [
       "['M5A',\n",
       " 'M1H',\n",
       " 'M1H',\n",
       " 'M1H',\n",
       " 'M1S',\n",
       " 'M1P',\n",
       " 'M1P',\n",
       " 'M1H',\n",
       " 'M1P',\n",
       " 'M1H',\n",
       " 'M1H',\n",
       " 'M1P',\n",
       " 'M1H',\n",
       " 'M1H',\n",
       " 'M1H',\n",
       " 'M1H',\n",
       " 'M1P',\n",
       " 'M1K',\n",
       " 'M1W',\n",
       " 'M1H',\n",
       " 'M1H',\n",
       " 'M1P',\n",
       " 'M1V',\n",
       " 'M1H',\n",
       " 'M1N',\n",
       " 'M1P',\n",
       " 'M1W',\n",
       " 'M1S',\n",
       " 'M1H',\n",
       " 'M1H',\n",
       " 'M1P',\n",
       " 'M1H',\n",
       " 'M1P',\n",
       " 'M1H',\n",
       " 'M1P',\n",
       " 'M1P',\n",
       " 'M1H',\n",
       " 'M1S',\n",
       " 'M1P',\n",
       " 'M1H',\n",
       " 'M1H',\n",
       " 'M1E',\n",
       " 'M1J',\n",
       " 'M1H',\n",
       " 'M1P',\n",
       " 'Non',\n",
       " 'M1S',\n",
       " 'M1P',\n",
       " 'M1W',\n",
       " 'M1V',\n",
       " 'M1P',\n",
       " 'M1N',\n",
       " 'M1S',\n",
       " 'M1E',\n",
       " 'M1S',\n",
       " 'M1S',\n",
       " 'M1V',\n",
       " 'M1H',\n",
       " 'M1H',\n",
       " 'M1H',\n",
       " 'M1K',\n",
       " 'M1P',\n",
       " 'M1P',\n",
       " 'M1E',\n",
       " 'M1E',\n",
       " 'M1H',\n",
       " 'M1H',\n",
       " 'M1H',\n",
       " 'M1H',\n",
       " 'M1H',\n",
       " 'M1H',\n",
       " 'M1H',\n",
       " 'M1K',\n",
       " 'M1H',\n",
       " 'M1H',\n",
       " 'M1H',\n",
       " 'M1H',\n",
       " 'M1K',\n",
       " 'M1E',\n",
       " 'L4J',\n",
       " 'L4K',\n",
       " 'L4K',\n",
       " 'L4L',\n",
       " 'L4K',\n",
       " 'L4K',\n",
       " 'L4L',\n",
       " 'L4K',\n",
       " 'L4L',\n",
       " 'L4K',\n",
       " 'M4M',\n",
       " 'M4M',\n",
       " 'M5J',\n",
       " 'M5V',\n",
       " 'M5V',\n",
       " 'M5B',\n",
       " 'M4P',\n",
       " 'M5V',\n",
       " 'M5A',\n",
       " 'M5A',\n",
       " 'M5A',\n",
       " 'M5P',\n",
       " 'M4L',\n",
       " 'M5V',\n",
       " 'M5E',\n",
       " 'M5J',\n",
       " 'M4S',\n",
       " 'M5V',\n",
       " 'M5J',\n",
       " 'M5E',\n",
       " 'M5B',\n",
       " 'M5S',\n",
       " 'M5S',\n",
       " 'M6J',\n",
       " 'M5V',\n",
       " 'M5A',\n",
       " 'M5A',\n",
       " 'M5B',\n",
       " 'M4Y',\n",
       " 'M4M',\n",
       " 'M5J',\n",
       " 'M5V',\n",
       " 'M4P',\n",
       " 'Non',\n",
       " 'M4V',\n",
       " 'M4X',\n",
       " 'M5A',\n",
       " 'M5V',\n",
       " 'M5J',\n",
       " 'M5E',\n",
       " 'M6J',\n",
       " 'M4Y',\n",
       " 'M6K',\n",
       " 'M5B',\n",
       " 'M5V',\n",
       " 'M5E',\n",
       " 'M5J',\n",
       " 'M5G',\n",
       " 'M5V',\n",
       " 'M4Y',\n",
       " 'M5V',\n",
       " 'M5A',\n",
       " 'M5J',\n",
       " 'M5V',\n",
       " 'M5V',\n",
       " 'M5B',\n",
       " 'M5G',\n",
       " 'M5V',\n",
       " 'M4Y',\n",
       " 'M5B',\n",
       " 'M5V',\n",
       " 'M5V',\n",
       " 'M4Y',\n",
       " 'M5B',\n",
       " 'M5V',\n",
       " 'M4Y',\n",
       " 'M5V',\n",
       " 'M4P',\n",
       " 'M5V',\n",
       " 'M4P',\n",
       " 'M5E',\n",
       " 'M5V',\n",
       " 'M4M',\n",
       " 'M4Y',\n",
       " 'M5A',\n",
       " 'M4S',\n",
       " 'M6J',\n",
       " 'M4P',\n",
       " 'M6S',\n",
       " 'M4S',\n",
       " 'M5V',\n",
       " 'M5V',\n",
       " 'M6H',\n",
       " 'M5J',\n",
       " 'M6K',\n",
       " 'M5J',\n",
       " 'M5V',\n",
       " 'M5H',\n",
       " 'M5V',\n",
       " 'M4S',\n",
       " 'M5R']"
      ]
     },
     "execution_count": 26,
     "metadata": {},
     "output_type": "execute_result"
    }
   ],
   "source": [
    "l=[]\n",
    "for i in range(len(data['postal_code'])):\n",
    "    l.append(data['postal_code'][i][:3])\n",
    "l"
   ]
  },
  {
   "cell_type": "code",
   "execution_count": 27,
   "metadata": {},
   "outputs": [],
   "source": [
    "pc3=pd.DataFrame(l)"
   ]
  },
  {
   "cell_type": "code",
   "execution_count": 28,
   "metadata": {},
   "outputs": [
    {
     "data": {
      "text/html": [
       "<div>\n",
       "<style scoped>\n",
       "    .dataframe tbody tr th:only-of-type {\n",
       "        vertical-align: middle;\n",
       "    }\n",
       "\n",
       "    .dataframe tbody tr th {\n",
       "        vertical-align: top;\n",
       "    }\n",
       "\n",
       "    .dataframe thead th {\n",
       "        text-align: right;\n",
       "    }\n",
       "</style>\n",
       "<table border=\"1\" class=\"dataframe\">\n",
       "  <thead>\n",
       "    <tr style=\"text-align: right;\">\n",
       "      <th></th>\n",
       "      <th>0</th>\n",
       "    </tr>\n",
       "  </thead>\n",
       "  <tbody>\n",
       "    <tr>\n",
       "      <td>0</td>\n",
       "      <td>M5A</td>\n",
       "    </tr>\n",
       "    <tr>\n",
       "      <td>1</td>\n",
       "      <td>M1H</td>\n",
       "    </tr>\n",
       "    <tr>\n",
       "      <td>2</td>\n",
       "      <td>M1H</td>\n",
       "    </tr>\n",
       "    <tr>\n",
       "      <td>3</td>\n",
       "      <td>M1H</td>\n",
       "    </tr>\n",
       "    <tr>\n",
       "      <td>4</td>\n",
       "      <td>M1S</td>\n",
       "    </tr>\n",
       "    <tr>\n",
       "      <td>...</td>\n",
       "      <td>...</td>\n",
       "    </tr>\n",
       "    <tr>\n",
       "      <td>175</td>\n",
       "      <td>M5V</td>\n",
       "    </tr>\n",
       "    <tr>\n",
       "      <td>176</td>\n",
       "      <td>M5H</td>\n",
       "    </tr>\n",
       "    <tr>\n",
       "      <td>177</td>\n",
       "      <td>M5V</td>\n",
       "    </tr>\n",
       "    <tr>\n",
       "      <td>178</td>\n",
       "      <td>M4S</td>\n",
       "    </tr>\n",
       "    <tr>\n",
       "      <td>179</td>\n",
       "      <td>M5R</td>\n",
       "    </tr>\n",
       "  </tbody>\n",
       "</table>\n",
       "<p>180 rows × 1 columns</p>\n",
       "</div>"
      ],
      "text/plain": [
       "       0\n",
       "0    M5A\n",
       "1    M1H\n",
       "2    M1H\n",
       "3    M1H\n",
       "4    M1S\n",
       "..   ...\n",
       "175  M5V\n",
       "176  M5H\n",
       "177  M5V\n",
       "178  M4S\n",
       "179  M5R\n",
       "\n",
       "[180 rows x 1 columns]"
      ]
     },
     "execution_count": 28,
     "metadata": {},
     "output_type": "execute_result"
    }
   ],
   "source": [
    "pc3"
   ]
  },
  {
   "cell_type": "markdown",
   "metadata": {},
   "source": [
    "## Concatenate the FSA with Rent, Postal Code, Square feet"
   ]
  },
  {
   "cell_type": "code",
   "execution_count": 29,
   "metadata": {},
   "outputs": [],
   "source": [
    "pcconcat=pd.concat([torental,pc3],axis=1)"
   ]
  },
  {
   "cell_type": "code",
   "execution_count": 30,
   "metadata": {},
   "outputs": [],
   "source": [
    "pcconcat.columns=['monthly_rent','postal_code','square_feet', 'outerCode']"
   ]
  },
  {
   "cell_type": "code",
   "execution_count": 31,
   "metadata": {},
   "outputs": [
    {
     "data": {
      "text/html": [
       "<div>\n",
       "<style scoped>\n",
       "    .dataframe tbody tr th:only-of-type {\n",
       "        vertical-align: middle;\n",
       "    }\n",
       "\n",
       "    .dataframe tbody tr th {\n",
       "        vertical-align: top;\n",
       "    }\n",
       "\n",
       "    .dataframe thead th {\n",
       "        text-align: right;\n",
       "    }\n",
       "</style>\n",
       "<table border=\"1\" class=\"dataframe\">\n",
       "  <thead>\n",
       "    <tr style=\"text-align: right;\">\n",
       "      <th></th>\n",
       "      <th>monthly_rent</th>\n",
       "      <th>postal_code</th>\n",
       "      <th>square_feet</th>\n",
       "      <th>outerCode</th>\n",
       "    </tr>\n",
       "  </thead>\n",
       "  <tbody>\n",
       "    <tr>\n",
       "      <td>0</td>\n",
       "      <td>$3,985</td>\n",
       "      <td>M5A 3N8</td>\n",
       "      <td></td>\n",
       "      <td>M5A</td>\n",
       "    </tr>\n",
       "    <tr>\n",
       "      <td>1</td>\n",
       "      <td>$2,450</td>\n",
       "      <td>M1H 3G6</td>\n",
       "      <td>1100ft2</td>\n",
       "      <td>M1H</td>\n",
       "    </tr>\n",
       "    <tr>\n",
       "      <td>2</td>\n",
       "      <td>$2,500</td>\n",
       "      <td>M1H 3J2</td>\n",
       "      <td>950ft2</td>\n",
       "      <td>M1H</td>\n",
       "    </tr>\n",
       "    <tr>\n",
       "      <td>3</td>\n",
       "      <td>$2,300</td>\n",
       "      <td>M1H 3H3</td>\n",
       "      <td>850ft2</td>\n",
       "      <td>M1H</td>\n",
       "    </tr>\n",
       "    <tr>\n",
       "      <td>4</td>\n",
       "      <td>$2,900</td>\n",
       "      <td>M1S 0L7</td>\n",
       "      <td>1500ft2</td>\n",
       "      <td>M1S</td>\n",
       "    </tr>\n",
       "    <tr>\n",
       "      <td>...</td>\n",
       "      <td>...</td>\n",
       "      <td>...</td>\n",
       "      <td>...</td>\n",
       "      <td>...</td>\n",
       "    </tr>\n",
       "    <tr>\n",
       "      <td>175</td>\n",
       "      <td>$3,400</td>\n",
       "      <td>M5V 4B3</td>\n",
       "      <td>1055ft2</td>\n",
       "      <td>M5V</td>\n",
       "    </tr>\n",
       "    <tr>\n",
       "      <td>176</td>\n",
       "      <td>$2,650</td>\n",
       "      <td>M5H 0B1</td>\n",
       "      <td></td>\n",
       "      <td>M5H</td>\n",
       "    </tr>\n",
       "    <tr>\n",
       "      <td>177</td>\n",
       "      <td>$2,800</td>\n",
       "      <td>M5V 4A5</td>\n",
       "      <td></td>\n",
       "      <td>M5V</td>\n",
       "    </tr>\n",
       "    <tr>\n",
       "      <td>178</td>\n",
       "      <td>$2,700</td>\n",
       "      <td>M4S 0B9</td>\n",
       "      <td>795ft2</td>\n",
       "      <td>M4S</td>\n",
       "    </tr>\n",
       "    <tr>\n",
       "      <td>179</td>\n",
       "      <td>$4,900</td>\n",
       "      <td>M5R 2H7</td>\n",
       "      <td>1244ft2</td>\n",
       "      <td>M5R</td>\n",
       "    </tr>\n",
       "  </tbody>\n",
       "</table>\n",
       "<p>180 rows × 4 columns</p>\n",
       "</div>"
      ],
      "text/plain": [
       "    monthly_rent postal_code square_feet outerCode\n",
       "0         $3,985     M5A 3N8                   M5A\n",
       "1         $2,450     M1H 3G6     1100ft2       M1H\n",
       "2         $2,500     M1H 3J2      950ft2       M1H\n",
       "3         $2,300     M1H 3H3      850ft2       M1H\n",
       "4         $2,900     M1S 0L7     1500ft2       M1S\n",
       "..           ...         ...         ...       ...\n",
       "175       $3,400     M5V 4B3     1055ft2       M5V\n",
       "176       $2,650     M5H 0B1                   M5H\n",
       "177       $2,800     M5V 4A5                   M5V\n",
       "178       $2,700     M4S 0B9      795ft2       M4S\n",
       "179       $4,900     M5R 2H7     1244ft2       M5R\n",
       "\n",
       "[180 rows x 4 columns]"
      ]
     },
     "execution_count": 31,
     "metadata": {},
     "output_type": "execute_result"
    }
   ],
   "source": [
    "pcconcat"
   ]
  },
  {
   "cell_type": "markdown",
   "metadata": {},
   "source": [
    "## Parse FSA along with Borough, Neighbourhood"
   ]
  },
  {
   "cell_type": "code",
   "execution_count": 32,
   "metadata": {},
   "outputs": [],
   "source": [
    "url1 = \"https://en.wikipedia.org/wiki/List_of_postal_codes_of_Canada:_M\"\n",
    "hood_data = requests.get(url1).text\n",
    "neighbour_data = BeautifulSoup(hood_data, 'lxml')"
   ]
  },
  {
   "cell_type": "code",
   "execution_count": 33,
   "metadata": {},
   "outputs": [],
   "source": [
    "column_names = ['PostalcodeN','Borough','Neighbourhood']\n",
    "toronto = pd.DataFrame(columns = column_names)\n",
    "\n",
    "content = neighbour_data.find('div', class_='mw-parser-output')\n",
    "table = content.table.tbody\n",
    "postcodeN = 0\n",
    "borough = 0\n",
    "neighbourhood = 0\n",
    "\n",
    "for tr in table.find_all('tr'):\n",
    "    i = 0\n",
    "    for td in tr.find_all('td'):\n",
    "        if i == 0:\n",
    "            postcodeN = td.text.strip('\\n')\n",
    "            i = i + 1\n",
    "        elif i == 1:\n",
    "            borough = td.text.strip('\\n')\n",
    "            i = i + 1\n",
    "        elif i == 2: \n",
    "            neighbourhood = td.text.strip('\\n').replace(']','')\n",
    "    toronto = toronto.append({'PostalcodeN': postcodeN,'Borough': borough,'Neighbourhood': neighbourhood},ignore_index=True)"
   ]
  },
  {
   "cell_type": "code",
   "execution_count": 34,
   "metadata": {},
   "outputs": [],
   "source": [
    "# clean dataframe \n",
    "toronto = toronto[toronto.Borough!='Not assigned']\n",
    "toronto = toronto[toronto.Borough!= 0]\n",
    "toronto.reset_index(drop = True, inplace = True)\n",
    "i = 0\n",
    "for i in range(0,toronto.shape[0]):\n",
    "    if toronto.iloc[i][2] == 'Not assigned':\n",
    "        toronto.iloc[i][2] = toronto.iloc[i][1]\n",
    "        i = i+1"
   ]
  },
  {
   "cell_type": "code",
   "execution_count": 35,
   "metadata": {},
   "outputs": [
    {
     "data": {
      "text/html": [
       "<div>\n",
       "<style scoped>\n",
       "    .dataframe tbody tr th:only-of-type {\n",
       "        vertical-align: middle;\n",
       "    }\n",
       "\n",
       "    .dataframe tbody tr th {\n",
       "        vertical-align: top;\n",
       "    }\n",
       "\n",
       "    .dataframe thead th {\n",
       "        text-align: right;\n",
       "    }\n",
       "</style>\n",
       "<table border=\"1\" class=\"dataframe\">\n",
       "  <thead>\n",
       "    <tr style=\"text-align: right;\">\n",
       "      <th></th>\n",
       "      <th>PostalcodeN</th>\n",
       "      <th>Borough</th>\n",
       "      <th>Neighbourhood</th>\n",
       "    </tr>\n",
       "  </thead>\n",
       "  <tbody>\n",
       "    <tr>\n",
       "      <td>0</td>\n",
       "      <td>M1B</td>\n",
       "      <td>Scarborough</td>\n",
       "      <td>Malvern, Rouge</td>\n",
       "    </tr>\n",
       "    <tr>\n",
       "      <td>1</td>\n",
       "      <td>M1C</td>\n",
       "      <td>Scarborough</td>\n",
       "      <td>Rouge Hill, Port Union, Highland Creek</td>\n",
       "    </tr>\n",
       "    <tr>\n",
       "      <td>2</td>\n",
       "      <td>M1E</td>\n",
       "      <td>Scarborough</td>\n",
       "      <td>Guildwood, Morningside, West Hill</td>\n",
       "    </tr>\n",
       "    <tr>\n",
       "      <td>3</td>\n",
       "      <td>M1G</td>\n",
       "      <td>Scarborough</td>\n",
       "      <td>Woburn</td>\n",
       "    </tr>\n",
       "    <tr>\n",
       "      <td>4</td>\n",
       "      <td>M1H</td>\n",
       "      <td>Scarborough</td>\n",
       "      <td>Cedarbrae</td>\n",
       "    </tr>\n",
       "  </tbody>\n",
       "</table>\n",
       "</div>"
      ],
      "text/plain": [
       "  PostalcodeN      Borough                           Neighbourhood\n",
       "0         M1B  Scarborough                          Malvern, Rouge\n",
       "1         M1C  Scarborough  Rouge Hill, Port Union, Highland Creek\n",
       "2         M1E  Scarborough       Guildwood, Morningside, West Hill\n",
       "3         M1G  Scarborough                                  Woburn\n",
       "4         M1H  Scarborough                               Cedarbrae"
      ]
     },
     "execution_count": 35,
     "metadata": {},
     "output_type": "execute_result"
    }
   ],
   "source": [
    "pcarea = toronto.groupby(['PostalcodeN','Borough'])['Neighbourhood'].apply(', '.join).reset_index()\n",
    "pcarea.head()"
   ]
  },
  {
   "cell_type": "code",
   "execution_count": 36,
   "metadata": {},
   "outputs": [],
   "source": [
    "pcarea = pcarea.dropna()\n",
    "empty = 'Not assigned'\n",
    "pcarea = pcarea[(pcarea.PostalcodeN != empty ) & (pcarea.Borough != empty) & (pcarea.Neighbourhood != empty)]"
   ]
  },
  {
   "cell_type": "code",
   "execution_count": 37,
   "metadata": {},
   "outputs": [
    {
     "data": {
      "text/html": [
       "<div>\n",
       "<style scoped>\n",
       "    .dataframe tbody tr th:only-of-type {\n",
       "        vertical-align: middle;\n",
       "    }\n",
       "\n",
       "    .dataframe tbody tr th {\n",
       "        vertical-align: top;\n",
       "    }\n",
       "\n",
       "    .dataframe thead th {\n",
       "        text-align: right;\n",
       "    }\n",
       "</style>\n",
       "<table border=\"1\" class=\"dataframe\">\n",
       "  <thead>\n",
       "    <tr style=\"text-align: right;\">\n",
       "      <th></th>\n",
       "      <th>PostalcodeN</th>\n",
       "      <th>Borough</th>\n",
       "      <th>Neighbourhood</th>\n",
       "    </tr>\n",
       "  </thead>\n",
       "  <tbody>\n",
       "    <tr>\n",
       "      <td>0</td>\n",
       "      <td>M1B</td>\n",
       "      <td>Scarborough</td>\n",
       "      <td>Malvern, Rouge</td>\n",
       "    </tr>\n",
       "    <tr>\n",
       "      <td>1</td>\n",
       "      <td>M1C</td>\n",
       "      <td>Scarborough</td>\n",
       "      <td>Rouge Hill, Port Union, Highland Creek</td>\n",
       "    </tr>\n",
       "    <tr>\n",
       "      <td>2</td>\n",
       "      <td>M1E</td>\n",
       "      <td>Scarborough</td>\n",
       "      <td>Guildwood, Morningside, West Hill</td>\n",
       "    </tr>\n",
       "    <tr>\n",
       "      <td>3</td>\n",
       "      <td>M1G</td>\n",
       "      <td>Scarborough</td>\n",
       "      <td>Woburn</td>\n",
       "    </tr>\n",
       "    <tr>\n",
       "      <td>4</td>\n",
       "      <td>M1H</td>\n",
       "      <td>Scarborough</td>\n",
       "      <td>Cedarbrae</td>\n",
       "    </tr>\n",
       "    <tr>\n",
       "      <td>...</td>\n",
       "      <td>...</td>\n",
       "      <td>...</td>\n",
       "      <td>...</td>\n",
       "    </tr>\n",
       "    <tr>\n",
       "      <td>95</td>\n",
       "      <td>M9C</td>\n",
       "      <td>Etobicoke</td>\n",
       "      <td>Eringate, Bloordale Gardens, Old Burnhamthorpe...</td>\n",
       "    </tr>\n",
       "    <tr>\n",
       "      <td>96</td>\n",
       "      <td>M9L</td>\n",
       "      <td>North York</td>\n",
       "      <td>Humber Summit</td>\n",
       "    </tr>\n",
       "    <tr>\n",
       "      <td>97</td>\n",
       "      <td>M9M</td>\n",
       "      <td>North York</td>\n",
       "      <td>Humberlea, Emery</td>\n",
       "    </tr>\n",
       "    <tr>\n",
       "      <td>98</td>\n",
       "      <td>M9N</td>\n",
       "      <td>York</td>\n",
       "      <td>Weston</td>\n",
       "    </tr>\n",
       "    <tr>\n",
       "      <td>99</td>\n",
       "      <td>M9P</td>\n",
       "      <td>Etobicoke</td>\n",
       "      <td>Westmount</td>\n",
       "    </tr>\n",
       "  </tbody>\n",
       "</table>\n",
       "<p>100 rows × 3 columns</p>\n",
       "</div>"
      ],
      "text/plain": [
       "   PostalcodeN      Borough                                      Neighbourhood\n",
       "0          M1B  Scarborough                                     Malvern, Rouge\n",
       "1          M1C  Scarborough             Rouge Hill, Port Union, Highland Creek\n",
       "2          M1E  Scarborough                  Guildwood, Morningside, West Hill\n",
       "3          M1G  Scarborough                                             Woburn\n",
       "4          M1H  Scarborough                                          Cedarbrae\n",
       "..         ...          ...                                                ...\n",
       "95         M9C    Etobicoke  Eringate, Bloordale Gardens, Old Burnhamthorpe...\n",
       "96         M9L   North York                                      Humber Summit\n",
       "97         M9M   North York                                   Humberlea, Emery\n",
       "98         M9N         York                                             Weston\n",
       "99         M9P    Etobicoke                                          Westmount\n",
       "\n",
       "[100 rows x 3 columns]"
      ]
     },
     "execution_count": 37,
     "metadata": {},
     "output_type": "execute_result"
    }
   ],
   "source": [
    "pcarea.head(100)"
   ]
  },
  {
   "cell_type": "markdown",
   "metadata": {},
   "source": [
    "## Concatenate the Locations with Condo data"
   ]
  },
  {
   "cell_type": "code",
   "execution_count": 38,
   "metadata": {},
   "outputs": [],
   "source": [
    "all=pcconcat.merge(pcarea,how='inner',left_on='outerCode',right_on='PostalcodeN')"
   ]
  },
  {
   "cell_type": "code",
   "execution_count": 39,
   "metadata": {},
   "outputs": [
    {
     "data": {
      "text/html": [
       "<div>\n",
       "<style scoped>\n",
       "    .dataframe tbody tr th:only-of-type {\n",
       "        vertical-align: middle;\n",
       "    }\n",
       "\n",
       "    .dataframe tbody tr th {\n",
       "        vertical-align: top;\n",
       "    }\n",
       "\n",
       "    .dataframe thead th {\n",
       "        text-align: right;\n",
       "    }\n",
       "</style>\n",
       "<table border=\"1\" class=\"dataframe\">\n",
       "  <thead>\n",
       "    <tr style=\"text-align: right;\">\n",
       "      <th></th>\n",
       "      <th>monthly_rent</th>\n",
       "      <th>postal_code</th>\n",
       "      <th>square_feet</th>\n",
       "      <th>outerCode</th>\n",
       "      <th>PostalcodeN</th>\n",
       "      <th>Borough</th>\n",
       "      <th>Neighbourhood</th>\n",
       "    </tr>\n",
       "  </thead>\n",
       "  <tbody>\n",
       "    <tr>\n",
       "      <td>0</td>\n",
       "      <td>$3,985</td>\n",
       "      <td>M5A 3N8</td>\n",
       "      <td></td>\n",
       "      <td>M5A</td>\n",
       "      <td>M5A</td>\n",
       "      <td>Downtown Toronto</td>\n",
       "      <td>Regent Park, Harbourfront</td>\n",
       "    </tr>\n",
       "    <tr>\n",
       "      <td>1</td>\n",
       "      <td>$2,500</td>\n",
       "      <td>M5A 1Z4</td>\n",
       "      <td>669ft2</td>\n",
       "      <td>M5A</td>\n",
       "      <td>M5A</td>\n",
       "      <td>Downtown Toronto</td>\n",
       "      <td>Regent Park, Harbourfront</td>\n",
       "    </tr>\n",
       "    <tr>\n",
       "      <td>2</td>\n",
       "      <td>$3,600</td>\n",
       "      <td>M5A 0N8</td>\n",
       "      <td>935ft2</td>\n",
       "      <td>M5A</td>\n",
       "      <td>M5A</td>\n",
       "      <td>Downtown Toronto</td>\n",
       "      <td>Regent Park, Harbourfront</td>\n",
       "    </tr>\n",
       "    <tr>\n",
       "      <td>3</td>\n",
       "      <td>$3,000</td>\n",
       "      <td>M5A 4E8</td>\n",
       "      <td></td>\n",
       "      <td>M5A</td>\n",
       "      <td>M5A</td>\n",
       "      <td>Downtown Toronto</td>\n",
       "      <td>Regent Park, Harbourfront</td>\n",
       "    </tr>\n",
       "    <tr>\n",
       "      <td>4</td>\n",
       "      <td>$3,200</td>\n",
       "      <td>M5A 1M1</td>\n",
       "      <td></td>\n",
       "      <td>M5A</td>\n",
       "      <td>M5A</td>\n",
       "      <td>Downtown Toronto</td>\n",
       "      <td>Regent Park, Harbourfront</td>\n",
       "    </tr>\n",
       "    <tr>\n",
       "      <td>...</td>\n",
       "      <td>...</td>\n",
       "      <td>...</td>\n",
       "      <td>...</td>\n",
       "      <td>...</td>\n",
       "      <td>...</td>\n",
       "      <td>...</td>\n",
       "      <td>...</td>\n",
       "    </tr>\n",
       "    <tr>\n",
       "      <td>163</td>\n",
       "      <td>$3,200</td>\n",
       "      <td>M5G 2K2</td>\n",
       "      <td>820ft2</td>\n",
       "      <td>M5G</td>\n",
       "      <td>M5G</td>\n",
       "      <td>Downtown Toronto</td>\n",
       "      <td>Central Bay Street</td>\n",
       "    </tr>\n",
       "    <tr>\n",
       "      <td>164</td>\n",
       "      <td>$2,800</td>\n",
       "      <td>M6S 3N4</td>\n",
       "      <td>1100ft2</td>\n",
       "      <td>M6S</td>\n",
       "      <td>M6S</td>\n",
       "      <td>West Toronto</td>\n",
       "      <td>Runnymede, Swansea</td>\n",
       "    </tr>\n",
       "    <tr>\n",
       "      <td>165</td>\n",
       "      <td>$2,395</td>\n",
       "      <td>M6H 4K6</td>\n",
       "      <td></td>\n",
       "      <td>M6H</td>\n",
       "      <td>M6H</td>\n",
       "      <td>West Toronto</td>\n",
       "      <td>Dufferin, Dovercourt Village</td>\n",
       "    </tr>\n",
       "    <tr>\n",
       "      <td>166</td>\n",
       "      <td>$2,650</td>\n",
       "      <td>M5H 0B1</td>\n",
       "      <td></td>\n",
       "      <td>M5H</td>\n",
       "      <td>M5H</td>\n",
       "      <td>Downtown Toronto</td>\n",
       "      <td>Richmond, Adelaide, King</td>\n",
       "    </tr>\n",
       "    <tr>\n",
       "      <td>167</td>\n",
       "      <td>$4,900</td>\n",
       "      <td>M5R 2H7</td>\n",
       "      <td>1244ft2</td>\n",
       "      <td>M5R</td>\n",
       "      <td>M5R</td>\n",
       "      <td>Central Toronto</td>\n",
       "      <td>The Annex, North Midtown, Yorkville</td>\n",
       "    </tr>\n",
       "  </tbody>\n",
       "</table>\n",
       "<p>168 rows × 7 columns</p>\n",
       "</div>"
      ],
      "text/plain": [
       "    monthly_rent postal_code square_feet outerCode PostalcodeN  \\\n",
       "0         $3,985     M5A 3N8                   M5A         M5A   \n",
       "1         $2,500     M5A 1Z4      669ft2       M5A         M5A   \n",
       "2         $3,600     M5A 0N8      935ft2       M5A         M5A   \n",
       "3         $3,000     M5A 4E8                   M5A         M5A   \n",
       "4         $3,200     M5A 1M1                   M5A         M5A   \n",
       "..           ...         ...         ...       ...         ...   \n",
       "163       $3,200     M5G 2K2      820ft2       M5G         M5G   \n",
       "164       $2,800     M6S 3N4     1100ft2       M6S         M6S   \n",
       "165       $2,395     M6H 4K6                   M6H         M6H   \n",
       "166       $2,650     M5H 0B1                   M5H         M5H   \n",
       "167       $4,900     M5R 2H7     1244ft2       M5R         M5R   \n",
       "\n",
       "              Borough                        Neighbourhood  \n",
       "0    Downtown Toronto            Regent Park, Harbourfront  \n",
       "1    Downtown Toronto            Regent Park, Harbourfront  \n",
       "2    Downtown Toronto            Regent Park, Harbourfront  \n",
       "3    Downtown Toronto            Regent Park, Harbourfront  \n",
       "4    Downtown Toronto            Regent Park, Harbourfront  \n",
       "..                ...                                  ...  \n",
       "163  Downtown Toronto                   Central Bay Street  \n",
       "164      West Toronto                   Runnymede, Swansea  \n",
       "165      West Toronto         Dufferin, Dovercourt Village  \n",
       "166  Downtown Toronto             Richmond, Adelaide, King  \n",
       "167   Central Toronto  The Annex, North Midtown, Yorkville  \n",
       "\n",
       "[168 rows x 7 columns]"
      ]
     },
     "execution_count": 39,
     "metadata": {},
     "output_type": "execute_result"
    }
   ],
   "source": [
    "all"
   ]
  },
  {
   "cell_type": "code",
   "execution_count": 40,
   "metadata": {},
   "outputs": [
    {
     "data": {
      "text/plain": [
       "168"
      ]
     },
     "execution_count": 40,
     "metadata": {},
     "output_type": "execute_result"
    }
   ],
   "source": [
    "len(all)"
   ]
  },
  {
   "cell_type": "markdown",
   "metadata": {},
   "source": [
    "## Cleaning data"
   ]
  },
  {
   "cell_type": "code",
   "execution_count": 41,
   "metadata": {},
   "outputs": [],
   "source": [
    "\n",
    "pcconcat['monthly_rent'] = pcconcat['monthly_rent'].str.replace(',','')\n"
   ]
  },
  {
   "cell_type": "code",
   "execution_count": 42,
   "metadata": {},
   "outputs": [],
   "source": [
    "pcconcat['monthly_rent'] = pcconcat['monthly_rent'].str.replace('$','')"
   ]
  },
  {
   "cell_type": "code",
   "execution_count": 43,
   "metadata": {},
   "outputs": [],
   "source": [
    "pcconcat['square_feet'] = pcconcat['square_feet'].str.replace('ft2','')"
   ]
  },
  {
   "cell_type": "code",
   "execution_count": 48,
   "metadata": {},
   "outputs": [],
   "source": [
    "pcconcat['square_feet'] = pcconcat['square_feet'].replace('',np.nan)"
   ]
  },
  {
   "cell_type": "code",
   "execution_count": 49,
   "metadata": {},
   "outputs": [],
   "source": [
    "pcconcat['monthly_rent'] = pcconcat['monthly_rent'].replace('',np.nan)"
   ]
  },
  {
   "cell_type": "code",
   "execution_count": null,
   "metadata": {},
   "outputs": [],
   "source": []
  },
  {
   "cell_type": "code",
   "execution_count": 52,
   "metadata": {},
   "outputs": [
    {
     "data": {
      "text/html": [
       "<div>\n",
       "<style scoped>\n",
       "    .dataframe tbody tr th:only-of-type {\n",
       "        vertical-align: middle;\n",
       "    }\n",
       "\n",
       "    .dataframe tbody tr th {\n",
       "        vertical-align: top;\n",
       "    }\n",
       "\n",
       "    .dataframe thead th {\n",
       "        text-align: right;\n",
       "    }\n",
       "</style>\n",
       "<table border=\"1\" class=\"dataframe\">\n",
       "  <thead>\n",
       "    <tr style=\"text-align: right;\">\n",
       "      <th></th>\n",
       "      <th>monthly_rent</th>\n",
       "      <th>postal_code</th>\n",
       "      <th>square_feet</th>\n",
       "      <th>outerCode</th>\n",
       "    </tr>\n",
       "  </thead>\n",
       "  <tbody>\n",
       "    <tr>\n",
       "      <td>0</td>\n",
       "      <td>3985</td>\n",
       "      <td>M5A 3N8</td>\n",
       "      <td>NaN</td>\n",
       "      <td>M5A</td>\n",
       "    </tr>\n",
       "    <tr>\n",
       "      <td>1</td>\n",
       "      <td>2450</td>\n",
       "      <td>M1H 3G6</td>\n",
       "      <td>1100</td>\n",
       "      <td>M1H</td>\n",
       "    </tr>\n",
       "    <tr>\n",
       "      <td>2</td>\n",
       "      <td>2500</td>\n",
       "      <td>M1H 3J2</td>\n",
       "      <td>950</td>\n",
       "      <td>M1H</td>\n",
       "    </tr>\n",
       "    <tr>\n",
       "      <td>3</td>\n",
       "      <td>2300</td>\n",
       "      <td>M1H 3H3</td>\n",
       "      <td>850</td>\n",
       "      <td>M1H</td>\n",
       "    </tr>\n",
       "    <tr>\n",
       "      <td>4</td>\n",
       "      <td>2900</td>\n",
       "      <td>M1S 0L7</td>\n",
       "      <td>1500</td>\n",
       "      <td>M1S</td>\n",
       "    </tr>\n",
       "    <tr>\n",
       "      <td>...</td>\n",
       "      <td>...</td>\n",
       "      <td>...</td>\n",
       "      <td>...</td>\n",
       "      <td>...</td>\n",
       "    </tr>\n",
       "    <tr>\n",
       "      <td>175</td>\n",
       "      <td>3400</td>\n",
       "      <td>M5V 4B3</td>\n",
       "      <td>1055</td>\n",
       "      <td>M5V</td>\n",
       "    </tr>\n",
       "    <tr>\n",
       "      <td>176</td>\n",
       "      <td>2650</td>\n",
       "      <td>M5H 0B1</td>\n",
       "      <td>NaN</td>\n",
       "      <td>M5H</td>\n",
       "    </tr>\n",
       "    <tr>\n",
       "      <td>177</td>\n",
       "      <td>2800</td>\n",
       "      <td>M5V 4A5</td>\n",
       "      <td>NaN</td>\n",
       "      <td>M5V</td>\n",
       "    </tr>\n",
       "    <tr>\n",
       "      <td>178</td>\n",
       "      <td>2700</td>\n",
       "      <td>M4S 0B9</td>\n",
       "      <td>795</td>\n",
       "      <td>M4S</td>\n",
       "    </tr>\n",
       "    <tr>\n",
       "      <td>179</td>\n",
       "      <td>4900</td>\n",
       "      <td>M5R 2H7</td>\n",
       "      <td>1244</td>\n",
       "      <td>M5R</td>\n",
       "    </tr>\n",
       "  </tbody>\n",
       "</table>\n",
       "<p>180 rows × 4 columns</p>\n",
       "</div>"
      ],
      "text/plain": [
       "    monthly_rent postal_code square_feet outerCode\n",
       "0           3985     M5A 3N8         NaN       M5A\n",
       "1           2450     M1H 3G6        1100       M1H\n",
       "2           2500     M1H 3J2         950       M1H\n",
       "3           2300     M1H 3H3         850       M1H\n",
       "4           2900     M1S 0L7        1500       M1S\n",
       "..           ...         ...         ...       ...\n",
       "175         3400     M5V 4B3        1055       M5V\n",
       "176         2650     M5H 0B1         NaN       M5H\n",
       "177         2800     M5V 4A5         NaN       M5V\n",
       "178         2700     M4S 0B9         795       M4S\n",
       "179         4900     M5R 2H7        1244       M5R\n",
       "\n",
       "[180 rows x 4 columns]"
      ]
     },
     "execution_count": 52,
     "metadata": {},
     "output_type": "execute_result"
    }
   ],
   "source": [
    "pcconcat"
   ]
  },
  {
   "cell_type": "code",
   "execution_count": 1,
   "metadata": {},
   "outputs": [],
   "source": [
    "# Testing to match with website"
   ]
  },
  {
   "cell_type": "code",
   "execution_count": 53,
   "metadata": {},
   "outputs": [
    {
     "data": {
      "text/plain": [
       "'932'"
      ]
     },
     "execution_count": 53,
     "metadata": {},
     "output_type": "execute_result"
    }
   ],
   "source": [
    "pcconcat.iloc[151]['square_feet']"
   ]
  },
  {
   "cell_type": "code",
   "execution_count": null,
   "metadata": {},
   "outputs": [],
   "source": []
  },
  {
   "cell_type": "code",
   "execution_count": 54,
   "metadata": {},
   "outputs": [
    {
     "data": {
      "text/plain": [
       "numpy.ndarray"
      ]
     },
     "execution_count": 54,
     "metadata": {},
     "output_type": "execute_result"
    }
   ],
   "source": [
    "type(pcconcat['monthly_rent'].values)"
   ]
  },
  {
   "cell_type": "code",
   "execution_count": 55,
   "metadata": {},
   "outputs": [],
   "source": [
    "Rental_Neighbourhood=pcconcat.merge(pcarea,how='inner',left_on='outerCode',right_on='PostalcodeN')"
   ]
  },
  {
   "cell_type": "code",
   "execution_count": 57,
   "metadata": {},
   "outputs": [],
   "source": [
    "rental = Rental_Neighbourhood.copy()"
   ]
  },
  {
   "cell_type": "code",
   "execution_count": 2,
   "metadata": {},
   "outputs": [],
   "source": [
    "# Cleaning of Final Dataframe"
   ]
  },
  {
   "cell_type": "code",
   "execution_count": 58,
   "metadata": {},
   "outputs": [],
   "source": [
    "dashes = []\n",
    "for i in range(len(rental['monthly_rent'])):\n",
    "    if '-' in rental.iloc[i]['monthly_rent']:\n",
    "        dashes.append(i)"
   ]
  },
  {
   "cell_type": "code",
   "execution_count": 59,
   "metadata": {},
   "outputs": [
    {
     "data": {
      "text/plain": [
       "[119, 146]"
      ]
     },
     "execution_count": 59,
     "metadata": {},
     "output_type": "execute_result"
    }
   ],
   "source": [
    "dashes"
   ]
  },
  {
   "cell_type": "code",
   "execution_count": 60,
   "metadata": {},
   "outputs": [],
   "source": [
    "rental = rental.drop(dashes)"
   ]
  },
  {
   "cell_type": "code",
   "execution_count": 61,
   "metadata": {},
   "outputs": [],
   "source": [
    "rental['monthly_rent'] = rental['monthly_rent'].astype(int)"
   ]
  },
  {
   "cell_type": "code",
   "execution_count": 62,
   "metadata": {},
   "outputs": [],
   "source": [
    "rental['square_feet'] = rental['square_feet'].astype(float)"
   ]
  },
  {
   "cell_type": "code",
   "execution_count": 63,
   "metadata": {},
   "outputs": [],
   "source": [
    "rental = rental.drop(columns='PostalcodeN')"
   ]
  },
  {
   "cell_type": "code",
   "execution_count": 64,
   "metadata": {},
   "outputs": [
    {
     "data": {
      "text/html": [
       "<div>\n",
       "<style scoped>\n",
       "    .dataframe tbody tr th:only-of-type {\n",
       "        vertical-align: middle;\n",
       "    }\n",
       "\n",
       "    .dataframe tbody tr th {\n",
       "        vertical-align: top;\n",
       "    }\n",
       "\n",
       "    .dataframe thead th {\n",
       "        text-align: right;\n",
       "    }\n",
       "</style>\n",
       "<table border=\"1\" class=\"dataframe\">\n",
       "  <thead>\n",
       "    <tr style=\"text-align: right;\">\n",
       "      <th></th>\n",
       "      <th>monthly_rent</th>\n",
       "      <th>postal_code</th>\n",
       "      <th>square_feet</th>\n",
       "      <th>outerCode</th>\n",
       "      <th>Borough</th>\n",
       "      <th>Neighbourhood</th>\n",
       "    </tr>\n",
       "  </thead>\n",
       "  <tbody>\n",
       "    <tr>\n",
       "      <td>0</td>\n",
       "      <td>3985</td>\n",
       "      <td>M5A 3N8</td>\n",
       "      <td>NaN</td>\n",
       "      <td>M5A</td>\n",
       "      <td>Downtown Toronto</td>\n",
       "      <td>Regent Park, Harbourfront</td>\n",
       "    </tr>\n",
       "    <tr>\n",
       "      <td>1</td>\n",
       "      <td>2500</td>\n",
       "      <td>M5A 1Z4</td>\n",
       "      <td>669.0</td>\n",
       "      <td>M5A</td>\n",
       "      <td>Downtown Toronto</td>\n",
       "      <td>Regent Park, Harbourfront</td>\n",
       "    </tr>\n",
       "    <tr>\n",
       "      <td>2</td>\n",
       "      <td>3600</td>\n",
       "      <td>M5A 0N8</td>\n",
       "      <td>935.0</td>\n",
       "      <td>M5A</td>\n",
       "      <td>Downtown Toronto</td>\n",
       "      <td>Regent Park, Harbourfront</td>\n",
       "    </tr>\n",
       "    <tr>\n",
       "      <td>3</td>\n",
       "      <td>3000</td>\n",
       "      <td>M5A 4E8</td>\n",
       "      <td>NaN</td>\n",
       "      <td>M5A</td>\n",
       "      <td>Downtown Toronto</td>\n",
       "      <td>Regent Park, Harbourfront</td>\n",
       "    </tr>\n",
       "    <tr>\n",
       "      <td>4</td>\n",
       "      <td>3200</td>\n",
       "      <td>M5A 1M1</td>\n",
       "      <td>NaN</td>\n",
       "      <td>M5A</td>\n",
       "      <td>Downtown Toronto</td>\n",
       "      <td>Regent Park, Harbourfront</td>\n",
       "    </tr>\n",
       "    <tr>\n",
       "      <td>...</td>\n",
       "      <td>...</td>\n",
       "      <td>...</td>\n",
       "      <td>...</td>\n",
       "      <td>...</td>\n",
       "      <td>...</td>\n",
       "      <td>...</td>\n",
       "    </tr>\n",
       "    <tr>\n",
       "      <td>163</td>\n",
       "      <td>3200</td>\n",
       "      <td>M5G 2K2</td>\n",
       "      <td>820.0</td>\n",
       "      <td>M5G</td>\n",
       "      <td>Downtown Toronto</td>\n",
       "      <td>Central Bay Street</td>\n",
       "    </tr>\n",
       "    <tr>\n",
       "      <td>164</td>\n",
       "      <td>2800</td>\n",
       "      <td>M6S 3N4</td>\n",
       "      <td>1100.0</td>\n",
       "      <td>M6S</td>\n",
       "      <td>West Toronto</td>\n",
       "      <td>Runnymede, Swansea</td>\n",
       "    </tr>\n",
       "    <tr>\n",
       "      <td>165</td>\n",
       "      <td>2395</td>\n",
       "      <td>M6H 4K6</td>\n",
       "      <td>NaN</td>\n",
       "      <td>M6H</td>\n",
       "      <td>West Toronto</td>\n",
       "      <td>Dufferin, Dovercourt Village</td>\n",
       "    </tr>\n",
       "    <tr>\n",
       "      <td>166</td>\n",
       "      <td>2650</td>\n",
       "      <td>M5H 0B1</td>\n",
       "      <td>NaN</td>\n",
       "      <td>M5H</td>\n",
       "      <td>Downtown Toronto</td>\n",
       "      <td>Richmond, Adelaide, King</td>\n",
       "    </tr>\n",
       "    <tr>\n",
       "      <td>167</td>\n",
       "      <td>4900</td>\n",
       "      <td>M5R 2H7</td>\n",
       "      <td>1244.0</td>\n",
       "      <td>M5R</td>\n",
       "      <td>Central Toronto</td>\n",
       "      <td>The Annex, North Midtown, Yorkville</td>\n",
       "    </tr>\n",
       "  </tbody>\n",
       "</table>\n",
       "<p>166 rows × 6 columns</p>\n",
       "</div>"
      ],
      "text/plain": [
       "     monthly_rent postal_code  square_feet outerCode           Borough  \\\n",
       "0            3985     M5A 3N8          NaN       M5A  Downtown Toronto   \n",
       "1            2500     M5A 1Z4        669.0       M5A  Downtown Toronto   \n",
       "2            3600     M5A 0N8        935.0       M5A  Downtown Toronto   \n",
       "3            3000     M5A 4E8          NaN       M5A  Downtown Toronto   \n",
       "4            3200     M5A 1M1          NaN       M5A  Downtown Toronto   \n",
       "..            ...         ...          ...       ...               ...   \n",
       "163          3200     M5G 2K2        820.0       M5G  Downtown Toronto   \n",
       "164          2800     M6S 3N4       1100.0       M6S      West Toronto   \n",
       "165          2395     M6H 4K6          NaN       M6H      West Toronto   \n",
       "166          2650     M5H 0B1          NaN       M5H  Downtown Toronto   \n",
       "167          4900     M5R 2H7       1244.0       M5R   Central Toronto   \n",
       "\n",
       "                           Neighbourhood  \n",
       "0              Regent Park, Harbourfront  \n",
       "1              Regent Park, Harbourfront  \n",
       "2              Regent Park, Harbourfront  \n",
       "3              Regent Park, Harbourfront  \n",
       "4              Regent Park, Harbourfront  \n",
       "..                                   ...  \n",
       "163                   Central Bay Street  \n",
       "164                   Runnymede, Swansea  \n",
       "165         Dufferin, Dovercourt Village  \n",
       "166             Richmond, Adelaide, King  \n",
       "167  The Annex, North Midtown, Yorkville  \n",
       "\n",
       "[166 rows x 6 columns]"
      ]
     },
     "execution_count": 64,
     "metadata": {},
     "output_type": "execute_result"
    }
   ],
   "source": [
    "rental"
   ]
  },
  {
   "cell_type": "code",
   "execution_count": 68,
   "metadata": {},
   "outputs": [
    {
     "data": {
      "text/plain": [
       "numpy.float64"
      ]
     },
     "execution_count": 68,
     "metadata": {},
     "output_type": "execute_result"
    }
   ],
   "source": [
    "type(rental['square_feet'].iloc[0])"
   ]
  },
  {
   "cell_type": "markdown",
   "metadata": {},
   "source": [
    "## Some values from the features"
   ]
  },
  {
   "cell_type": "code",
   "execution_count": 71,
   "metadata": {},
   "outputs": [],
   "source": [
    "chart_outerCode=rental['Borough'].value_counts(ascending=False)"
   ]
  },
  {
   "cell_type": "code",
   "execution_count": 72,
   "metadata": {},
   "outputs": [
    {
     "data": {
      "text/plain": [
       "Scarborough         77\n",
       "Downtown Toronto    65\n",
       "Central Toronto     12\n",
       "West Toronto         7\n",
       "East Toronto         5\n",
       "Name: Borough, dtype: int64"
      ]
     },
     "execution_count": 72,
     "metadata": {},
     "output_type": "execute_result"
    }
   ],
   "source": [
    "chart_outerCode"
   ]
  },
  {
   "cell_type": "code",
   "execution_count": 73,
   "metadata": {},
   "outputs": [
    {
     "data": {
      "text/plain": [
       "113    7000\n",
       "102    6000\n",
       "117    5000\n",
       "167    4900\n",
       "136    4000\n",
       "       ... \n",
       "49     2000\n",
       "38     2000\n",
       "108    2000\n",
       "16     2000\n",
       "25     2000\n",
       "Name: monthly_rent, Length: 166, dtype: int32"
      ]
     },
     "execution_count": 73,
     "metadata": {},
     "output_type": "execute_result"
    }
   ],
   "source": [
    "rental['monthly_rent'].sort_values(ascending=False)"
   ]
  },
  {
   "cell_type": "code",
   "execution_count": 74,
   "metadata": {},
   "outputs": [
    {
     "data": {
      "image/png": "[encoded data removed]",
      "text/plain": [
       "<Figure size 432x288 with 1 Axes>"
      ]
     },
     "metadata": {
      "needs_background": "light"
     },
     "output_type": "display_data"
    }
   ],
   "source": [
    "chart_outerCode.plot(kind='barh').set(title='Listings by Borough');"
   ]
  },
  {
   "cell_type": "code",
   "execution_count": 75,
   "metadata": {},
   "outputs": [
    {
     "data": {
      "text/plain": [
       "monthly_rent  Neighbourhood                                                                                             \n",
       "2000          Agincourt                                                                                                     1\n",
       "              CN Tower, King and Spadina, Railway Lands, Harbourfront West, Bathurst Quay, South Niagara, Island airport    1\n",
       "              Cedarbrae                                                                                                     3\n",
       "2050          Regent Park, Harbourfront                                                                                     0\n",
       "2100          Cedarbrae                                                                                                     3\n",
       "                                                                                                                           ..\n",
       "4000          India Bazaar, The Beaches West                                                                                0\n",
       "4900          The Annex, North Midtown, Yorkville                                                                           1\n",
       "5000          CN Tower, King and Spadina, Railway Lands, Harbourfront West, Bathurst Quay, South Niagara, Island airport    1\n",
       "6000          CN Tower, King and Spadina, Railway Lands, Harbourfront West, Bathurst Quay, South Niagara, Island airport    1\n",
       "7000          CN Tower, King and Spadina, Railway Lands, Harbourfront West, Bathurst Quay, South Niagara, Island airport    1\n",
       "Name: square_feet, Length: 121, dtype: int64"
      ]
     },
     "execution_count": 75,
     "metadata": {},
     "output_type": "execute_result"
    }
   ],
   "source": [
    "rental.groupby(['monthly_rent','Neighbourhood'])['square_feet'].count()"
   ]
  },
  {
   "cell_type": "code",
   "execution_count": 76,
   "metadata": {},
   "outputs": [
    {
     "data": {
      "text/html": [
       "<div>\n",
       "<style scoped>\n",
       "    .dataframe tbody tr th:only-of-type {\n",
       "        vertical-align: middle;\n",
       "    }\n",
       "\n",
       "    .dataframe tbody tr th {\n",
       "        vertical-align: top;\n",
       "    }\n",
       "\n",
       "    .dataframe thead tr th {\n",
       "        text-align: left;\n",
       "    }\n",
       "\n",
       "    .dataframe thead tr:last-of-type th {\n",
       "        text-align: right;\n",
       "    }\n",
       "</style>\n",
       "<table border=\"1\" class=\"dataframe\">\n",
       "  <thead>\n",
       "    <tr>\n",
       "      <th></th>\n",
       "      <th colspan=\"3\" halign=\"left\">monthly_rent</th>\n",
       "      <th colspan=\"3\" halign=\"left\">square_feet</th>\n",
       "    </tr>\n",
       "    <tr>\n",
       "      <th></th>\n",
       "      <th>min</th>\n",
       "      <th>mean</th>\n",
       "      <th>max</th>\n",
       "      <th>min</th>\n",
       "      <th>mean</th>\n",
       "      <th>max</th>\n",
       "    </tr>\n",
       "    <tr>\n",
       "      <th>postal_code</th>\n",
       "      <th></th>\n",
       "      <th></th>\n",
       "      <th></th>\n",
       "      <th></th>\n",
       "      <th></th>\n",
       "      <th></th>\n",
       "    </tr>\n",
       "  </thead>\n",
       "  <tbody>\n",
       "    <tr>\n",
       "      <td>M1E 4V4</td>\n",
       "      <td>2450</td>\n",
       "      <td>2450.0</td>\n",
       "      <td>2450</td>\n",
       "      <td>1300.0</td>\n",
       "      <td>1300.000000</td>\n",
       "      <td>1300.0</td>\n",
       "    </tr>\n",
       "    <tr>\n",
       "      <td>M1E 5E6</td>\n",
       "      <td>2250</td>\n",
       "      <td>2250.0</td>\n",
       "      <td>2250</td>\n",
       "      <td>932.0</td>\n",
       "      <td>932.000000</td>\n",
       "      <td>932.0</td>\n",
       "    </tr>\n",
       "    <tr>\n",
       "      <td>M1H 0A2</td>\n",
       "      <td>2000</td>\n",
       "      <td>2000.0</td>\n",
       "      <td>2000</td>\n",
       "      <td>785.0</td>\n",
       "      <td>785.000000</td>\n",
       "      <td>785.0</td>\n",
       "    </tr>\n",
       "    <tr>\n",
       "      <td>M1H 3G5</td>\n",
       "      <td>2400</td>\n",
       "      <td>2450.0</td>\n",
       "      <td>2500</td>\n",
       "      <td>1000.0</td>\n",
       "      <td>1066.666667</td>\n",
       "      <td>1100.0</td>\n",
       "    </tr>\n",
       "    <tr>\n",
       "      <td>M1H 3G6</td>\n",
       "      <td>2450</td>\n",
       "      <td>2450.0</td>\n",
       "      <td>2450</td>\n",
       "      <td>1100.0</td>\n",
       "      <td>1100.000000</td>\n",
       "      <td>1100.0</td>\n",
       "    </tr>\n",
       "    <tr>\n",
       "      <td>...</td>\n",
       "      <td>...</td>\n",
       "      <td>...</td>\n",
       "      <td>...</td>\n",
       "      <td>...</td>\n",
       "      <td>...</td>\n",
       "      <td>...</td>\n",
       "    </tr>\n",
       "    <tr>\n",
       "      <td>M6J 0B1</td>\n",
       "      <td>2750</td>\n",
       "      <td>2750.0</td>\n",
       "      <td>2750</td>\n",
       "      <td>NaN</td>\n",
       "      <td>NaN</td>\n",
       "      <td>NaN</td>\n",
       "    </tr>\n",
       "    <tr>\n",
       "      <td>M6J 3K6</td>\n",
       "      <td>2450</td>\n",
       "      <td>2450.0</td>\n",
       "      <td>2450</td>\n",
       "      <td>NaN</td>\n",
       "      <td>NaN</td>\n",
       "      <td>NaN</td>\n",
       "    </tr>\n",
       "    <tr>\n",
       "      <td>M6K 3P8</td>\n",
       "      <td>3200</td>\n",
       "      <td>3200.0</td>\n",
       "      <td>3200</td>\n",
       "      <td>NaN</td>\n",
       "      <td>NaN</td>\n",
       "      <td>NaN</td>\n",
       "    </tr>\n",
       "    <tr>\n",
       "      <td>M6K 3S2</td>\n",
       "      <td>3200</td>\n",
       "      <td>3200.0</td>\n",
       "      <td>3200</td>\n",
       "      <td>850.0</td>\n",
       "      <td>850.000000</td>\n",
       "      <td>850.0</td>\n",
       "    </tr>\n",
       "    <tr>\n",
       "      <td>M6S 3N4</td>\n",
       "      <td>2800</td>\n",
       "      <td>2800.0</td>\n",
       "      <td>2800</td>\n",
       "      <td>1100.0</td>\n",
       "      <td>1100.000000</td>\n",
       "      <td>1100.0</td>\n",
       "    </tr>\n",
       "  </tbody>\n",
       "</table>\n",
       "<p>109 rows × 6 columns</p>\n",
       "</div>"
      ],
      "text/plain": [
       "            monthly_rent               square_feet                     \n",
       "                     min    mean   max         min         mean     max\n",
       "postal_code                                                            \n",
       "M1E 4V4             2450  2450.0  2450      1300.0  1300.000000  1300.0\n",
       "M1E 5E6             2250  2250.0  2250       932.0   932.000000   932.0\n",
       "M1H 0A2             2000  2000.0  2000       785.0   785.000000   785.0\n",
       "M1H 3G5             2400  2450.0  2500      1000.0  1066.666667  1100.0\n",
       "M1H 3G6             2450  2450.0  2450      1100.0  1100.000000  1100.0\n",
       "...                  ...     ...   ...         ...          ...     ...\n",
       "M6J 0B1             2750  2750.0  2750         NaN          NaN     NaN\n",
       "M6J 3K6             2450  2450.0  2450         NaN          NaN     NaN\n",
       "M6K 3P8             3200  3200.0  3200         NaN          NaN     NaN\n",
       "M6K 3S2             3200  3200.0  3200       850.0   850.000000   850.0\n",
       "M6S 3N4             2800  2800.0  2800      1100.0  1100.000000  1100.0\n",
       "\n",
       "[109 rows x 6 columns]"
      ]
     },
     "execution_count": 76,
     "metadata": {},
     "output_type": "execute_result"
    }
   ],
   "source": [
    "rental.groupby('postal_code').aggregate(['min','mean','max'])"
   ]
  },
  {
   "cell_type": "code",
   "execution_count": 77,
   "metadata": {},
   "outputs": [
    {
     "data": {
      "text/html": [
       "<div>\n",
       "<style scoped>\n",
       "    .dataframe tbody tr th:only-of-type {\n",
       "        vertical-align: middle;\n",
       "    }\n",
       "\n",
       "    .dataframe tbody tr th {\n",
       "        vertical-align: top;\n",
       "    }\n",
       "\n",
       "    .dataframe thead th {\n",
       "        text-align: right;\n",
       "    }\n",
       "</style>\n",
       "<table border=\"1\" class=\"dataframe\">\n",
       "  <thead>\n",
       "    <tr style=\"text-align: right;\">\n",
       "      <th></th>\n",
       "      <th>monthly_rent</th>\n",
       "      <th>postal_code</th>\n",
       "      <th>square_feet</th>\n",
       "      <th>outerCode</th>\n",
       "      <th>Borough</th>\n",
       "      <th>Neighbourhood</th>\n",
       "    </tr>\n",
       "  </thead>\n",
       "  <tbody>\n",
       "    <tr>\n",
       "      <td>0</td>\n",
       "      <td>3985</td>\n",
       "      <td>M5A 3N8</td>\n",
       "      <td>NaN</td>\n",
       "      <td>M5A</td>\n",
       "      <td>Downtown Toronto</td>\n",
       "      <td>Regent Park, Harbourfront</td>\n",
       "    </tr>\n",
       "    <tr>\n",
       "      <td>1</td>\n",
       "      <td>2500</td>\n",
       "      <td>M5A 1Z4</td>\n",
       "      <td>669.0</td>\n",
       "      <td>M5A</td>\n",
       "      <td>Downtown Toronto</td>\n",
       "      <td>Regent Park, Harbourfront</td>\n",
       "    </tr>\n",
       "    <tr>\n",
       "      <td>2</td>\n",
       "      <td>3600</td>\n",
       "      <td>M5A 0N8</td>\n",
       "      <td>935.0</td>\n",
       "      <td>M5A</td>\n",
       "      <td>Downtown Toronto</td>\n",
       "      <td>Regent Park, Harbourfront</td>\n",
       "    </tr>\n",
       "    <tr>\n",
       "      <td>3</td>\n",
       "      <td>3000</td>\n",
       "      <td>M5A 4E8</td>\n",
       "      <td>NaN</td>\n",
       "      <td>M5A</td>\n",
       "      <td>Downtown Toronto</td>\n",
       "      <td>Regent Park, Harbourfront</td>\n",
       "    </tr>\n",
       "    <tr>\n",
       "      <td>4</td>\n",
       "      <td>3200</td>\n",
       "      <td>M5A 1M1</td>\n",
       "      <td>NaN</td>\n",
       "      <td>M5A</td>\n",
       "      <td>Downtown Toronto</td>\n",
       "      <td>Regent Park, Harbourfront</td>\n",
       "    </tr>\n",
       "    <tr>\n",
       "      <td>...</td>\n",
       "      <td>...</td>\n",
       "      <td>...</td>\n",
       "      <td>...</td>\n",
       "      <td>...</td>\n",
       "      <td>...</td>\n",
       "      <td>...</td>\n",
       "    </tr>\n",
       "    <tr>\n",
       "      <td>163</td>\n",
       "      <td>3200</td>\n",
       "      <td>M5G 2K2</td>\n",
       "      <td>820.0</td>\n",
       "      <td>M5G</td>\n",
       "      <td>Downtown Toronto</td>\n",
       "      <td>Central Bay Street</td>\n",
       "    </tr>\n",
       "    <tr>\n",
       "      <td>164</td>\n",
       "      <td>2800</td>\n",
       "      <td>M6S 3N4</td>\n",
       "      <td>1100.0</td>\n",
       "      <td>M6S</td>\n",
       "      <td>West Toronto</td>\n",
       "      <td>Runnymede, Swansea</td>\n",
       "    </tr>\n",
       "    <tr>\n",
       "      <td>165</td>\n",
       "      <td>2395</td>\n",
       "      <td>M6H 4K6</td>\n",
       "      <td>NaN</td>\n",
       "      <td>M6H</td>\n",
       "      <td>West Toronto</td>\n",
       "      <td>Dufferin, Dovercourt Village</td>\n",
       "    </tr>\n",
       "    <tr>\n",
       "      <td>166</td>\n",
       "      <td>2650</td>\n",
       "      <td>M5H 0B1</td>\n",
       "      <td>NaN</td>\n",
       "      <td>M5H</td>\n",
       "      <td>Downtown Toronto</td>\n",
       "      <td>Richmond, Adelaide, King</td>\n",
       "    </tr>\n",
       "    <tr>\n",
       "      <td>167</td>\n",
       "      <td>4900</td>\n",
       "      <td>M5R 2H7</td>\n",
       "      <td>1244.0</td>\n",
       "      <td>M5R</td>\n",
       "      <td>Central Toronto</td>\n",
       "      <td>The Annex, North Midtown, Yorkville</td>\n",
       "    </tr>\n",
       "  </tbody>\n",
       "</table>\n",
       "<p>166 rows × 6 columns</p>\n",
       "</div>"
      ],
      "text/plain": [
       "     monthly_rent postal_code  square_feet outerCode           Borough  \\\n",
       "0            3985     M5A 3N8          NaN       M5A  Downtown Toronto   \n",
       "1            2500     M5A 1Z4        669.0       M5A  Downtown Toronto   \n",
       "2            3600     M5A 0N8        935.0       M5A  Downtown Toronto   \n",
       "3            3000     M5A 4E8          NaN       M5A  Downtown Toronto   \n",
       "4            3200     M5A 1M1          NaN       M5A  Downtown Toronto   \n",
       "..            ...         ...          ...       ...               ...   \n",
       "163          3200     M5G 2K2        820.0       M5G  Downtown Toronto   \n",
       "164          2800     M6S 3N4       1100.0       M6S      West Toronto   \n",
       "165          2395     M6H 4K6          NaN       M6H      West Toronto   \n",
       "166          2650     M5H 0B1          NaN       M5H  Downtown Toronto   \n",
       "167          4900     M5R 2H7       1244.0       M5R   Central Toronto   \n",
       "\n",
       "                           Neighbourhood  \n",
       "0              Regent Park, Harbourfront  \n",
       "1              Regent Park, Harbourfront  \n",
       "2              Regent Park, Harbourfront  \n",
       "3              Regent Park, Harbourfront  \n",
       "4              Regent Park, Harbourfront  \n",
       "..                                   ...  \n",
       "163                   Central Bay Street  \n",
       "164                   Runnymede, Swansea  \n",
       "165         Dufferin, Dovercourt Village  \n",
       "166             Richmond, Adelaide, King  \n",
       "167  The Annex, North Midtown, Yorkville  \n",
       "\n",
       "[166 rows x 6 columns]"
      ]
     },
     "execution_count": 77,
     "metadata": {},
     "output_type": "execute_result"
    }
   ],
   "source": [
    "rental"
   ]
  },
  {
   "cell_type": "code",
   "execution_count": 78,
   "metadata": {},
   "outputs": [
    {
     "data": {
      "text/plain": [
       "East Toronto         5\n",
       "West Toronto         7\n",
       "Central Toronto     12\n",
       "Downtown Toronto    65\n",
       "Scarborough         77\n",
       "Name: Borough, dtype: int64"
      ]
     },
     "execution_count": 78,
     "metadata": {},
     "output_type": "execute_result"
    }
   ],
   "source": [
    "chart_outerCode=rental['Borough'].value_counts().sort_values(ascending=True)\n",
    "chart_outerCode\n"
   ]
  },
  {
   "cell_type": "code",
   "execution_count": 79,
   "metadata": {},
   "outputs": [
    {
     "data": {
      "image/png": "[encoded data removed]",
      "text/plain": [
       "<Figure size 432x288 with 1 Axes>"
      ]
     },
     "metadata": {
      "needs_background": "light"
     },
     "output_type": "display_data"
    }
   ],
   "source": [
    "chart_outerCode.plot(kind='barh').set(title='Listings by Borough');"
   ]
  },
  {
   "cell_type": "code",
   "execution_count": 80,
   "metadata": {},
   "outputs": [
    {
     "data": {
      "text/plain": [
       "Scarborough Village                                                                                            1\n",
       "St. James Town, Cabbagetown                                                                                    1\n",
       "Richmond, Adelaide, King                                                                                       1\n",
       "Forest Hill North & West, Forest Hill Road Park                                                                1\n",
       "Dufferin, Dovercourt Village                                                                                   1\n",
       "The Annex, North Midtown, Yorkville                                                                            1\n",
       "Summerhill West, Rathnelly, South Hill, Forest Hill SE, Deer Park                                              1\n",
       "India Bazaar, The Beaches West                                                                                 1\n",
       "Runnymede, Swansea                                                                                             1\n",
       "University of Toronto, Harbord                                                                                 1\n",
       "Brockton, Parkdale Village, Exhibition Place                                                                   2\n",
       "Central Bay Street                                                                                             2\n",
       "Birch Cliff, Cliffside West                                                                                    2\n",
       "Little Portugal, Trinity                                                                                       3\n",
       "Milliken, Agincourt North, Steeles East, L'Amoreaux East                                                       3\n",
       "Steeles West, L'Amoreaux West                                                                                  3\n",
       "Davisville                                                                                                     4\n",
       "Studio District                                                                                                4\n",
       "Kennedy Park, Ionview, East Birchmount Park                                                                    4\n",
       "Guildwood, Morningside, West Hill                                                                              5\n",
       "Berczy Park                                                                                                    5\n",
       "Davisville North                                                                                               5\n",
       "Agincourt                                                                                                      7\n",
       "Garden District, Ryerson                                                                                       7\n",
       "Church and Wellesley                                                                                           7\n",
       "Regent Park, Harbourfront                                                                                      9\n",
       "Harbourfront East, Union Station, Toronto Islands                                                              9\n",
       "Dorset Park, Wexford Heights, Scarborough Town Centre                                                         17\n",
       "CN Tower, King and Spadina, Railway Lands, Harbourfront West, Bathurst Quay, South Niagara, Island airport    23\n",
       "Cedarbrae                                                                                                     35\n",
       "Name: Neighbourhood, dtype: int64"
      ]
     },
     "execution_count": 80,
     "metadata": {},
     "output_type": "execute_result"
    }
   ],
   "source": [
    "chart_Neighbourhood=rental['Neighbourhood'].value_counts().sort_values(ascending=True)\n",
    "chart_Neighbourhood"
   ]
  },
  {
   "cell_type": "code",
   "execution_count": 81,
   "metadata": {},
   "outputs": [
    {
     "data": {
      "image/png": "[encoded data removed]",
      "text/plain": [
       "<Figure size 432x288 with 1 Axes>"
      ]
     },
     "metadata": {
      "needs_background": "light"
     },
     "output_type": "display_data"
    }
   ],
   "source": [
    "chart_Neighbourhood.plot(kind='barh').set(title='Listings by Borough');"
   ]
  },
  {
   "cell_type": "code",
   "execution_count": 82,
   "metadata": {},
   "outputs": [
    {
     "data": {
      "text/html": [
       "<div>\n",
       "<style scoped>\n",
       "    .dataframe tbody tr th:only-of-type {\n",
       "        vertical-align: middle;\n",
       "    }\n",
       "\n",
       "    .dataframe tbody tr th {\n",
       "        vertical-align: top;\n",
       "    }\n",
       "\n",
       "    .dataframe thead th {\n",
       "        text-align: right;\n",
       "    }\n",
       "</style>\n",
       "<table border=\"1\" class=\"dataframe\">\n",
       "  <thead>\n",
       "    <tr style=\"text-align: right;\">\n",
       "      <th></th>\n",
       "      <th>min</th>\n",
       "      <th>mean</th>\n",
       "      <th>max</th>\n",
       "    </tr>\n",
       "    <tr>\n",
       "      <th>Borough</th>\n",
       "      <th></th>\n",
       "      <th></th>\n",
       "      <th></th>\n",
       "    </tr>\n",
       "  </thead>\n",
       "  <tbody>\n",
       "    <tr>\n",
       "      <td>Central Toronto</td>\n",
       "      <td>2550</td>\n",
       "      <td>3081.666667</td>\n",
       "      <td>4900</td>\n",
       "    </tr>\n",
       "    <tr>\n",
       "      <td>Downtown Toronto</td>\n",
       "      <td>2000</td>\n",
       "      <td>3070.784615</td>\n",
       "      <td>7000</td>\n",
       "    </tr>\n",
       "    <tr>\n",
       "      <td>East Toronto</td>\n",
       "      <td>2200</td>\n",
       "      <td>2870.000000</td>\n",
       "      <td>4000</td>\n",
       "    </tr>\n",
       "    <tr>\n",
       "      <td>Scarborough</td>\n",
       "      <td>2000</td>\n",
       "      <td>2380.389610</td>\n",
       "      <td>3150</td>\n",
       "    </tr>\n",
       "    <tr>\n",
       "      <td>West Toronto</td>\n",
       "      <td>2395</td>\n",
       "      <td>2742.142857</td>\n",
       "      <td>3200</td>\n",
       "    </tr>\n",
       "  </tbody>\n",
       "</table>\n",
       "</div>"
      ],
      "text/plain": [
       "                   min         mean   max\n",
       "Borough                                  \n",
       "Central Toronto   2550  3081.666667  4900\n",
       "Downtown Toronto  2000  3070.784615  7000\n",
       "East Toronto      2200  2870.000000  4000\n",
       "Scarborough       2000  2380.389610  3150\n",
       "West Toronto      2395  2742.142857  3200"
      ]
     },
     "execution_count": 82,
     "metadata": {},
     "output_type": "execute_result"
    }
   ],
   "source": [
    "rental.groupby('Borough')['monthly_rent'].agg(['min','mean','max'])"
   ]
  },
  {
   "cell_type": "code",
   "execution_count": 83,
   "metadata": {},
   "outputs": [
    {
     "data": {
      "text/html": [
       "<div>\n",
       "<style scoped>\n",
       "    .dataframe tbody tr th:only-of-type {\n",
       "        vertical-align: middle;\n",
       "    }\n",
       "\n",
       "    .dataframe tbody tr th {\n",
       "        vertical-align: top;\n",
       "    }\n",
       "\n",
       "    .dataframe thead th {\n",
       "        text-align: right;\n",
       "    }\n",
       "</style>\n",
       "<table border=\"1\" class=\"dataframe\">\n",
       "  <thead>\n",
       "    <tr style=\"text-align: right;\">\n",
       "      <th></th>\n",
       "      <th>min</th>\n",
       "      <th>mean</th>\n",
       "      <th>max</th>\n",
       "    </tr>\n",
       "    <tr>\n",
       "      <th>Borough</th>\n",
       "      <th></th>\n",
       "      <th></th>\n",
       "      <th></th>\n",
       "    </tr>\n",
       "  </thead>\n",
       "  <tbody>\n",
       "    <tr>\n",
       "      <td>Scarborough</td>\n",
       "      <td>2000</td>\n",
       "      <td>2380.389610</td>\n",
       "      <td>3150</td>\n",
       "    </tr>\n",
       "    <tr>\n",
       "      <td>West Toronto</td>\n",
       "      <td>2395</td>\n",
       "      <td>2742.142857</td>\n",
       "      <td>3200</td>\n",
       "    </tr>\n",
       "    <tr>\n",
       "      <td>East Toronto</td>\n",
       "      <td>2200</td>\n",
       "      <td>2870.000000</td>\n",
       "      <td>4000</td>\n",
       "    </tr>\n",
       "    <tr>\n",
       "      <td>Downtown Toronto</td>\n",
       "      <td>2000</td>\n",
       "      <td>3070.784615</td>\n",
       "      <td>7000</td>\n",
       "    </tr>\n",
       "    <tr>\n",
       "      <td>Central Toronto</td>\n",
       "      <td>2550</td>\n",
       "      <td>3081.666667</td>\n",
       "      <td>4900</td>\n",
       "    </tr>\n",
       "  </tbody>\n",
       "</table>\n",
       "</div>"
      ],
      "text/plain": [
       "                   min         mean   max\n",
       "Borough                                  \n",
       "Scarborough       2000  2380.389610  3150\n",
       "West Toronto      2395  2742.142857  3200\n",
       "East Toronto      2200  2870.000000  4000\n",
       "Downtown Toronto  2000  3070.784615  7000\n",
       "Central Toronto   2550  3081.666667  4900"
      ]
     },
     "execution_count": 83,
     "metadata": {},
     "output_type": "execute_result"
    }
   ],
   "source": [
    "rental.groupby('Borough')['monthly_rent'].agg(['min','mean','max']).sort_values(['mean'])"
   ]
  },
  {
   "cell_type": "code",
   "execution_count": 84,
   "metadata": {},
   "outputs": [],
   "source": [
    "chart_top_mean_hood = rental.groupby('Neighbourhood')['monthly_rent'].agg(['min','mean','max']).sort_values(['mean']).head()"
   ]
  },
  {
   "cell_type": "code",
   "execution_count": 85,
   "metadata": {},
   "outputs": [
    {
     "data": {
      "text/html": [
       "<div>\n",
       "<style scoped>\n",
       "    .dataframe tbody tr th:only-of-type {\n",
       "        vertical-align: middle;\n",
       "    }\n",
       "\n",
       "    .dataframe tbody tr th {\n",
       "        vertical-align: top;\n",
       "    }\n",
       "\n",
       "    .dataframe thead th {\n",
       "        text-align: right;\n",
       "    }\n",
       "</style>\n",
       "<table border=\"1\" class=\"dataframe\">\n",
       "  <thead>\n",
       "    <tr style=\"text-align: right;\">\n",
       "      <th></th>\n",
       "      <th>min</th>\n",
       "      <th>mean</th>\n",
       "      <th>max</th>\n",
       "    </tr>\n",
       "    <tr>\n",
       "      <th>Neighbourhood</th>\n",
       "      <th></th>\n",
       "      <th></th>\n",
       "      <th></th>\n",
       "    </tr>\n",
       "  </thead>\n",
       "  <tbody>\n",
       "    <tr>\n",
       "      <td>Milliken, Agincourt North, Steeles East, L'Amoreaux East</td>\n",
       "      <td>2100</td>\n",
       "      <td>2250.000000</td>\n",
       "      <td>2450</td>\n",
       "    </tr>\n",
       "    <tr>\n",
       "      <td>Guildwood, Morningside, West Hill</td>\n",
       "      <td>2250</td>\n",
       "      <td>2290.000000</td>\n",
       "      <td>2450</td>\n",
       "    </tr>\n",
       "    <tr>\n",
       "      <td>Scarborough Village</td>\n",
       "      <td>2300</td>\n",
       "      <td>2300.000000</td>\n",
       "      <td>2300</td>\n",
       "    </tr>\n",
       "    <tr>\n",
       "      <td>Steeles West, L'Amoreaux West</td>\n",
       "      <td>2200</td>\n",
       "      <td>2306.666667</td>\n",
       "      <td>2500</td>\n",
       "    </tr>\n",
       "    <tr>\n",
       "      <td>Kennedy Park, Ionview, East Birchmount Park</td>\n",
       "      <td>2300</td>\n",
       "      <td>2325.000000</td>\n",
       "      <td>2400</td>\n",
       "    </tr>\n",
       "  </tbody>\n",
       "</table>\n",
       "</div>"
      ],
      "text/plain": [
       "                                                     min         mean   max\n",
       "Neighbourhood                                                              \n",
       "Milliken, Agincourt North, Steeles East, L'Amor...  2100  2250.000000  2450\n",
       "Guildwood, Morningside, West Hill                   2250  2290.000000  2450\n",
       "Scarborough Village                                 2300  2300.000000  2300\n",
       "Steeles West, L'Amoreaux West                       2200  2306.666667  2500\n",
       "Kennedy Park, Ionview, East Birchmount Park         2300  2325.000000  2400"
      ]
     },
     "execution_count": 85,
     "metadata": {},
     "output_type": "execute_result"
    }
   ],
   "source": [
    "chart_top_mean_hood"
   ]
  },
  {
   "cell_type": "code",
   "execution_count": 86,
   "metadata": {},
   "outputs": [],
   "source": [
    "chart_top_mean_hood = rental.groupby('Neighbourhood')['monthly_rent'].agg(['min','mean','max']).sort_values(['mean']).tail()"
   ]
  },
  {
   "cell_type": "code",
   "execution_count": 87,
   "metadata": {},
   "outputs": [
    {
     "data": {
      "text/html": [
       "<div>\n",
       "<style scoped>\n",
       "    .dataframe tbody tr th:only-of-type {\n",
       "        vertical-align: middle;\n",
       "    }\n",
       "\n",
       "    .dataframe tbody tr th {\n",
       "        vertical-align: top;\n",
       "    }\n",
       "\n",
       "    .dataframe thead th {\n",
       "        text-align: right;\n",
       "    }\n",
       "</style>\n",
       "<table border=\"1\" class=\"dataframe\">\n",
       "  <thead>\n",
       "    <tr style=\"text-align: right;\">\n",
       "      <th></th>\n",
       "      <th>min</th>\n",
       "      <th>mean</th>\n",
       "      <th>max</th>\n",
       "    </tr>\n",
       "    <tr>\n",
       "      <th>Neighbourhood</th>\n",
       "      <th></th>\n",
       "      <th></th>\n",
       "      <th></th>\n",
       "    </tr>\n",
       "  </thead>\n",
       "  <tbody>\n",
       "    <tr>\n",
       "      <td>Brockton, Parkdale Village, Exhibition Place</td>\n",
       "      <td>3200</td>\n",
       "      <td>3200.00000</td>\n",
       "      <td>3200</td>\n",
       "    </tr>\n",
       "    <tr>\n",
       "      <td>CN Tower, King and Spadina, Railway Lands, Harbourfront West, Bathurst Quay, South Niagara, Island airport</td>\n",
       "      <td>2000</td>\n",
       "      <td>3393.26087</td>\n",
       "      <td>7000</td>\n",
       "    </tr>\n",
       "    <tr>\n",
       "      <td>University of Toronto, Harbord</td>\n",
       "      <td>3800</td>\n",
       "      <td>3800.00000</td>\n",
       "      <td>3800</td>\n",
       "    </tr>\n",
       "    <tr>\n",
       "      <td>India Bazaar, The Beaches West</td>\n",
       "      <td>4000</td>\n",
       "      <td>4000.00000</td>\n",
       "      <td>4000</td>\n",
       "    </tr>\n",
       "    <tr>\n",
       "      <td>The Annex, North Midtown, Yorkville</td>\n",
       "      <td>4900</td>\n",
       "      <td>4900.00000</td>\n",
       "      <td>4900</td>\n",
       "    </tr>\n",
       "  </tbody>\n",
       "</table>\n",
       "</div>"
      ],
      "text/plain": [
       "                                                     min        mean   max\n",
       "Neighbourhood                                                             \n",
       "Brockton, Parkdale Village, Exhibition Place        3200  3200.00000  3200\n",
       "CN Tower, King and Spadina, Railway Lands, Harb...  2000  3393.26087  7000\n",
       "University of Toronto, Harbord                      3800  3800.00000  3800\n",
       "India Bazaar, The Beaches West                      4000  4000.00000  4000\n",
       "The Annex, North Midtown, Yorkville                 4900  4900.00000  4900"
      ]
     },
     "execution_count": 87,
     "metadata": {},
     "output_type": "execute_result"
    }
   ],
   "source": [
    "chart_top_mean_hood"
   ]
  },
  {
   "cell_type": "code",
   "execution_count": 88,
   "metadata": {},
   "outputs": [
    {
     "data": {
      "image/png": "[encoded data removed]",
      "text/plain": [
       "<Figure size 432x288 with 1 Axes>"
      ]
     },
     "metadata": {
      "needs_background": "light"
     },
     "output_type": "display_data"
    }
   ],
   "source": [
    "chart_top_mean_hood.plot(kind='barh').set(title='Top Neighbourhood Mean Rent');"
   ]
  },
  {
   "cell_type": "code",
   "execution_count": 89,
   "metadata": {},
   "outputs": [],
   "source": [
    "chart_bottom_mean_hood = rental.groupby('Neighbourhood')['monthly_rent'].agg(['min','mean','max']).sort_values(['mean']).head()"
   ]
  },
  {
   "cell_type": "code",
   "execution_count": 90,
   "metadata": {},
   "outputs": [
    {
     "data": {
      "text/html": [
       "<div>\n",
       "<style scoped>\n",
       "    .dataframe tbody tr th:only-of-type {\n",
       "        vertical-align: middle;\n",
       "    }\n",
       "\n",
       "    .dataframe tbody tr th {\n",
       "        vertical-align: top;\n",
       "    }\n",
       "\n",
       "    .dataframe thead th {\n",
       "        text-align: right;\n",
       "    }\n",
       "</style>\n",
       "<table border=\"1\" class=\"dataframe\">\n",
       "  <thead>\n",
       "    <tr style=\"text-align: right;\">\n",
       "      <th></th>\n",
       "      <th>min</th>\n",
       "      <th>mean</th>\n",
       "      <th>max</th>\n",
       "    </tr>\n",
       "    <tr>\n",
       "      <th>Neighbourhood</th>\n",
       "      <th></th>\n",
       "      <th></th>\n",
       "      <th></th>\n",
       "    </tr>\n",
       "  </thead>\n",
       "  <tbody>\n",
       "    <tr>\n",
       "      <td>Milliken, Agincourt North, Steeles East, L'Amoreaux East</td>\n",
       "      <td>2100</td>\n",
       "      <td>2250.000000</td>\n",
       "      <td>2450</td>\n",
       "    </tr>\n",
       "    <tr>\n",
       "      <td>Guildwood, Morningside, West Hill</td>\n",
       "      <td>2250</td>\n",
       "      <td>2290.000000</td>\n",
       "      <td>2450</td>\n",
       "    </tr>\n",
       "    <tr>\n",
       "      <td>Scarborough Village</td>\n",
       "      <td>2300</td>\n",
       "      <td>2300.000000</td>\n",
       "      <td>2300</td>\n",
       "    </tr>\n",
       "    <tr>\n",
       "      <td>Steeles West, L'Amoreaux West</td>\n",
       "      <td>2200</td>\n",
       "      <td>2306.666667</td>\n",
       "      <td>2500</td>\n",
       "    </tr>\n",
       "    <tr>\n",
       "      <td>Kennedy Park, Ionview, East Birchmount Park</td>\n",
       "      <td>2300</td>\n",
       "      <td>2325.000000</td>\n",
       "      <td>2400</td>\n",
       "    </tr>\n",
       "  </tbody>\n",
       "</table>\n",
       "</div>"
      ],
      "text/plain": [
       "                                                     min         mean   max\n",
       "Neighbourhood                                                              \n",
       "Milliken, Agincourt North, Steeles East, L'Amor...  2100  2250.000000  2450\n",
       "Guildwood, Morningside, West Hill                   2250  2290.000000  2450\n",
       "Scarborough Village                                 2300  2300.000000  2300\n",
       "Steeles West, L'Amoreaux West                       2200  2306.666667  2500\n",
       "Kennedy Park, Ionview, East Birchmount Park         2300  2325.000000  2400"
      ]
     },
     "execution_count": 90,
     "metadata": {},
     "output_type": "execute_result"
    }
   ],
   "source": [
    "chart_bottom_mean_hood"
   ]
  },
  {
   "cell_type": "code",
   "execution_count": 91,
   "metadata": {},
   "outputs": [
    {
     "data": {
      "image/png": "[encoded data removed]",
      "text/plain": [
       "<Figure size 432x288 with 1 Axes>"
      ]
     },
     "metadata": {
      "needs_background": "light"
     },
     "output_type": "display_data"
    }
   ],
   "source": [
    "chart_bottom_mean_hood.plot(kind='barh').set(title='Lowest Neighbourhood Mean Rent');"
   ]
  },
  {
   "cell_type": "markdown",
   "metadata": {},
   "source": [
    "## Scatterplot Rent vs Sq ft"
   ]
  },
  {
   "cell_type": "code",
   "execution_count": 92,
   "metadata": {},
   "outputs": [
    {
     "data": {
      "image/png": "[encoded data removed]",
      "text/plain": [
       "<Figure size 432x288 with 1 Axes>"
      ]
     },
     "metadata": {
      "needs_background": "light"
     },
     "output_type": "display_data"
    }
   ],
   "source": [
    "rental.plot(kind='scatter',x='square_feet',y='monthly_rent')\n",
    "\n",
    "plt.show()"
   ]
  },
  {
   "cell_type": "code",
   "execution_count": 93,
   "metadata": {},
   "outputs": [],
   "source": [
    "names=rental['Borough'].unique()"
   ]
  },
  {
   "cell_type": "code",
   "execution_count": 94,
   "metadata": {},
   "outputs": [
    {
     "data": {
      "text/plain": [
       "array(['Downtown Toronto', 'Scarborough', 'East Toronto',\n",
       "       'Central Toronto', 'West Toronto'], dtype=object)"
      ]
     },
     "execution_count": 94,
     "metadata": {},
     "output_type": "execute_result"
    }
   ],
   "source": [
    "names"
   ]
  },
  {
   "cell_type": "code",
   "execution_count": 95,
   "metadata": {},
   "outputs": [],
   "source": [
    "def right(df, a, column_name):\n",
    "    return df[df['Borough'] == a][column_name]"
   ]
  },
  {
   "cell_type": "code",
   "execution_count": 96,
   "metadata": {},
   "outputs": [],
   "source": [
    "markers=['o','v','1','2','3','s','x']"
   ]
  },
  {
   "cell_type": "code",
   "execution_count": 97,
   "metadata": {},
   "outputs": [
    {
     "data": {
      "text/plain": [
       "(('Downtown Toronto', 'o'),\n",
       " ('Scarborough', 'v'),\n",
       " ('East Toronto', '1'),\n",
       " ('Central Toronto', '2'),\n",
       " ('West Toronto', '3'))"
      ]
     },
     "execution_count": 97,
     "metadata": {},
     "output_type": "execute_result"
    }
   ],
   "source": [
    "zipped =zip(names,markers)\n",
    "tuple(zipped)"
   ]
  },
  {
   "cell_type": "code",
   "execution_count": 98,
   "metadata": {},
   "outputs": [
    {
     "data": {
      "text/html": [
       "<div>\n",
       "<style scoped>\n",
       "    .dataframe tbody tr th:only-of-type {\n",
       "        vertical-align: middle;\n",
       "    }\n",
       "\n",
       "    .dataframe tbody tr th {\n",
       "        vertical-align: top;\n",
       "    }\n",
       "\n",
       "    .dataframe thead th {\n",
       "        text-align: right;\n",
       "    }\n",
       "</style>\n",
       "<table border=\"1\" class=\"dataframe\">\n",
       "  <thead>\n",
       "    <tr style=\"text-align: right;\">\n",
       "      <th></th>\n",
       "      <th>monthly_rent</th>\n",
       "      <th>postal_code</th>\n",
       "      <th>square_feet</th>\n",
       "      <th>outerCode</th>\n",
       "      <th>Borough</th>\n",
       "      <th>Neighbourhood</th>\n",
       "    </tr>\n",
       "  </thead>\n",
       "  <tbody>\n",
       "    <tr>\n",
       "      <td>0</td>\n",
       "      <td>3985</td>\n",
       "      <td>M5A 3N8</td>\n",
       "      <td>NaN</td>\n",
       "      <td>M5A</td>\n",
       "      <td>Downtown Toronto</td>\n",
       "      <td>Regent Park, Harbourfront</td>\n",
       "    </tr>\n",
       "    <tr>\n",
       "      <td>1</td>\n",
       "      <td>2500</td>\n",
       "      <td>M5A 1Z4</td>\n",
       "      <td>669.0</td>\n",
       "      <td>M5A</td>\n",
       "      <td>Downtown Toronto</td>\n",
       "      <td>Regent Park, Harbourfront</td>\n",
       "    </tr>\n",
       "    <tr>\n",
       "      <td>2</td>\n",
       "      <td>3600</td>\n",
       "      <td>M5A 0N8</td>\n",
       "      <td>935.0</td>\n",
       "      <td>M5A</td>\n",
       "      <td>Downtown Toronto</td>\n",
       "      <td>Regent Park, Harbourfront</td>\n",
       "    </tr>\n",
       "    <tr>\n",
       "      <td>3</td>\n",
       "      <td>3000</td>\n",
       "      <td>M5A 4E8</td>\n",
       "      <td>NaN</td>\n",
       "      <td>M5A</td>\n",
       "      <td>Downtown Toronto</td>\n",
       "      <td>Regent Park, Harbourfront</td>\n",
       "    </tr>\n",
       "    <tr>\n",
       "      <td>4</td>\n",
       "      <td>3200</td>\n",
       "      <td>M5A 1M1</td>\n",
       "      <td>NaN</td>\n",
       "      <td>M5A</td>\n",
       "      <td>Downtown Toronto</td>\n",
       "      <td>Regent Park, Harbourfront</td>\n",
       "    </tr>\n",
       "    <tr>\n",
       "      <td>...</td>\n",
       "      <td>...</td>\n",
       "      <td>...</td>\n",
       "      <td>...</td>\n",
       "      <td>...</td>\n",
       "      <td>...</td>\n",
       "      <td>...</td>\n",
       "    </tr>\n",
       "    <tr>\n",
       "      <td>163</td>\n",
       "      <td>3200</td>\n",
       "      <td>M5G 2K2</td>\n",
       "      <td>820.0</td>\n",
       "      <td>M5G</td>\n",
       "      <td>Downtown Toronto</td>\n",
       "      <td>Central Bay Street</td>\n",
       "    </tr>\n",
       "    <tr>\n",
       "      <td>164</td>\n",
       "      <td>2800</td>\n",
       "      <td>M6S 3N4</td>\n",
       "      <td>1100.0</td>\n",
       "      <td>M6S</td>\n",
       "      <td>West Toronto</td>\n",
       "      <td>Runnymede, Swansea</td>\n",
       "    </tr>\n",
       "    <tr>\n",
       "      <td>165</td>\n",
       "      <td>2395</td>\n",
       "      <td>M6H 4K6</td>\n",
       "      <td>NaN</td>\n",
       "      <td>M6H</td>\n",
       "      <td>West Toronto</td>\n",
       "      <td>Dufferin, Dovercourt Village</td>\n",
       "    </tr>\n",
       "    <tr>\n",
       "      <td>166</td>\n",
       "      <td>2650</td>\n",
       "      <td>M5H 0B1</td>\n",
       "      <td>NaN</td>\n",
       "      <td>M5H</td>\n",
       "      <td>Downtown Toronto</td>\n",
       "      <td>Richmond, Adelaide, King</td>\n",
       "    </tr>\n",
       "    <tr>\n",
       "      <td>167</td>\n",
       "      <td>4900</td>\n",
       "      <td>M5R 2H7</td>\n",
       "      <td>1244.0</td>\n",
       "      <td>M5R</td>\n",
       "      <td>Central Toronto</td>\n",
       "      <td>The Annex, North Midtown, Yorkville</td>\n",
       "    </tr>\n",
       "  </tbody>\n",
       "</table>\n",
       "<p>166 rows × 6 columns</p>\n",
       "</div>"
      ],
      "text/plain": [
       "     monthly_rent postal_code  square_feet outerCode           Borough  \\\n",
       "0            3985     M5A 3N8          NaN       M5A  Downtown Toronto   \n",
       "1            2500     M5A 1Z4        669.0       M5A  Downtown Toronto   \n",
       "2            3600     M5A 0N8        935.0       M5A  Downtown Toronto   \n",
       "3            3000     M5A 4E8          NaN       M5A  Downtown Toronto   \n",
       "4            3200     M5A 1M1          NaN       M5A  Downtown Toronto   \n",
       "..            ...         ...          ...       ...               ...   \n",
       "163          3200     M5G 2K2        820.0       M5G  Downtown Toronto   \n",
       "164          2800     M6S 3N4       1100.0       M6S      West Toronto   \n",
       "165          2395     M6H 4K6          NaN       M6H      West Toronto   \n",
       "166          2650     M5H 0B1          NaN       M5H  Downtown Toronto   \n",
       "167          4900     M5R 2H7       1244.0       M5R   Central Toronto   \n",
       "\n",
       "                           Neighbourhood  \n",
       "0              Regent Park, Harbourfront  \n",
       "1              Regent Park, Harbourfront  \n",
       "2              Regent Park, Harbourfront  \n",
       "3              Regent Park, Harbourfront  \n",
       "4              Regent Park, Harbourfront  \n",
       "..                                   ...  \n",
       "163                   Central Bay Street  \n",
       "164                   Runnymede, Swansea  \n",
       "165         Dufferin, Dovercourt Village  \n",
       "166             Richmond, Adelaide, King  \n",
       "167  The Annex, North Midtown, Yorkville  \n",
       "\n",
       "[166 rows x 6 columns]"
      ]
     },
     "execution_count": 98,
     "metadata": {},
     "output_type": "execute_result"
    }
   ],
   "source": [
    "rental"
   ]
  },
  {
   "cell_type": "code",
   "execution_count": 101,
   "metadata": {},
   "outputs": [],
   "source": [
    "rentals = rental.copy().loc[(rental['Borough'] == 'Downtown Toronto') | (rental['Borough'] == 'Scarborough')]"
   ]
  },
  {
   "cell_type": "code",
   "execution_count": 103,
   "metadata": {},
   "outputs": [
    {
     "data": {
      "text/html": [
       "<div>\n",
       "<style scoped>\n",
       "    .dataframe tbody tr th:only-of-type {\n",
       "        vertical-align: middle;\n",
       "    }\n",
       "\n",
       "    .dataframe tbody tr th {\n",
       "        vertical-align: top;\n",
       "    }\n",
       "\n",
       "    .dataframe thead th {\n",
       "        text-align: right;\n",
       "    }\n",
       "</style>\n",
       "<table border=\"1\" class=\"dataframe\">\n",
       "  <thead>\n",
       "    <tr style=\"text-align: right;\">\n",
       "      <th></th>\n",
       "      <th>monthly_rent</th>\n",
       "      <th>postal_code</th>\n",
       "      <th>square_feet</th>\n",
       "      <th>outerCode</th>\n",
       "      <th>Borough</th>\n",
       "      <th>Neighbourhood</th>\n",
       "    </tr>\n",
       "  </thead>\n",
       "  <tbody>\n",
       "    <tr>\n",
       "      <td>0</td>\n",
       "      <td>3985</td>\n",
       "      <td>M5A 3N8</td>\n",
       "      <td>NaN</td>\n",
       "      <td>M5A</td>\n",
       "      <td>Downtown Toronto</td>\n",
       "      <td>Regent Park, Harbourfront</td>\n",
       "    </tr>\n",
       "    <tr>\n",
       "      <td>1</td>\n",
       "      <td>2500</td>\n",
       "      <td>M5A 1Z4</td>\n",
       "      <td>669.0</td>\n",
       "      <td>M5A</td>\n",
       "      <td>Downtown Toronto</td>\n",
       "      <td>Regent Park, Harbourfront</td>\n",
       "    </tr>\n",
       "    <tr>\n",
       "      <td>2</td>\n",
       "      <td>3600</td>\n",
       "      <td>M5A 0N8</td>\n",
       "      <td>935.0</td>\n",
       "      <td>M5A</td>\n",
       "      <td>Downtown Toronto</td>\n",
       "      <td>Regent Park, Harbourfront</td>\n",
       "    </tr>\n",
       "    <tr>\n",
       "      <td>3</td>\n",
       "      <td>3000</td>\n",
       "      <td>M5A 4E8</td>\n",
       "      <td>NaN</td>\n",
       "      <td>M5A</td>\n",
       "      <td>Downtown Toronto</td>\n",
       "      <td>Regent Park, Harbourfront</td>\n",
       "    </tr>\n",
       "    <tr>\n",
       "      <td>4</td>\n",
       "      <td>3200</td>\n",
       "      <td>M5A 1M1</td>\n",
       "      <td>NaN</td>\n",
       "      <td>M5A</td>\n",
       "      <td>Downtown Toronto</td>\n",
       "      <td>Regent Park, Harbourfront</td>\n",
       "    </tr>\n",
       "    <tr>\n",
       "      <td>...</td>\n",
       "      <td>...</td>\n",
       "      <td>...</td>\n",
       "      <td>...</td>\n",
       "      <td>...</td>\n",
       "      <td>...</td>\n",
       "      <td>...</td>\n",
       "    </tr>\n",
       "    <tr>\n",
       "      <td>157</td>\n",
       "      <td>2600</td>\n",
       "      <td>M4Y 1T1</td>\n",
       "      <td>NaN</td>\n",
       "      <td>M4Y</td>\n",
       "      <td>Downtown Toronto</td>\n",
       "      <td>Church and Wellesley</td>\n",
       "    </tr>\n",
       "    <tr>\n",
       "      <td>159</td>\n",
       "      <td>2975</td>\n",
       "      <td>M4X 1L1</td>\n",
       "      <td>900.0</td>\n",
       "      <td>M4X</td>\n",
       "      <td>Downtown Toronto</td>\n",
       "      <td>St. James Town, Cabbagetown</td>\n",
       "    </tr>\n",
       "    <tr>\n",
       "      <td>162</td>\n",
       "      <td>3000</td>\n",
       "      <td>M5G 2J9</td>\n",
       "      <td>NaN</td>\n",
       "      <td>M5G</td>\n",
       "      <td>Downtown Toronto</td>\n",
       "      <td>Central Bay Street</td>\n",
       "    </tr>\n",
       "    <tr>\n",
       "      <td>163</td>\n",
       "      <td>3200</td>\n",
       "      <td>M5G 2K2</td>\n",
       "      <td>820.0</td>\n",
       "      <td>M5G</td>\n",
       "      <td>Downtown Toronto</td>\n",
       "      <td>Central Bay Street</td>\n",
       "    </tr>\n",
       "    <tr>\n",
       "      <td>166</td>\n",
       "      <td>2650</td>\n",
       "      <td>M5H 0B1</td>\n",
       "      <td>NaN</td>\n",
       "      <td>M5H</td>\n",
       "      <td>Downtown Toronto</td>\n",
       "      <td>Richmond, Adelaide, King</td>\n",
       "    </tr>\n",
       "  </tbody>\n",
       "</table>\n",
       "<p>142 rows × 6 columns</p>\n",
       "</div>"
      ],
      "text/plain": [
       "     monthly_rent postal_code  square_feet outerCode           Borough  \\\n",
       "0            3985     M5A 3N8          NaN       M5A  Downtown Toronto   \n",
       "1            2500     M5A 1Z4        669.0       M5A  Downtown Toronto   \n",
       "2            3600     M5A 0N8        935.0       M5A  Downtown Toronto   \n",
       "3            3000     M5A 4E8          NaN       M5A  Downtown Toronto   \n",
       "4            3200     M5A 1M1          NaN       M5A  Downtown Toronto   \n",
       "..            ...         ...          ...       ...               ...   \n",
       "157          2600     M4Y 1T1          NaN       M4Y  Downtown Toronto   \n",
       "159          2975     M4X 1L1        900.0       M4X  Downtown Toronto   \n",
       "162          3000     M5G 2J9          NaN       M5G  Downtown Toronto   \n",
       "163          3200     M5G 2K2        820.0       M5G  Downtown Toronto   \n",
       "166          2650     M5H 0B1          NaN       M5H  Downtown Toronto   \n",
       "\n",
       "                   Neighbourhood  \n",
       "0      Regent Park, Harbourfront  \n",
       "1      Regent Park, Harbourfront  \n",
       "2      Regent Park, Harbourfront  \n",
       "3      Regent Park, Harbourfront  \n",
       "4      Regent Park, Harbourfront  \n",
       "..                           ...  \n",
       "157         Church and Wellesley  \n",
       "159  St. James Town, Cabbagetown  \n",
       "162           Central Bay Street  \n",
       "163           Central Bay Street  \n",
       "166     Richmond, Adelaide, King  \n",
       "\n",
       "[142 rows x 6 columns]"
      ]
     },
     "execution_count": 103,
     "metadata": {},
     "output_type": "execute_result"
    }
   ],
   "source": [
    "rentals"
   ]
  },
  {
   "cell_type": "code",
   "execution_count": 105,
   "metadata": {},
   "outputs": [],
   "source": [
    "names = ['Downtown Toronto', 'Scarborough']"
   ]
  },
  {
   "cell_type": "code",
   "execution_count": 110,
   "metadata": {
    "scrolled": true
   },
   "outputs": [
    {
     "data": {
      "text/plain": [
       "<matplotlib.legend.Legend at 0x216ea160f48>"
      ]
     },
     "execution_count": 110,
     "metadata": {},
     "output_type": "execute_result"
    },
    {
     "data": {
      "image/png": "[encoded data removed]",
      "text/plain": [
       "<Figure size 432x288 with 1 Axes>"
      ]
     },
     "metadata": {
      "needs_background": "light"
     },
     "output_type": "display_data"
    }
   ],
   "source": [
    "markers=['o','v','1','2','3','s','x']\n",
    "\n",
    "for name,mark in zip(names,markers):\n",
    "    square_feet= right(rental,name,'square_feet')\n",
    "    monthly_rent= right(rental,name,'monthly_rent')\n",
    "    \n",
    "    plt.scatter(square_feet,monthly_rent,marker=mark,label=name)\n",
    "    plt.xlabel('Square feet')\n",
    "    plt.ylabel('Monthly rent')\n",
    "plt.legend()"
   ]
  },
  {
   "cell_type": "code",
   "execution_count": null,
   "metadata": {},
   "outputs": [],
   "source": []
  },
  {
   "cell_type": "code",
   "execution_count": null,
   "metadata": {},
   "outputs": [],
   "source": []
  }
 ],
 "metadata": {
  "kernelspec": {
   "display_name": "Python 3",
   "language": "python",
   "name": "python3"
  },
  "language_info": {
   "codemirror_mode": {
    "name": "ipython",
    "version": 3
   },
   "file_extension": ".py",
   "mimetype": "text/x-python",
   "name": "python",
   "nbconvert_exporter": "python",
   "pygments_lexer": "ipython3",
   "version": "3.7.6"
  }
 },
 "nbformat": 4,
 "nbformat_minor": 2
}
