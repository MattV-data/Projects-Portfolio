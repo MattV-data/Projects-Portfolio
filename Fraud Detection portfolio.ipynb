{
 "cells": [
  {
   "cell_type": "markdown",
   "metadata": {},
   "source": [
    "## A model that predicts whether a given transaction is fraudulent"
   ]
  },
  {
   "cell_type": "markdown",
   "metadata": {},
   "source": [
    "## Unknown feature names"
   ]
  },
  {
   "cell_type": "markdown",
   "metadata": {},
   "source": [
    "## The model will be evaluated using the area under the ROC curve"
   ]
  },
  {
   "cell_type": "markdown",
   "metadata": {},
   "source": [
    "**ROC takes into consideration both True Positives (ideally 1) and False Negatives (ideally 0). As these are the metrics that are to be optimized (TP) and minimized (FP), the ROC is the most suitable metric. Had resampled data not be used, the ROC would not have been as effective. In this case, replace the x-axis (1 - specificity) with Precision (TP/ TP + FP), because precision does not include the number of True Negatives in its calculation, and is not affected by the imbalance.**"
   ]
  },
  {
   "cell_type": "markdown",
   "metadata": {},
   "source": [
    "**The desired metric was Recall, indicating the ratio scoring for True Positive. Essentially, the ability of the classifier to find all the positive samples. There wouldnt be a drastic change in how the problem was approached as both metrics (ROC & Recall) take the True Positive into consideration. For my desired metric, Recall, I would utilize the classification report instead of the roc_auc_score.**"
   ]
  },
  {
   "cell_type": "markdown",
   "metadata": {},
   "source": [
    "**The decision for the threshold probability to block a transaction would be a threshold that provides the client with a comfortable probability of a transaction being blocked (sensitivity), without suffering too many False Positives (1 - sensitivity)**\n",
    "\n",
    "- line 1: y_proba = model.predict_proba(X_test)[:, 1]\n",
    "- line 2: y_pred2 = (y_proba >= .3).astype(int)\n",
    "\n",
    "- Obtaining the y_proba, the threshold can be altered (eg. 0.5 -> 0.3) so as to improve Sensitivity."
   ]
  },
  {
   "cell_type": "code",
   "execution_count": 1,
   "metadata": {},
   "outputs": [],
   "source": [
    "import numpy as np\n",
    "import pandas as pd\n",
    "import matplotlib.pyplot as plt\n",
    "\n",
    "from sklearn.preprocessing import LabelEncoder, OneHotEncoder\n",
    "from sklearn.model_selection import train_test_split\n",
    "from imblearn.over_sampling import RandomOverSampler\n",
    "from sklearn.preprocessing import StandardScaler\n",
    "from sklearn.model_selection import cross_validate \n",
    "from sklearn.linear_model import LogisticRegression\n",
    "from sklearn.metrics import classification_report\n",
    "from sklearn.metrics import plot_roc_curve\n",
    "from sklearn.metrics import roc_auc_score\n",
    "from sklearn.pipeline import Pipeline\n",
    "from sklearn.model_selection import GridSearchCV\n",
    "from sklearn.pipeline import make_pipeline\n",
    "from sklearn.ensemble import RandomForestClassifier\n",
    "from xgboost import XGBClassifier\n",
    "from sklearn import metrics\n",
    "from sklearn.ensemble import StackingClassifier\n"
   ]
  },
  {
   "cell_type": "markdown",
   "metadata": {},
   "source": [
    "## Loading the data"
   ]
  },
  {
   "cell_type": "code",
   "execution_count": 2,
   "metadata": {},
   "outputs": [],
   "source": [
    "df = pd.read_csv('\\\\Users\\\\mvall\\\\Downloads\\\\sample.csv', delimiter=',') # Read File"
   ]
  },
  {
   "cell_type": "code",
   "execution_count": 3,
   "metadata": {
    "scrolled": false
   },
   "outputs": [
    {
     "data": {
      "text/html": [
       "<div>\n",
       "<style scoped>\n",
       "    .dataframe tbody tr th:only-of-type {\n",
       "        vertical-align: middle;\n",
       "    }\n",
       "\n",
       "    .dataframe tbody tr th {\n",
       "        vertical-align: top;\n",
       "    }\n",
       "\n",
       "    .dataframe thead th {\n",
       "        text-align: right;\n",
       "    }\n",
       "</style>\n",
       "<table border=\"1\" class=\"dataframe\">\n",
       "  <thead>\n",
       "    <tr style=\"text-align: right;\">\n",
       "      <th></th>\n",
       "      <th>x0</th>\n",
       "      <th>x1</th>\n",
       "      <th>x2</th>\n",
       "      <th>x3</th>\n",
       "      <th>x4</th>\n",
       "      <th>x5</th>\n",
       "      <th>x6</th>\n",
       "      <th>x7</th>\n",
       "      <th>x8</th>\n",
       "      <th>x9</th>\n",
       "      <th>...</th>\n",
       "      <th>x91</th>\n",
       "      <th>x92</th>\n",
       "      <th>x93</th>\n",
       "      <th>x94</th>\n",
       "      <th>x95</th>\n",
       "      <th>x96</th>\n",
       "      <th>x97</th>\n",
       "      <th>x98</th>\n",
       "      <th>x99</th>\n",
       "      <th>y</th>\n",
       "    </tr>\n",
       "  </thead>\n",
       "  <tbody>\n",
       "    <tr>\n",
       "      <th>0</th>\n",
       "      <td>-0.247824</td>\n",
       "      <td>6.425853</td>\n",
       "      <td>-6.485658</td>\n",
       "      <td>-8.241462</td>\n",
       "      <td>NaN</td>\n",
       "      <td>0.03%</td>\n",
       "      <td>Tuesday</td>\n",
       "      <td>-9.808905</td>\n",
       "      <td>4.753455</td>\n",
       "      <td>2.537819</td>\n",
       "      <td>...</td>\n",
       "      <td>0.592543</td>\n",
       "      <td>14.967527</td>\n",
       "      <td>6.691044</td>\n",
       "      <td>-0.275572</td>\n",
       "      <td>2.518542</td>\n",
       "      <td>4.637431</td>\n",
       "      <td>-14.296510</td>\n",
       "      <td>1.898115</td>\n",
       "      <td>-1.225228</td>\n",
       "      <td>0</td>\n",
       "    </tr>\n",
       "    <tr>\n",
       "      <th>1</th>\n",
       "      <td>2.623274</td>\n",
       "      <td>-2.808263</td>\n",
       "      <td>5.321746</td>\n",
       "      <td>-2.437653</td>\n",
       "      <td>0.614041</td>\n",
       "      <td>0.02%</td>\n",
       "      <td>Wednesday</td>\n",
       "      <td>10.710053</td>\n",
       "      <td>1.608882</td>\n",
       "      <td>-2.027541</td>\n",
       "      <td>...</td>\n",
       "      <td>-1.712788</td>\n",
       "      <td>-3.638637</td>\n",
       "      <td>-2.256492</td>\n",
       "      <td>2.703101</td>\n",
       "      <td>1.760729</td>\n",
       "      <td>2.660614</td>\n",
       "      <td>1.182922</td>\n",
       "      <td>-3.203078</td>\n",
       "      <td>0.711018</td>\n",
       "      <td>0</td>\n",
       "    </tr>\n",
       "    <tr>\n",
       "      <th>2</th>\n",
       "      <td>-5.460551</td>\n",
       "      <td>5.997701</td>\n",
       "      <td>-4.614194</td>\n",
       "      <td>-6.035128</td>\n",
       "      <td>-1.986438</td>\n",
       "      <td>-0.0%</td>\n",
       "      <td>Tuesday</td>\n",
       "      <td>-3.364649</td>\n",
       "      <td>-2.493473</td>\n",
       "      <td>1.429913</td>\n",
       "      <td>...</td>\n",
       "      <td>2.206956</td>\n",
       "      <td>7.292558</td>\n",
       "      <td>10.095556</td>\n",
       "      <td>1.601155</td>\n",
       "      <td>1.710645</td>\n",
       "      <td>-12.519434</td>\n",
       "      <td>-5.261707</td>\n",
       "      <td>2.032666</td>\n",
       "      <td>-6.445528</td>\n",
       "      <td>0</td>\n",
       "    </tr>\n",
       "    <tr>\n",
       "      <th>3</th>\n",
       "      <td>1.566307</td>\n",
       "      <td>-0.080517</td>\n",
       "      <td>0.064754</td>\n",
       "      <td>6.063193</td>\n",
       "      <td>-2.253075</td>\n",
       "      <td>0.0%</td>\n",
       "      <td>Thurday</td>\n",
       "      <td>-6.111982</td>\n",
       "      <td>-1.796377</td>\n",
       "      <td>-3.169510</td>\n",
       "      <td>...</td>\n",
       "      <td>-3.841669</td>\n",
       "      <td>5.189840</td>\n",
       "      <td>10.291069</td>\n",
       "      <td>-3.642396</td>\n",
       "      <td>0.674300</td>\n",
       "      <td>-1.104317</td>\n",
       "      <td>-3.922342</td>\n",
       "      <td>-0.613947</td>\n",
       "      <td>7.275179</td>\n",
       "      <td>0</td>\n",
       "    </tr>\n",
       "    <tr>\n",
       "      <th>4</th>\n",
       "      <td>0.750715</td>\n",
       "      <td>15.656095</td>\n",
       "      <td>-6.778600</td>\n",
       "      <td>11.251037</td>\n",
       "      <td>-0.308200</td>\n",
       "      <td>0.0%</td>\n",
       "      <td>Wednesday</td>\n",
       "      <td>2.498892</td>\n",
       "      <td>-0.323229</td>\n",
       "      <td>-2.624680</td>\n",
       "      <td>...</td>\n",
       "      <td>8.933781</td>\n",
       "      <td>-7.295794</td>\n",
       "      <td>-11.246059</td>\n",
       "      <td>-4.876594</td>\n",
       "      <td>3.395415</td>\n",
       "      <td>-2.646844</td>\n",
       "      <td>-5.273267</td>\n",
       "      <td>-5.259536</td>\n",
       "      <td>-3.240523</td>\n",
       "      <td>0</td>\n",
       "    </tr>\n",
       "  </tbody>\n",
       "</table>\n",
       "<p>5 rows × 101 columns</p>\n",
       "</div>"
      ],
      "text/plain": [
       "         x0         x1        x2         x3        x4     x5         x6  \\\n",
       "0 -0.247824   6.425853 -6.485658  -8.241462       NaN  0.03%    Tuesday   \n",
       "1  2.623274  -2.808263  5.321746  -2.437653  0.614041  0.02%  Wednesday   \n",
       "2 -5.460551   5.997701 -4.614194  -6.035128 -1.986438  -0.0%    Tuesday   \n",
       "3  1.566307  -0.080517  0.064754   6.063193 -2.253075   0.0%    Thurday   \n",
       "4  0.750715  15.656095 -6.778600  11.251037 -0.308200   0.0%  Wednesday   \n",
       "\n",
       "          x7        x8        x9  ...       x91        x92        x93  \\\n",
       "0  -9.808905  4.753455  2.537819  ...  0.592543  14.967527   6.691044   \n",
       "1  10.710053  1.608882 -2.027541  ... -1.712788  -3.638637  -2.256492   \n",
       "2  -3.364649 -2.493473  1.429913  ...  2.206956   7.292558  10.095556   \n",
       "3  -6.111982 -1.796377 -3.169510  ... -3.841669   5.189840  10.291069   \n",
       "4   2.498892 -0.323229 -2.624680  ...  8.933781  -7.295794 -11.246059   \n",
       "\n",
       "        x94       x95        x96        x97       x98       x99  y  \n",
       "0 -0.275572  2.518542   4.637431 -14.296510  1.898115 -1.225228  0  \n",
       "1  2.703101  1.760729   2.660614   1.182922 -3.203078  0.711018  0  \n",
       "2  1.601155  1.710645 -12.519434  -5.261707  2.032666 -6.445528  0  \n",
       "3 -3.642396  0.674300  -1.104317  -3.922342 -0.613947  7.275179  0  \n",
       "4 -4.876594  3.395415  -2.646844  -5.273267 -5.259536 -3.240523  0  \n",
       "\n",
       "[5 rows x 101 columns]"
      ]
     },
     "execution_count": 3,
     "metadata": {},
     "output_type": "execute_result"
    }
   ],
   "source": [
    "df.head()"
   ]
  },
  {
   "cell_type": "code",
   "execution_count": 4,
   "metadata": {},
   "outputs": [],
   "source": [
    "label = df['y']"
   ]
  },
  {
   "cell_type": "markdown",
   "metadata": {},
   "source": [
    "## EDA"
   ]
  },
  {
   "cell_type": "code",
   "execution_count": 5,
   "metadata": {
    "scrolled": true
   },
   "outputs": [
    {
     "data": {
      "text/plain": [
       "(8000, 101)"
      ]
     },
     "execution_count": 5,
     "metadata": {},
     "output_type": "execute_result"
    }
   ],
   "source": [
    "df.shape"
   ]
  },
  {
   "cell_type": "markdown",
   "metadata": {},
   "source": [
    "**Observation**\n",
    "- 95 numerical columns\n",
    "- 6 categorical columns"
   ]
  },
  {
   "cell_type": "code",
   "execution_count": 6,
   "metadata": {
    "scrolled": true
   },
   "outputs": [
    {
     "name": "stdout",
     "output_type": "stream",
     "text": [
      "<class 'pandas.core.frame.DataFrame'>\n",
      "RangeIndex: 8000 entries, 0 to 7999\n",
      "Columns: 101 entries, x0 to y\n",
      "dtypes: float64(94), int64(1), object(6)\n",
      "memory usage: 6.2+ MB\n"
     ]
    }
   ],
   "source": [
    "df.info()"
   ]
  },
  {
   "cell_type": "markdown",
   "metadata": {},
   "source": [
    "**Identify object columns**"
   ]
  },
  {
   "cell_type": "code",
   "execution_count": 52,
   "metadata": {},
   "outputs": [
    {
     "data": {
      "text/plain": [
       "x6     object\n",
       "x20    object\n",
       "x27    object\n",
       "dtype: object"
      ]
     },
     "execution_count": 52,
     "metadata": {},
     "output_type": "execute_result"
    }
   ],
   "source": [
    "df.dtypes[df.dtypes=='object']"
   ]
  },
  {
   "cell_type": "code",
   "execution_count": 8,
   "metadata": {
    "scrolled": true
   },
   "outputs": [
    {
     "data": {
      "text/html": [
       "<div>\n",
       "<style scoped>\n",
       "    .dataframe tbody tr th:only-of-type {\n",
       "        vertical-align: middle;\n",
       "    }\n",
       "\n",
       "    .dataframe tbody tr th {\n",
       "        vertical-align: top;\n",
       "    }\n",
       "\n",
       "    .dataframe thead th {\n",
       "        text-align: right;\n",
       "    }\n",
       "</style>\n",
       "<table border=\"1\" class=\"dataframe\">\n",
       "  <thead>\n",
       "    <tr style=\"text-align: right;\">\n",
       "      <th></th>\n",
       "      <th>x5</th>\n",
       "      <th>x6</th>\n",
       "      <th>x20</th>\n",
       "      <th>x27</th>\n",
       "      <th>x49</th>\n",
       "      <th>x57</th>\n",
       "    </tr>\n",
       "  </thead>\n",
       "  <tbody>\n",
       "    <tr>\n",
       "      <th>0</th>\n",
       "      <td>0.03%</td>\n",
       "      <td>Tuesday</td>\n",
       "      <td>Aug</td>\n",
       "      <td>Afternoon</td>\n",
       "      <td>False</td>\n",
       "      <td>$1578.34</td>\n",
       "    </tr>\n",
       "    <tr>\n",
       "      <th>1</th>\n",
       "      <td>0.02%</td>\n",
       "      <td>Wednesday</td>\n",
       "      <td>Jul</td>\n",
       "      <td>Afternoon</td>\n",
       "      <td>False</td>\n",
       "      <td>$767.76</td>\n",
       "    </tr>\n",
       "    <tr>\n",
       "      <th>2</th>\n",
       "      <td>-0.0%</td>\n",
       "      <td>Tuesday</td>\n",
       "      <td>Aug</td>\n",
       "      <td>Evening</td>\n",
       "      <td>False</td>\n",
       "      <td>$931.06</td>\n",
       "    </tr>\n",
       "    <tr>\n",
       "      <th>3</th>\n",
       "      <td>0.0%</td>\n",
       "      <td>Thurday</td>\n",
       "      <td>Aug</td>\n",
       "      <td>Afternoon</td>\n",
       "      <td>True</td>\n",
       "      <td>$2124.52</td>\n",
       "    </tr>\n",
       "    <tr>\n",
       "      <th>4</th>\n",
       "      <td>0.0%</td>\n",
       "      <td>Wednesday</td>\n",
       "      <td>Jul</td>\n",
       "      <td>Evening</td>\n",
       "      <td>False</td>\n",
       "      <td>$-3055.67</td>\n",
       "    </tr>\n",
       "    <tr>\n",
       "      <th>...</th>\n",
       "      <td>...</td>\n",
       "      <td>...</td>\n",
       "      <td>...</td>\n",
       "      <td>...</td>\n",
       "      <td>...</td>\n",
       "      <td>...</td>\n",
       "    </tr>\n",
       "    <tr>\n",
       "      <th>7995</th>\n",
       "      <td>0.01%</td>\n",
       "      <td>Tuesday</td>\n",
       "      <td>Jun</td>\n",
       "      <td>Afternoon</td>\n",
       "      <td>False</td>\n",
       "      <td>$-1664.04</td>\n",
       "    </tr>\n",
       "    <tr>\n",
       "      <th>7996</th>\n",
       "      <td>0.0%</td>\n",
       "      <td>Tuesday</td>\n",
       "      <td>May</td>\n",
       "      <td>Afternoon</td>\n",
       "      <td>False</td>\n",
       "      <td>$-42.81</td>\n",
       "    </tr>\n",
       "    <tr>\n",
       "      <th>7997</th>\n",
       "      <td>-0.01%</td>\n",
       "      <td>Wednesday</td>\n",
       "      <td>Aug</td>\n",
       "      <td>Afternoon</td>\n",
       "      <td>True</td>\n",
       "      <td>$220.59</td>\n",
       "    </tr>\n",
       "    <tr>\n",
       "      <th>7998</th>\n",
       "      <td>-0.0%</td>\n",
       "      <td>Tuesday</td>\n",
       "      <td>Aug</td>\n",
       "      <td>Evening</td>\n",
       "      <td>True</td>\n",
       "      <td>$467.47</td>\n",
       "    </tr>\n",
       "    <tr>\n",
       "      <th>7999</th>\n",
       "      <td>-0.02%</td>\n",
       "      <td>Tuesday</td>\n",
       "      <td>Jun</td>\n",
       "      <td>Afternoon</td>\n",
       "      <td>False</td>\n",
       "      <td>$-598.35</td>\n",
       "    </tr>\n",
       "  </tbody>\n",
       "</table>\n",
       "<p>8000 rows × 6 columns</p>\n",
       "</div>"
      ],
      "text/plain": [
       "          x5         x6  x20        x27    x49        x57\n",
       "0      0.03%    Tuesday  Aug  Afternoon  False   $1578.34\n",
       "1      0.02%  Wednesday  Jul  Afternoon  False    $767.76\n",
       "2      -0.0%    Tuesday  Aug    Evening  False    $931.06\n",
       "3       0.0%    Thurday  Aug  Afternoon   True   $2124.52\n",
       "4       0.0%  Wednesday  Jul    Evening  False  $-3055.67\n",
       "...      ...        ...  ...        ...    ...        ...\n",
       "7995   0.01%    Tuesday  Jun  Afternoon  False  $-1664.04\n",
       "7996    0.0%    Tuesday  May  Afternoon  False    $-42.81\n",
       "7997  -0.01%  Wednesday  Aug  Afternoon   True    $220.59\n",
       "7998   -0.0%    Tuesday  Aug    Evening   True    $467.47\n",
       "7999  -0.02%    Tuesday  Jun  Afternoon  False   $-598.35\n",
       "\n",
       "[8000 rows x 6 columns]"
      ]
     },
     "execution_count": 8,
     "metadata": {},
     "output_type": "execute_result"
    }
   ],
   "source": [
    "df[['x5','x6','x20','x27','x49','x57']]"
   ]
  },
  {
   "cell_type": "code",
   "execution_count": 9,
   "metadata": {
    "scrolled": true
   },
   "outputs": [
    {
     "data": {
      "text/plain": [
       "0.01%     1929\n",
       "-0.01%    1881\n",
       "0.0%      1531\n",
       "-0.0%     1514\n",
       "0.02%      479\n",
       "-0.02%     462\n",
       "-0.03%      60\n",
       "0.03%       48\n",
       "0.04%        1\n",
       "-0.04%       1\n",
       "Name: x5, dtype: int64"
      ]
     },
     "execution_count": 9,
     "metadata": {},
     "output_type": "execute_result"
    }
   ],
   "source": [
    "df['x5'].value_counts()"
   ]
  },
  {
   "cell_type": "markdown",
   "metadata": {},
   "source": [
    "**Observation**\n",
    "- `Column **x57**` is a dollar value column. The '$' will be removed and the column will be converted to numerical continuious data.\n",
    "- `Column **x5**` only contains serveral values from 0.04% to -0.04%. It will be handled first based on categorical data and then, converted to numerical. \n",
    "- For other columns, they will be treated as categorical values."
   ]
  },
  {
   "cell_type": "markdown",
   "metadata": {},
   "source": []
  },
  {
   "cell_type": "code",
   "execution_count": 10,
   "metadata": {
    "scrolled": false
   },
   "outputs": [
    {
     "data": {
      "text/html": [
       "<div>\n",
       "<style scoped>\n",
       "    .dataframe tbody tr th:only-of-type {\n",
       "        vertical-align: middle;\n",
       "    }\n",
       "\n",
       "    .dataframe tbody tr th {\n",
       "        vertical-align: top;\n",
       "    }\n",
       "\n",
       "    .dataframe thead th {\n",
       "        text-align: right;\n",
       "    }\n",
       "</style>\n",
       "<table border=\"1\" class=\"dataframe\">\n",
       "  <thead>\n",
       "    <tr style=\"text-align: right;\">\n",
       "      <th></th>\n",
       "      <th>x0</th>\n",
       "      <th>x1</th>\n",
       "      <th>x2</th>\n",
       "      <th>x3</th>\n",
       "      <th>x4</th>\n",
       "      <th>x7</th>\n",
       "      <th>x8</th>\n",
       "      <th>x9</th>\n",
       "      <th>x10</th>\n",
       "      <th>x11</th>\n",
       "      <th>...</th>\n",
       "      <th>x91</th>\n",
       "      <th>x92</th>\n",
       "      <th>x93</th>\n",
       "      <th>x94</th>\n",
       "      <th>x95</th>\n",
       "      <th>x96</th>\n",
       "      <th>x97</th>\n",
       "      <th>x98</th>\n",
       "      <th>x99</th>\n",
       "      <th>y</th>\n",
       "    </tr>\n",
       "  </thead>\n",
       "  <tbody>\n",
       "    <tr>\n",
       "      <th>count</th>\n",
       "      <td>7916.000000</td>\n",
       "      <td>7924.000000</td>\n",
       "      <td>7926.000000</td>\n",
       "      <td>7934.000000</td>\n",
       "      <td>7919.000000</td>\n",
       "      <td>7909.000000</td>\n",
       "      <td>7921.000000</td>\n",
       "      <td>7914.000000</td>\n",
       "      <td>7911.000000</td>\n",
       "      <td>7925.000000</td>\n",
       "      <td>...</td>\n",
       "      <td>7913.000000</td>\n",
       "      <td>7907.000000</td>\n",
       "      <td>7903.000000</td>\n",
       "      <td>7930.000000</td>\n",
       "      <td>7930.000000</td>\n",
       "      <td>7913.000000</td>\n",
       "      <td>7914.000000</td>\n",
       "      <td>7923.000000</td>\n",
       "      <td>7923.000000</td>\n",
       "      <td>8000.000000</td>\n",
       "    </tr>\n",
       "    <tr>\n",
       "      <th>mean</th>\n",
       "      <td>0.060228</td>\n",
       "      <td>0.407989</td>\n",
       "      <td>0.054322</td>\n",
       "      <td>-0.023308</td>\n",
       "      <td>-0.004516</td>\n",
       "      <td>0.005298</td>\n",
       "      <td>0.006460</td>\n",
       "      <td>0.054020</td>\n",
       "      <td>0.082194</td>\n",
       "      <td>-0.162486</td>\n",
       "      <td>...</td>\n",
       "      <td>-0.010624</td>\n",
       "      <td>-0.093474</td>\n",
       "      <td>0.062183</td>\n",
       "      <td>0.043515</td>\n",
       "      <td>0.555696</td>\n",
       "      <td>0.097914</td>\n",
       "      <td>-0.094866</td>\n",
       "      <td>-0.031607</td>\n",
       "      <td>-0.107921</td>\n",
       "      <td>0.054875</td>\n",
       "    </tr>\n",
       "    <tr>\n",
       "      <th>std</th>\n",
       "      <td>4.114402</td>\n",
       "      <td>14.047469</td>\n",
       "      <td>7.335695</td>\n",
       "      <td>8.744338</td>\n",
       "      <td>1.495770</td>\n",
       "      <td>7.825992</td>\n",
       "      <td>2.060713</td>\n",
       "      <td>4.808131</td>\n",
       "      <td>6.090958</td>\n",
       "      <td>9.637473</td>\n",
       "      <td>...</td>\n",
       "      <td>7.680308</td>\n",
       "      <td>9.936610</td>\n",
       "      <td>8.800644</td>\n",
       "      <td>4.431941</td>\n",
       "      <td>1.693398</td>\n",
       "      <td>7.904771</td>\n",
       "      <td>6.806242</td>\n",
       "      <td>6.272912</td>\n",
       "      <td>6.345949</td>\n",
       "      <td>0.227750</td>\n",
       "    </tr>\n",
       "    <tr>\n",
       "      <th>min</th>\n",
       "      <td>-18.252266</td>\n",
       "      <td>-42.459763</td>\n",
       "      <td>-27.966393</td>\n",
       "      <td>-31.413403</td>\n",
       "      <td>-5.185877</td>\n",
       "      <td>-30.006046</td>\n",
       "      <td>-9.744478</td>\n",
       "      <td>-17.118829</td>\n",
       "      <td>-23.412152</td>\n",
       "      <td>-36.495817</td>\n",
       "      <td>...</td>\n",
       "      <td>-27.810191</td>\n",
       "      <td>-33.876898</td>\n",
       "      <td>-30.762278</td>\n",
       "      <td>-16.942654</td>\n",
       "      <td>-6.503762</td>\n",
       "      <td>-28.708333</td>\n",
       "      <td>-27.631360</td>\n",
       "      <td>-22.814032</td>\n",
       "      <td>-24.159002</td>\n",
       "      <td>0.000000</td>\n",
       "    </tr>\n",
       "    <tr>\n",
       "      <th>25%</th>\n",
       "      <td>-2.708436</td>\n",
       "      <td>-9.746864</td>\n",
       "      <td>-5.018364</td>\n",
       "      <td>-5.904680</td>\n",
       "      <td>-1.001892</td>\n",
       "      <td>-5.332021</td>\n",
       "      <td>-1.388365</td>\n",
       "      <td>-3.206162</td>\n",
       "      <td>-3.979275</td>\n",
       "      <td>-6.673348</td>\n",
       "      <td>...</td>\n",
       "      <td>-5.113941</td>\n",
       "      <td>-6.814237</td>\n",
       "      <td>-5.947130</td>\n",
       "      <td>-2.927609</td>\n",
       "      <td>-0.526532</td>\n",
       "      <td>-5.396910</td>\n",
       "      <td>-4.492095</td>\n",
       "      <td>-4.199087</td>\n",
       "      <td>-4.362669</td>\n",
       "      <td>0.000000</td>\n",
       "    </tr>\n",
       "    <tr>\n",
       "      <th>50%</th>\n",
       "      <td>0.042683</td>\n",
       "      <td>-0.831805</td>\n",
       "      <td>0.008158</td>\n",
       "      <td>-0.036743</td>\n",
       "      <td>0.008718</td>\n",
       "      <td>-0.012167</td>\n",
       "      <td>-0.000204</td>\n",
       "      <td>0.127904</td>\n",
       "      <td>0.156267</td>\n",
       "      <td>-0.113515</td>\n",
       "      <td>...</td>\n",
       "      <td>0.042126</td>\n",
       "      <td>-0.237591</td>\n",
       "      <td>0.193627</td>\n",
       "      <td>0.054766</td>\n",
       "      <td>0.572391</td>\n",
       "      <td>0.110662</td>\n",
       "      <td>-0.051194</td>\n",
       "      <td>0.018044</td>\n",
       "      <td>-0.079668</td>\n",
       "      <td>0.000000</td>\n",
       "    </tr>\n",
       "    <tr>\n",
       "      <th>75%</th>\n",
       "      <td>2.870351</td>\n",
       "      <td>9.498792</td>\n",
       "      <td>4.911921</td>\n",
       "      <td>5.851433</td>\n",
       "      <td>0.987828</td>\n",
       "      <td>5.288608</td>\n",
       "      <td>1.337205</td>\n",
       "      <td>3.390917</td>\n",
       "      <td>4.180005</td>\n",
       "      <td>6.322518</td>\n",
       "      <td>...</td>\n",
       "      <td>5.200893</td>\n",
       "      <td>6.551684</td>\n",
       "      <td>6.163712</td>\n",
       "      <td>3.033703</td>\n",
       "      <td>1.701990</td>\n",
       "      <td>5.569025</td>\n",
       "      <td>4.509073</td>\n",
       "      <td>4.161221</td>\n",
       "      <td>4.231148</td>\n",
       "      <td>0.000000</td>\n",
       "    </tr>\n",
       "    <tr>\n",
       "      <th>max</th>\n",
       "      <td>16.464349</td>\n",
       "      <td>58.037828</td>\n",
       "      <td>27.964211</td>\n",
       "      <td>29.580564</td>\n",
       "      <td>6.404181</td>\n",
       "      <td>25.619078</td>\n",
       "      <td>7.797751</td>\n",
       "      <td>16.574194</td>\n",
       "      <td>20.708372</td>\n",
       "      <td>34.389640</td>\n",
       "      <td>...</td>\n",
       "      <td>29.811154</td>\n",
       "      <td>36.301709</td>\n",
       "      <td>29.069874</td>\n",
       "      <td>18.347966</td>\n",
       "      <td>6.474684</td>\n",
       "      <td>29.928906</td>\n",
       "      <td>24.533676</td>\n",
       "      <td>23.643567</td>\n",
       "      <td>23.816776</td>\n",
       "      <td>1.000000</td>\n",
       "    </tr>\n",
       "  </tbody>\n",
       "</table>\n",
       "<p>8 rows × 95 columns</p>\n",
       "</div>"
      ],
      "text/plain": [
       "                x0           x1           x2           x3           x4  \\\n",
       "count  7916.000000  7924.000000  7926.000000  7934.000000  7919.000000   \n",
       "mean      0.060228     0.407989     0.054322    -0.023308    -0.004516   \n",
       "std       4.114402    14.047469     7.335695     8.744338     1.495770   \n",
       "min     -18.252266   -42.459763   -27.966393   -31.413403    -5.185877   \n",
       "25%      -2.708436    -9.746864    -5.018364    -5.904680    -1.001892   \n",
       "50%       0.042683    -0.831805     0.008158    -0.036743     0.008718   \n",
       "75%       2.870351     9.498792     4.911921     5.851433     0.987828   \n",
       "max      16.464349    58.037828    27.964211    29.580564     6.404181   \n",
       "\n",
       "                x7           x8           x9          x10          x11  ...  \\\n",
       "count  7909.000000  7921.000000  7914.000000  7911.000000  7925.000000  ...   \n",
       "mean      0.005298     0.006460     0.054020     0.082194    -0.162486  ...   \n",
       "std       7.825992     2.060713     4.808131     6.090958     9.637473  ...   \n",
       "min     -30.006046    -9.744478   -17.118829   -23.412152   -36.495817  ...   \n",
       "25%      -5.332021    -1.388365    -3.206162    -3.979275    -6.673348  ...   \n",
       "50%      -0.012167    -0.000204     0.127904     0.156267    -0.113515  ...   \n",
       "75%       5.288608     1.337205     3.390917     4.180005     6.322518  ...   \n",
       "max      25.619078     7.797751    16.574194    20.708372    34.389640  ...   \n",
       "\n",
       "               x91          x92          x93          x94          x95  \\\n",
       "count  7913.000000  7907.000000  7903.000000  7930.000000  7930.000000   \n",
       "mean     -0.010624    -0.093474     0.062183     0.043515     0.555696   \n",
       "std       7.680308     9.936610     8.800644     4.431941     1.693398   \n",
       "min     -27.810191   -33.876898   -30.762278   -16.942654    -6.503762   \n",
       "25%      -5.113941    -6.814237    -5.947130    -2.927609    -0.526532   \n",
       "50%       0.042126    -0.237591     0.193627     0.054766     0.572391   \n",
       "75%       5.200893     6.551684     6.163712     3.033703     1.701990   \n",
       "max      29.811154    36.301709    29.069874    18.347966     6.474684   \n",
       "\n",
       "               x96          x97          x98          x99            y  \n",
       "count  7913.000000  7914.000000  7923.000000  7923.000000  8000.000000  \n",
       "mean      0.097914    -0.094866    -0.031607    -0.107921     0.054875  \n",
       "std       7.904771     6.806242     6.272912     6.345949     0.227750  \n",
       "min     -28.708333   -27.631360   -22.814032   -24.159002     0.000000  \n",
       "25%      -5.396910    -4.492095    -4.199087    -4.362669     0.000000  \n",
       "50%       0.110662    -0.051194     0.018044    -0.079668     0.000000  \n",
       "75%       5.569025     4.509073     4.161221     4.231148     0.000000  \n",
       "max      29.928906    24.533676    23.643567    23.816776     1.000000  \n",
       "\n",
       "[8 rows x 95 columns]"
      ]
     },
     "execution_count": 10,
     "metadata": {},
     "output_type": "execute_result"
    }
   ],
   "source": [
    "df.drop(['x5','x6','x20','x27','x49','x57'],axis =1).describe()"
   ]
  },
  {
   "cell_type": "markdown",
   "metadata": {},
   "source": [
    "**Observation:**The values in these numerical columns are well distributed around mean."
   ]
  },
  {
   "cell_type": "markdown",
   "metadata": {},
   "source": [
    "### Checking missing values"
   ]
  },
  {
   "cell_type": "code",
   "execution_count": 17,
   "metadata": {
    "scrolled": true
   },
   "outputs": [
    {
     "data": {
      "text/plain": [
       "x0     0.010500\n",
       "x1     0.009500\n",
       "x2     0.009250\n",
       "x3     0.008250\n",
       "x4     0.010125\n",
       "         ...   \n",
       "x96    0.010875\n",
       "x97    0.010750\n",
       "x98    0.009625\n",
       "x99    0.009625\n",
       "y      0.000000\n",
       "Length: 101, dtype: float64"
      ]
     },
     "execution_count": 17,
     "metadata": {},
     "output_type": "execute_result"
    }
   ],
   "source": [
    "df.isnull().sum()/sample.isnull().count()"
   ]
  },
  {
   "cell_type": "code",
   "execution_count": null,
   "metadata": {},
   "outputs": [],
   "source": []
  },
  {
   "cell_type": "code",
   "execution_count": 19,
   "metadata": {},
   "outputs": [
    {
     "data": {
      "text/plain": [
       "0"
      ]
     },
     "execution_count": 19,
     "metadata": {},
     "output_type": "execute_result"
    }
   ],
   "source": [
    "df['y'].isnull().sum()"
   ]
  },
  {
   "cell_type": "markdown",
   "metadata": {},
   "source": [
    "## NOTES\n",
    "- y (target) column has no null values\n",
    "- all other columns have missing values\n",
    "- dropping rows of all missing values will remove every row\n",
    "- missing values are approx 1% of total data\n",
    "- therefore, the data will be imputed with the mean (numerical data) and the mode (categorical data)\n",
    "- data will be split into train and test (with minor data leakage)"
   ]
  },
  {
   "cell_type": "markdown",
   "metadata": {},
   "source": []
  },
  {
   "cell_type": "markdown",
   "metadata": {},
   "source": [
    "### Data Split"
   ]
  },
  {
   "cell_type": "markdown",
   "metadata": {},
   "source": [
    "There are 2 ways of splitting the data:\n",
    "1. Split the data into train, validation and test data. \n",
    "      - Pro: Avoids any data leakage.\n",
    "      - Con: More complicated and takes more time.\n",
    "2. Only split data into two parts: train and test.\n",
    "      - Pro: Easier and quick\n",
    "      - Con: When filling the missing values with mean, this will cause data leakage when validating the model.\n",
    "\n",
    "**'Split' Decision:** I have chosen the second method, and while this may cause the data leakage, the impact of only 1% data leakage of a column will beslim on the entire model.\n",
    "\n",
    "**For the record:** train, validation, and test splitting would be the ideal method"
   ]
  },
  {
   "cell_type": "code",
   "execution_count": 11,
   "metadata": {},
   "outputs": [],
   "source": [
    "X = df.drop(columns='y')\n",
    "label = df['y']"
   ]
  },
  {
   "cell_type": "code",
   "execution_count": 12,
   "metadata": {},
   "outputs": [],
   "source": [
    "X_train, X_test, label_train, label_test = train_test_split(X, label, test_size=0.20, random_state=42)"
   ]
  },
  {
   "cell_type": "markdown",
   "metadata": {},
   "source": [
    "## Data Wrangling"
   ]
  },
  {
   "cell_type": "markdown",
   "metadata": {},
   "source": [
    "## Data Imputation to be done after Train/test splitting to avoid data leakage"
   ]
  },
  {
   "cell_type": "markdown",
   "metadata": {},
   "source": [
    "### Convert column x57 numerical type"
   ]
  },
  {
   "cell_type": "code",
   "execution_count": 13,
   "metadata": {},
   "outputs": [
    {
     "name": "stderr",
     "output_type": "stream",
     "text": [
      "C:\\Users\\mvall\\anaconda3\\lib\\site-packages\\ipykernel_launcher.py:4: SettingWithCopyWarning: \n",
      "A value is trying to be set on a copy of a slice from a DataFrame.\n",
      "Try using .loc[row_indexer,col_indexer] = value instead\n",
      "\n",
      "See the caveats in the documentation: https://pandas.pydata.org/pandas-docs/stable/user_guide/indexing.html#returning-a-view-versus-a-copy\n",
      "  after removing the cwd from sys.path.\n"
     ]
    }
   ],
   "source": [
    "datasets = [X_train, X_test]\n",
    "\n",
    "for d in datasets:\n",
    "    d['x57'] = d['x57'].str.lstrip('$').astype(float)"
   ]
  },
  {
   "cell_type": "markdown",
   "metadata": {},
   "source": [
    "### Imputing the mode"
   ]
  },
  {
   "cell_type": "code",
   "execution_count": 14,
   "metadata": {},
   "outputs": [
    {
     "name": "stderr",
     "output_type": "stream",
     "text": [
      "C:\\Users\\mvall\\anaconda3\\lib\\site-packages\\ipykernel_launcher.py:5: SettingWithCopyWarning: \n",
      "A value is trying to be set on a copy of a slice from a DataFrame.\n",
      "Try using .loc[row_indexer,col_indexer] = value instead\n",
      "\n",
      "See the caveats in the documentation: https://pandas.pydata.org/pandas-docs/stable/user_guide/indexing.html#returning-a-view-versus-a-copy\n",
      "  \"\"\"\n"
     ]
    }
   ],
   "source": [
    "datasets = [X_train, X_test]\n",
    "\n",
    "for d in datasets:\n",
    "    for cl in ['x5','x6','x20','x27','x49']:\n",
    "        d[cl]= d[cl].fillna(d[cl].mode()[0],axis=0)       "
   ]
  },
  {
   "cell_type": "markdown",
   "metadata": {},
   "source": [
    "### Convert to numerical"
   ]
  },
  {
   "cell_type": "code",
   "execution_count": 15,
   "metadata": {
    "scrolled": false
   },
   "outputs": [
    {
     "name": "stderr",
     "output_type": "stream",
     "text": [
      "C:\\Users\\mvall\\anaconda3\\lib\\site-packages\\ipykernel_launcher.py:4: SettingWithCopyWarning: \n",
      "A value is trying to be set on a copy of a slice from a DataFrame.\n",
      "Try using .loc[row_indexer,col_indexer] = value instead\n",
      "\n",
      "See the caveats in the documentation: https://pandas.pydata.org/pandas-docs/stable/user_guide/indexing.html#returning-a-view-versus-a-copy\n",
      "  after removing the cwd from sys.path.\n"
     ]
    }
   ],
   "source": [
    "datasets = [X_train, X_test]\n",
    "\n",
    "for d in datasets:\n",
    "    d['x5'] = d['x5'].str.rstrip('%').apply(float)/100"
   ]
  },
  {
   "cell_type": "code",
   "execution_count": 16,
   "metadata": {
    "scrolled": false
   },
   "outputs": [
    {
     "name": "stderr",
     "output_type": "stream",
     "text": [
      "C:\\Users\\mvall\\anaconda3\\lib\\site-packages\\ipykernel_launcher.py:4: SettingWithCopyWarning: \n",
      "A value is trying to be set on a copy of a slice from a DataFrame.\n",
      "Try using .loc[row_indexer,col_indexer] = value instead\n",
      "\n",
      "See the caveats in the documentation: https://pandas.pydata.org/pandas-docs/stable/user_guide/indexing.html#returning-a-view-versus-a-copy\n",
      "  after removing the cwd from sys.path.\n"
     ]
    }
   ],
   "source": [
    "datasets = [X_train, X_test]\n",
    "\n",
    "for d in datasets:\n",
    "    d['x49'] = d['x49'].astype(int)"
   ]
  },
  {
   "cell_type": "markdown",
   "metadata": {},
   "source": [
    "### Impute the mean"
   ]
  },
  {
   "cell_type": "code",
   "execution_count": 17,
   "metadata": {
    "scrolled": true
   },
   "outputs": [
    {
     "name": "stderr",
     "output_type": "stream",
     "text": [
      "C:\\Users\\mvall\\anaconda3\\lib\\site-packages\\ipykernel_launcher.py:7: SettingWithCopyWarning: \n",
      "A value is trying to be set on a copy of a slice from a DataFrame.\n",
      "Try using .loc[row_indexer,col_indexer] = value instead\n",
      "\n",
      "See the caveats in the documentation: https://pandas.pydata.org/pandas-docs/stable/user_guide/indexing.html#returning-a-view-versus-a-copy\n",
      "  import sys\n"
     ]
    }
   ],
   "source": [
    "datasets = [X_train, X_test]\n",
    "categorical_cols = ['x5','x6','x20','x27','x49']\n",
    "nuclist = list(X_train.columns)\n",
    "for df in datasets:\n",
    "    for cl in nuclist:\n",
    "        if cl not in categorical_cols:\n",
    "            df[cl] = df[cl].fillna(df[cl].mean(),axis=0)\n",
    "    \n",
    "\n",
    "\n",
    "\n"
   ]
  },
  {
   "cell_type": "markdown",
   "metadata": {},
   "source": [
    "### Checking for any null values"
   ]
  },
  {
   "cell_type": "code",
   "execution_count": 18,
   "metadata": {
    "scrolled": true
   },
   "outputs": [
    {
     "name": "stdout",
     "output_type": "stream",
     "text": [
      "0\n",
      "0\n"
     ]
    }
   ],
   "source": [
    "datasets = [X_train, X_test] # CHECK ISNULL\n",
    "\n",
    "for df in datasets:\n",
    "    print(df.isnull().sum().sum())"
   ]
  },
  {
   "cell_type": "markdown",
   "metadata": {},
   "source": [
    "## One Hot Encoding"
   ]
  },
  {
   "cell_type": "code",
   "execution_count": null,
   "metadata": {},
   "outputs": [],
   "source": []
  },
  {
   "cell_type": "code",
   "execution_count": 19,
   "metadata": {},
   "outputs": [],
   "source": [
    "X2_train = pd.get_dummies(X_train, drop_first=True)\n",
    "X2_test = pd.get_dummies(X_test, drop_first=True)"
   ]
  },
  {
   "cell_type": "code",
   "execution_count": null,
   "metadata": {},
   "outputs": [],
   "source": []
  },
  {
   "cell_type": "code",
   "execution_count": 20,
   "metadata": {},
   "outputs": [],
   "source": [
    "y_train = label_train\n",
    "y_test = label_test"
   ]
  },
  {
   "cell_type": "code",
   "execution_count": 21,
   "metadata": {},
   "outputs": [
    {
     "name": "stdout",
     "output_type": "stream",
     "text": [
      "<class 'pandas.core.frame.DataFrame'>\n",
      "Int64Index: 6400 entries, 1467 to 7270\n",
      "Columns: 115 entries, x0 to x27_Night\n",
      "dtypes: float64(96), int32(1), uint8(18)\n",
      "memory usage: 4.9 MB\n"
     ]
    }
   ],
   "source": [
    "X2_train.info()"
   ]
  },
  {
   "cell_type": "code",
   "execution_count": 22,
   "metadata": {
    "scrolled": true
   },
   "outputs": [
    {
     "name": "stdout",
     "output_type": "stream",
     "text": [
      "<class 'pandas.core.frame.DataFrame'>\n",
      "Int64Index: 1600 entries, 2215 to 6832\n",
      "Columns: 115 entries, x0 to x27_Night\n",
      "dtypes: float64(96), int32(1), uint8(18)\n",
      "memory usage: 1.2 MB\n"
     ]
    }
   ],
   "source": [
    "X2_test.info()"
   ]
  },
  {
   "cell_type": "markdown",
   "metadata": {},
   "source": [
    "## Baseline Model"
   ]
  },
  {
   "cell_type": "markdown",
   "metadata": {},
   "source": [
    "### Target data imbalanced"
   ]
  },
  {
   "cell_type": "code",
   "execution_count": 23,
   "metadata": {
    "scrolled": true
   },
   "outputs": [
    {
     "data": {
      "text/plain": [
       "<AxesSubplot:>"
      ]
     },
     "execution_count": 23,
     "metadata": {},
     "output_type": "execute_result"
    },
    {
     "data": {
      "image/png": "[encoded data removed]",
      "text/plain": [
       "<Figure size 576x396 with 1 Axes>"
      ]
     },
     "metadata": {},
     "output_type": "display_data"
    }
   ],
   "source": [
    "y_train.value_counts().plot(kind = 'bar')"
   ]
  },
  {
   "cell_type": "code",
   "execution_count": 24,
   "metadata": {},
   "outputs": [
    {
     "data": {
      "text/plain": [
       "0    0.94375\n",
       "1    0.05625\n",
       "Name: y, dtype: float64"
      ]
     },
     "execution_count": 24,
     "metadata": {},
     "output_type": "execute_result"
    }
   ],
   "source": [
    "pd.Series(y_train).value_counts(normalize=True)"
   ]
  },
  {
   "cell_type": "markdown",
   "metadata": {},
   "source": [
    "## RESAMPLE"
   ]
  },
  {
   "cell_type": "code",
   "execution_count": null,
   "metadata": {},
   "outputs": [],
   "source": []
  },
  {
   "cell_type": "code",
   "execution_count": 25,
   "metadata": {},
   "outputs": [
    {
     "name": "stdout",
     "output_type": "stream",
     "text": [
      "(12080, 115) (12080,) (3042, 115) (3042,)\n"
     ]
    },
    {
     "data": {
      "text/plain": [
       "1    6040\n",
       "0    6040\n",
       "Name: y, dtype: int64"
      ]
     },
     "execution_count": 25,
     "metadata": {},
     "output_type": "execute_result"
    }
   ],
   "source": [
    "from imblearn.over_sampling import RandomOverSampler\n",
    "\n",
    "ros = RandomOverSampler(random_state=42)\n",
    "\n",
    "X_train_resampled, y_train_resampled = ros.fit_resample(X2_train, y_train)\n",
    "X_test_resampled, y_test_resampled = ros.fit_resample(X2_test, y_test)\n",
    "\n",
    "print(X_train_resampled.shape, y_train_resampled.shape,X_test_resampled.shape, y_test_resampled.shape)\n",
    "\n",
    "pd.Series(y_train_resampled).value_counts()"
   ]
  },
  {
   "cell_type": "markdown",
   "metadata": {},
   "source": [
    "## SCALED"
   ]
  },
  {
   "cell_type": "code",
   "execution_count": 26,
   "metadata": {},
   "outputs": [],
   "source": [
    "from sklearn.preprocessing import StandardScaler\n",
    "\n",
    "scaler = StandardScaler()\n",
    "\n",
    "X_train_scaled = scaler.fit_transform(X_train_resampled)\n",
    "\n",
    "X_test_scaled = scaler.transform(X_test_resampled)"
   ]
  },
  {
   "cell_type": "code",
   "execution_count": null,
   "metadata": {},
   "outputs": [],
   "source": []
  },
  {
   "cell_type": "code",
   "execution_count": null,
   "metadata": {},
   "outputs": [],
   "source": []
  },
  {
   "cell_type": "markdown",
   "metadata": {},
   "source": [
    "### Since this is a fraud detection system, the focus is on the accuracy of detecting the fraud -- False Negative. \n",
    "### Therefore the `recall` metric is very important in addtion to ROC."
   ]
  },
  {
   "cell_type": "code",
   "execution_count": 27,
   "metadata": {
    "scrolled": true
   },
   "outputs": [
    {
     "data": {
      "text/plain": [
       "0.7917218543046357"
      ]
     },
     "execution_count": 27,
     "metadata": {},
     "output_type": "execute_result"
    }
   ],
   "source": [
    "from sklearn.model_selection import cross_validate \n",
    "from sklearn.linear_model import LogisticRegression\n",
    "\n",
    "lr = LogisticRegression()\n",
    "score  = cross_validate(lr,X_train_scaled, y_train_resampled, cv=5, scoring=['recall'] ) \n",
    "\n",
    "score['test_recall'].mean()"
   ]
  },
  {
   "cell_type": "code",
   "execution_count": 28,
   "metadata": {},
   "outputs": [],
   "source": [
    "lr.fit(X_train_scaled,y_train_resampled)\n",
    "y_pred_resampled = lr.predict(X_test_scaled)"
   ]
  },
  {
   "cell_type": "code",
   "execution_count": 29,
   "metadata": {
    "scrolled": false
   },
   "outputs": [
    {
     "name": "stdout",
     "output_type": "stream",
     "text": [
      "              precision    recall  f1-score   support\n",
      "\n",
      "           0       0.74      0.76      0.75      1521\n",
      "           1       0.75      0.73      0.74      1521\n",
      "\n",
      "    accuracy                           0.75      3042\n",
      "   macro avg       0.75      0.75      0.75      3042\n",
      "weighted avg       0.75      0.75      0.75      3042\n",
      "\n"
     ]
    }
   ],
   "source": [
    "from sklearn.metrics import classification_report \n",
    "\n",
    "print(classification_report(y_test_resampled,y_pred_resampled)) "
   ]
  },
  {
   "cell_type": "markdown",
   "metadata": {},
   "source": [
    "### Baseline model score\n",
    "### Recall is 0.73"
   ]
  },
  {
   "cell_type": "code",
   "execution_count": 30,
   "metadata": {
    "scrolled": true
   },
   "outputs": [
    {
     "data": {
      "text/plain": [
       "<sklearn.metrics._plot.roc_curve.RocCurveDisplay at 0x1bfb43978c8>"
      ]
     },
     "execution_count": 30,
     "metadata": {},
     "output_type": "execute_result"
    },
    {
     "data": {
      "image/png": "[encoded data removed]",
      "text/plain": [
       "<Figure size 576x396 with 1 Axes>"
      ]
     },
     "metadata": {},
     "output_type": "display_data"
    }
   ],
   "source": [
    "from sklearn.metrics import plot_roc_curve\n",
    "plot_roc_curve(lr, X2_test,y_test)"
   ]
  },
  {
   "cell_type": "code",
   "execution_count": 56,
   "metadata": {},
   "outputs": [
    {
     "data": {
      "text/plain": [
       "<sklearn.metrics._plot.roc_curve.RocCurveDisplay at 0x1bfb375fe88>"
      ]
     },
     "execution_count": 56,
     "metadata": {},
     "output_type": "execute_result"
    },
    {
     "data": {
      "image/png": "[encoded data removed]",
      "text/plain": [
       "<Figure size 576x396 with 1 Axes>"
      ]
     },
     "metadata": {},
     "output_type": "display_data"
    }
   ],
   "source": [
    "plot_roc_curve(lr, X_test_resampled,y_test_resampled)"
   ]
  },
  {
   "cell_type": "code",
   "execution_count": null,
   "metadata": {},
   "outputs": [],
   "source": [
    "\n",
    "roc_auc_score(y_test_resampled,y_pred_resampled)"
   ]
  },
  {
   "cell_type": "code",
   "execution_count": null,
   "metadata": {},
   "outputs": [],
   "source": []
  },
  {
   "cell_type": "markdown",
   "metadata": {},
   "source": [
    "## Pipeline Models"
   ]
  },
  {
   "cell_type": "markdown",
   "metadata": {},
   "source": [
    "### Single models will be created first as the bank is needs a fast model for daily live operations.\n",
    "### Usually a single machine learning model is faster than stacking models."
   ]
  },
  {
   "cell_type": "markdown",
   "metadata": {},
   "source": [
    "### Logistic Regression\n",
    "### The model is now being fine tuned with piopeline and Gridsearch"
   ]
  },
  {
   "cell_type": "code",
   "execution_count": 53,
   "metadata": {},
   "outputs": [
    {
     "name": "stderr",
     "output_type": "stream",
     "text": [
      "C:\\Users\\mvall\\anaconda3\\lib\\site-packages\\sklearn\\linear_model\\_logistic.py:764: ConvergenceWarning: lbfgs failed to converge (status=1):\n",
      "STOP: TOTAL NO. of ITERATIONS REACHED LIMIT.\n",
      "\n",
      "Increase the number of iterations (max_iter) or scale the data as shown in:\n",
      "    https://scikit-learn.org/stable/modules/preprocessing.html\n",
      "Please also refer to the documentation for alternative solver options:\n",
      "    https://scikit-learn.org/stable/modules/linear_model.html#logistic-regression\n",
      "  extra_warning_msg=_LOGISTIC_SOLVER_CONVERGENCE_MSG)\n",
      "C:\\Users\\mvall\\anaconda3\\lib\\site-packages\\sklearn\\linear_model\\_logistic.py:764: ConvergenceWarning: lbfgs failed to converge (status=1):\n",
      "STOP: TOTAL NO. of ITERATIONS REACHED LIMIT.\n",
      "\n",
      "Increase the number of iterations (max_iter) or scale the data as shown in:\n",
      "    https://scikit-learn.org/stable/modules/preprocessing.html\n",
      "Please also refer to the documentation for alternative solver options:\n",
      "    https://scikit-learn.org/stable/modules/linear_model.html#logistic-regression\n",
      "  extra_warning_msg=_LOGISTIC_SOLVER_CONVERGENCE_MSG)\n",
      "C:\\Users\\mvall\\anaconda3\\lib\\site-packages\\sklearn\\linear_model\\_logistic.py:764: ConvergenceWarning: lbfgs failed to converge (status=1):\n",
      "STOP: TOTAL NO. of ITERATIONS REACHED LIMIT.\n",
      "\n",
      "Increase the number of iterations (max_iter) or scale the data as shown in:\n",
      "    https://scikit-learn.org/stable/modules/preprocessing.html\n",
      "Please also refer to the documentation for alternative solver options:\n",
      "    https://scikit-learn.org/stable/modules/linear_model.html#logistic-regression\n",
      "  extra_warning_msg=_LOGISTIC_SOLVER_CONVERGENCE_MSG)\n",
      "C:\\Users\\mvall\\anaconda3\\lib\\site-packages\\sklearn\\linear_model\\_logistic.py:764: ConvergenceWarning: lbfgs failed to converge (status=1):\n",
      "STOP: TOTAL NO. of ITERATIONS REACHED LIMIT.\n",
      "\n",
      "Increase the number of iterations (max_iter) or scale the data as shown in:\n",
      "    https://scikit-learn.org/stable/modules/preprocessing.html\n",
      "Please also refer to the documentation for alternative solver options:\n",
      "    https://scikit-learn.org/stable/modules/linear_model.html#logistic-regression\n",
      "  extra_warning_msg=_LOGISTIC_SOLVER_CONVERGENCE_MSG)\n",
      "C:\\Users\\mvall\\anaconda3\\lib\\site-packages\\sklearn\\linear_model\\_logistic.py:764: ConvergenceWarning: lbfgs failed to converge (status=1):\n",
      "STOP: TOTAL NO. of ITERATIONS REACHED LIMIT.\n",
      "\n",
      "Increase the number of iterations (max_iter) or scale the data as shown in:\n",
      "    https://scikit-learn.org/stable/modules/preprocessing.html\n",
      "Please also refer to the documentation for alternative solver options:\n",
      "    https://scikit-learn.org/stable/modules/linear_model.html#logistic-regression\n",
      "  extra_warning_msg=_LOGISTIC_SOLVER_CONVERGENCE_MSG)\n",
      "C:\\Users\\mvall\\anaconda3\\lib\\site-packages\\sklearn\\linear_model\\_logistic.py:764: ConvergenceWarning: lbfgs failed to converge (status=1):\n",
      "STOP: TOTAL NO. of ITERATIONS REACHED LIMIT.\n",
      "\n",
      "Increase the number of iterations (max_iter) or scale the data as shown in:\n",
      "    https://scikit-learn.org/stable/modules/preprocessing.html\n",
      "Please also refer to the documentation for alternative solver options:\n",
      "    https://scikit-learn.org/stable/modules/linear_model.html#logistic-regression\n",
      "  extra_warning_msg=_LOGISTIC_SOLVER_CONVERGENCE_MSG)\n",
      "C:\\Users\\mvall\\anaconda3\\lib\\site-packages\\sklearn\\linear_model\\_logistic.py:764: ConvergenceWarning: lbfgs failed to converge (status=1):\n",
      "STOP: TOTAL NO. of ITERATIONS REACHED LIMIT.\n",
      "\n",
      "Increase the number of iterations (max_iter) or scale the data as shown in:\n",
      "    https://scikit-learn.org/stable/modules/preprocessing.html\n",
      "Please also refer to the documentation for alternative solver options:\n",
      "    https://scikit-learn.org/stable/modules/linear_model.html#logistic-regression\n",
      "  extra_warning_msg=_LOGISTIC_SOLVER_CONVERGENCE_MSG)\n",
      "C:\\Users\\mvall\\anaconda3\\lib\\site-packages\\sklearn\\linear_model\\_logistic.py:764: ConvergenceWarning: lbfgs failed to converge (status=1):\n",
      "STOP: TOTAL NO. of ITERATIONS REACHED LIMIT.\n",
      "\n",
      "Increase the number of iterations (max_iter) or scale the data as shown in:\n",
      "    https://scikit-learn.org/stable/modules/preprocessing.html\n",
      "Please also refer to the documentation for alternative solver options:\n",
      "    https://scikit-learn.org/stable/modules/linear_model.html#logistic-regression\n",
      "  extra_warning_msg=_LOGISTIC_SOLVER_CONVERGENCE_MSG)\n",
      "C:\\Users\\mvall\\anaconda3\\lib\\site-packages\\sklearn\\linear_model\\_logistic.py:764: ConvergenceWarning: lbfgs failed to converge (status=1):\n",
      "STOP: TOTAL NO. of ITERATIONS REACHED LIMIT.\n",
      "\n",
      "Increase the number of iterations (max_iter) or scale the data as shown in:\n",
      "    https://scikit-learn.org/stable/modules/preprocessing.html\n",
      "Please also refer to the documentation for alternative solver options:\n",
      "    https://scikit-learn.org/stable/modules/linear_model.html#logistic-regression\n",
      "  extra_warning_msg=_LOGISTIC_SOLVER_CONVERGENCE_MSG)\n",
      "C:\\Users\\mvall\\anaconda3\\lib\\site-packages\\sklearn\\linear_model\\_logistic.py:764: ConvergenceWarning: lbfgs failed to converge (status=1):\n",
      "STOP: TOTAL NO. of ITERATIONS REACHED LIMIT.\n",
      "\n",
      "Increase the number of iterations (max_iter) or scale the data as shown in:\n",
      "    https://scikit-learn.org/stable/modules/preprocessing.html\n",
      "Please also refer to the documentation for alternative solver options:\n",
      "    https://scikit-learn.org/stable/modules/linear_model.html#logistic-regression\n",
      "  extra_warning_msg=_LOGISTIC_SOLVER_CONVERGENCE_MSG)\n",
      "C:\\Users\\mvall\\anaconda3\\lib\\site-packages\\sklearn\\linear_model\\_logistic.py:764: ConvergenceWarning: lbfgs failed to converge (status=1):\n",
      "STOP: TOTAL NO. of ITERATIONS REACHED LIMIT.\n",
      "\n",
      "Increase the number of iterations (max_iter) or scale the data as shown in:\n",
      "    https://scikit-learn.org/stable/modules/preprocessing.html\n",
      "Please also refer to the documentation for alternative solver options:\n",
      "    https://scikit-learn.org/stable/modules/linear_model.html#logistic-regression\n",
      "  extra_warning_msg=_LOGISTIC_SOLVER_CONVERGENCE_MSG)\n"
     ]
    },
    {
     "name": "stdout",
     "output_type": "stream",
     "text": [
      "Pipeline(steps=[('standardscaler', StandardScaler()),\n",
      "                ('logisticregression',\n",
      "                 LogisticRegression(C=21.544346900318832, random_state=42))])\n"
     ]
    }
   ],
   "source": [
    "\n",
    "grid_param = [{\"logisticregression__C\": np.logspace(0, 4, 10),\n",
    "              \"logisticregression__random_state\":[42]}]\n",
    "\n",
    "gridsearch = GridSearchCV(make_pipeline(StandardScaler(), LogisticRegression()),grid_param,cv=5,verbose=0)\n",
    "\n",
    "lr = gridsearch.fit(X_train_resampled,y_train_resampled)\n",
    "\n",
    "\n",
    "print(lr.best_estimator_)"
   ]
  },
  {
   "cell_type": "code",
   "execution_count": 54,
   "metadata": {},
   "outputs": [
    {
     "name": "stdout",
     "output_type": "stream",
     "text": [
      "              precision    recall  f1-score   support\n",
      "\n",
      "           0       0.74      0.76      0.75      1521\n",
      "           1       0.76      0.73      0.74      1521\n",
      "\n",
      "    accuracy                           0.75      3042\n",
      "   macro avg       0.75      0.75      0.75      3042\n",
      "weighted avg       0.75      0.75      0.75      3042\n",
      "\n"
     ]
    }
   ],
   "source": [
    "y_lr_pred_resampled = lr.predict(X_test_resampled)\n",
    "print(classification_report(y_test_resampled,y_lr_pred_resampled))"
   ]
  },
  {
   "cell_type": "markdown",
   "metadata": {},
   "source": [
    "### Recall is .73 for tuned Logistic Regression model"
   ]
  },
  {
   "cell_type": "code",
   "execution_count": 55,
   "metadata": {},
   "outputs": [
    {
     "data": {
      "text/plain": [
       "0.7458908612754768"
      ]
     },
     "execution_count": 55,
     "metadata": {},
     "output_type": "execute_result"
    }
   ],
   "source": [
    "\n",
    "roc_auc_score(y_test_resampled,y_lr_pred_resampled)"
   ]
  },
  {
   "cell_type": "markdown",
   "metadata": {},
   "source": [
    "### AUC ROC is .75 for tuned Logistic Regression model"
   ]
  },
  {
   "cell_type": "markdown",
   "metadata": {},
   "source": [
    "## Random Forest"
   ]
  },
  {
   "cell_type": "code",
   "execution_count": null,
   "metadata": {},
   "outputs": [],
   "source": [
    "\n",
    "grid_param = [{\"n_estimators\": [10,50,100],\n",
    "               \"max_depth\":[5,8,15,30,None],\n",
    "               \"min_samples_leaf\":[1,2,5,10,15],\n",
    "               \"max_leaf_nodes\": [2, 5,10]}]\n",
    "\n",
    "gridsearch = GridSearchCV(RandomForestClassifier(),grid_param,cv=5,verbose=0, n_jobs = -1)\n",
    "\n",
    "best_model_rf = gridsearch.fit(X_train_resampled,y_train_resampled)\n",
    "\n",
    "\n",
    "print(best_model_rf.best_estimator_)\n"
   ]
  },
  {
   "cell_type": "code",
   "execution_count": null,
   "metadata": {},
   "outputs": [],
   "source": [
    "y_rf_pred_resampled = best_model_rf.predict(X_test_resampled)\n",
    "print(classification_report(y_test_resampled,y_rf_pred_resampled))"
   ]
  },
  {
   "cell_type": "markdown",
   "metadata": {},
   "source": [
    "### Recall is 0.79 for Random Forest"
   ]
  },
  {
   "cell_type": "code",
   "execution_count": null,
   "metadata": {},
   "outputs": [],
   "source": [
    "\n",
    "roc_auc_score(y_test_resampled,y_rf_pred_resampled)"
   ]
  },
  {
   "cell_type": "markdown",
   "metadata": {},
   "source": [
    "### AUC ROC is .79 for Random Forest model"
   ]
  },
  {
   "cell_type": "markdown",
   "metadata": {},
   "source": [
    "### XGBoostClassifier"
   ]
  },
  {
   "cell_type": "code",
   "execution_count": null,
   "metadata": {},
   "outputs": [],
   "source": [
    "\n",
    "pipe = Pipeline([('scalar1',StandardScaler()),(\"classifier\", XGBClassifier())])\n",
    "\n",
    "estimators = [('xgb', XGBClassifier())]\n",
    "\n",
    "grid_param = {'classifier__min_child_weight': [1, 5, 10],\n",
    "              'classifier__gamma': [0.5, 1, 1.5, 2, 5],\n",
    "              'classifier__subsample': [0.6, 0.8, 1.0],\n",
    "              'classifier__colsample_bytree': [0.6, 0.8, 1.0],\n",
    "              'classifier__max_depth': [3, 4, 5]\n",
    "              }\n",
    "\n",
    "\n",
    "gridsearch = GridSearchCV(pipe,grid_param,cv=5,verbose=0)\n",
    "\n",
    "xgb = gridsearch.fit(X_train_resampled,y_train_resampled)\n",
    "\n",
    "\n",
    "print(xgb.best_estimator_)\n"
   ]
  },
  {
   "cell_type": "code",
   "execution_count": null,
   "metadata": {},
   "outputs": [],
   "source": [
    "y_xgb_pred_resampled = xgb.predict(X_test_resampled)\n",
    "print(classification_report(y_test_resampled,y_xgb_pred_resampled))"
   ]
  },
  {
   "cell_type": "markdown",
   "metadata": {},
   "source": [
    "### Recall score of 0.62 for XGBoost model"
   ]
  },
  {
   "cell_type": "code",
   "execution_count": null,
   "metadata": {},
   "outputs": [],
   "source": [
    "\n",
    "plot_roc_curve(xgb,X_test_resampled,y_test_resampled)"
   ]
  },
  {
   "cell_type": "code",
   "execution_count": null,
   "metadata": {},
   "outputs": [],
   "source": [
    "roc_auc_score(y_test_resampled,y_xgb_pred_resampled)"
   ]
  },
  {
   "cell_type": "markdown",
   "metadata": {},
   "source": [
    "### AUC ROC is 0.80 for XGBoost model"
   ]
  },
  {
   "cell_type": "markdown",
   "metadata": {},
   "source": [
    "## STACKING"
   ]
  },
  {
   "cell_type": "code",
   "execution_count": null,
   "metadata": {},
   "outputs": [],
   "source": [
    "\n",
    "estimators = [\n",
    "    ('lr', LogisticRegression(C=21.544346900318832, random_state=42)),\n",
    "    ('rf', RandomForestClassifier(max_depth=8, max_leaf_nodes=10, min_samples_leaf=10,\n",
    "                       n_estimators=50)),\n",
    "    ('xb', XGBClassifier(base_score=0.5, booster='gbtree',\n",
    "                               colsample_bylevel=1, colsample_bynode=1,\n",
    "                               colsample_bytree=0.6, gamma=0.5, gpu_id=-1,\n",
    "                               importance_type='gain',\n",
    "                               interaction_constraints='',\n",
    "                               learning_rate=0.300000012, max_delta_step=0,\n",
    "                               max_depth=5, min_child_weight=1,\n",
    "                               monotone_constraints='()', n_estimators=100,\n",
    "                               n_jobs=0, num_parallel_tree=1, random_state=0,\n",
    "                               reg_alpha=0, reg_lambda=1, scale_pos_weight=1,\n",
    "                               subsample=0.6, tree_method='exact',\n",
    "                               validate_parameters=1, verbosity=None)),\n",
    "\n",
    "    \n",
    "]\n",
    "\n",
    "st_model = StackingClassifier(\n",
    "    estimators=estimators, final_estimator=RandomForestClassifier()\n",
    ")"
   ]
  },
  {
   "cell_type": "code",
   "execution_count": null,
   "metadata": {},
   "outputs": [],
   "source": [
    "st_model.fit(X_train_resampled,y_train_resampled)"
   ]
  },
  {
   "cell_type": "code",
   "execution_count": null,
   "metadata": {},
   "outputs": [],
   "source": [
    "y_st_pred_resampled = st_model.predict(X_test_resampled)\n",
    "print(classification_report(y_test_resampled,y_st_pred_resampled))"
   ]
  },
  {
   "cell_type": "markdown",
   "metadata": {},
   "source": [
    "### Recall is 0.28 for Stacking Model"
   ]
  },
  {
   "cell_type": "code",
   "execution_count": null,
   "metadata": {},
   "outputs": [],
   "source": [
    "plot_roc_curve(st_model,X_test_resampled,y_test_resampled)"
   ]
  },
  {
   "cell_type": "code",
   "execution_count": null,
   "metadata": {},
   "outputs": [],
   "source": [
    "roc_auc_score(y_test_resampled,y_st_pred_resampled)"
   ]
  },
  {
   "cell_type": "markdown",
   "metadata": {},
   "source": [
    "### AUC ROC is 0.64 for Stacking model"
   ]
  },
  {
   "cell_type": "markdown",
   "metadata": {},
   "source": [
    "## Model Recommendation"
   ]
  },
  {
   "cell_type": "markdown",
   "metadata": {},
   "source": [
    "### Random Forest: a mid/high run rate (over 45 min) but best all around AUC ROC & Recall scores\n",
    "### XGBoost: while this model had (barely) the highest AUC ROC score, it's low Recall score (0.62) and it's extremely high runtime time (many hours!) disqualified it as the recommended model"
   ]
  },
  {
   "cell_type": "code",
   "execution_count": null,
   "metadata": {},
   "outputs": [],
   "source": []
  },
  {
   "cell_type": "markdown",
   "metadata": {},
   "source": [
    "## Pipeline"
   ]
  },
  {
   "cell_type": "markdown",
   "metadata": {},
   "source": [
    "### RESAMPLING"
   ]
  },
  {
   "cell_type": "code",
   "execution_count": null,
   "metadata": {},
   "outputs": [],
   "source": [
    "\n",
    "from imblearn.over_sampling import RandomOverSampler\n",
    "\n",
    "ros = RandomOverSampler(random_state=42)\n",
    "\n",
    "X_train_resampled, y_train_resampled = ros.fit_resample(X2_train, y_train)"
   ]
  },
  {
   "cell_type": "markdown",
   "metadata": {},
   "source": [
    "### Build the model"
   ]
  },
  {
   "cell_type": "code",
   "execution_count": null,
   "metadata": {},
   "outputs": [],
   "source": [
    "\n",
    "grid_param = [{\"n_estimators\": [10,50,100],\n",
    "               \"max_depth\":[5,8,15,30,None],\n",
    "               \"min_samples_leaf\":[1,2,5,10,15],\n",
    "               \"max_leaf_nodes\": [2, 5,10]}]\n",
    "\n",
    "gridsearch = GridSearchCV(RandomForestClassifier(),grid_param,cv=5,verbose=0, n_jobs = -1)"
   ]
  },
  {
   "cell_type": "markdown",
   "metadata": {},
   "source": [
    "### Train the model"
   ]
  },
  {
   "cell_type": "code",
   "execution_count": null,
   "metadata": {},
   "outputs": [],
   "source": [
    "\n",
    "model= gridsearch.fit(X_train_resampled,y_train_resampled)"
   ]
  },
  {
   "cell_type": "markdown",
   "metadata": {},
   "source": [
    "### Prediction"
   ]
  },
  {
   "cell_type": "code",
   "execution_count": null,
   "metadata": {},
   "outputs": [],
   "source": [
    "\n",
    "X_test_resampled, y_test_resampled = ros.fit_resample(X2_test, y_test)"
   ]
  },
  {
   "cell_type": "code",
   "execution_count": null,
   "metadata": {},
   "outputs": [],
   "source": [
    "y_pred = model.predict(X_test_resampled)"
   ]
  },
  {
   "cell_type": "markdown",
   "metadata": {},
   "source": [
    "### Model evaluation"
   ]
  },
  {
   "cell_type": "code",
   "execution_count": null,
   "metadata": {},
   "outputs": [],
   "source": [
    "\n",
    "roc_auc_score(y_test_resampled,y_pred)"
   ]
  },
  {
   "cell_type": "code",
   "execution_count": null,
   "metadata": {},
   "outputs": [],
   "source": []
  },
  {
   "cell_type": "markdown",
   "metadata": {},
   "source": [
    "## Changing the probability threshhold"
   ]
  },
  {
   "cell_type": "markdown",
   "metadata": {},
   "source": [
    "### Threshhold 25%"
   ]
  },
  {
   "cell_type": "code",
   "execution_count": 46,
   "metadata": {},
   "outputs": [],
   "source": [
    "y_proba = lr.predict_proba(X_test_scaled)[:, 1] "
   ]
  },
  {
   "cell_type": "code",
   "execution_count": 47,
   "metadata": {},
   "outputs": [],
   "source": [
    "y_pred2_resampled = (y_proba >= .25).astype(int)"
   ]
  },
  {
   "cell_type": "code",
   "execution_count": 48,
   "metadata": {
    "scrolled": true
   },
   "outputs": [
    {
     "name": "stdout",
     "output_type": "stream",
     "text": [
      "              precision    recall  f1-score   support\n",
      "\n",
      "           0       0.85      0.53      0.66      1521\n",
      "           1       0.66      0.91      0.76      1521\n",
      "\n",
      "    accuracy                           0.72      3042\n",
      "   macro avg       0.76      0.72      0.71      3042\n",
      "weighted avg       0.76      0.72      0.71      3042\n",
      "\n"
     ]
    }
   ],
   "source": [
    "print(classification_report(y_test_resampled,y_pred2_resampled)) "
   ]
  },
  {
   "cell_type": "markdown",
   "metadata": {},
   "source": [
    "### RECALL of .87"
   ]
  },
  {
   "cell_type": "markdown",
   "metadata": {},
   "source": [
    "### Threshhold 75%"
   ]
  },
  {
   "cell_type": "code",
   "execution_count": 49,
   "metadata": {},
   "outputs": [],
   "source": [
    "y_proba = lr.predict_proba(X_test_scaled)[:, 1] "
   ]
  },
  {
   "cell_type": "code",
   "execution_count": 50,
   "metadata": {},
   "outputs": [],
   "source": [
    "y_pred3_resampled = (y_proba >= .75).astype(int)"
   ]
  },
  {
   "cell_type": "code",
   "execution_count": 51,
   "metadata": {
    "scrolled": true
   },
   "outputs": [
    {
     "name": "stdout",
     "output_type": "stream",
     "text": [
      "              precision    recall  f1-score   support\n",
      "\n",
      "           0       0.64      0.92      0.76      1521\n",
      "           1       0.85      0.49      0.63      1521\n",
      "\n",
      "    accuracy                           0.70      3042\n",
      "   macro avg       0.75      0.70      0.69      3042\n",
      "weighted avg       0.75      0.70      0.69      3042\n",
      "\n"
     ]
    }
   ],
   "source": [
    "print(classification_report(y_test_resampled,y_pred3_resampled)) "
   ]
  },
  {
   "cell_type": "markdown",
   "metadata": {},
   "source": [
    "### RECALL of .47"
   ]
  },
  {
   "cell_type": "markdown",
   "metadata": {},
   "source": []
  }
 ],
 "metadata": {
  "kernelspec": {
   "display_name": "Python 3",
   "language": "python",
   "name": "python3"
  },
  "language_info": {
   "codemirror_mode": {
    "name": "ipython",
    "version": 3
   },
   "file_extension": ".py",
   "mimetype": "text/x-python",
   "name": "python",
   "nbconvert_exporter": "python",
   "pygments_lexer": "ipython3",
   "version": "3.7.6"
  }
 },
 "nbformat": 4,
 "nbformat_minor": 4
}
